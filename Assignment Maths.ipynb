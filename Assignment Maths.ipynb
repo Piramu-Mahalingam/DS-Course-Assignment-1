{
  "nbformat": 4,
  "nbformat_minor": 0,
  "metadata": {
    "colab": {
      "provenance": [],
      "authorship_tag": "ABX9TyOeoJHgFXLfOCkO4OA1RByT",
      "include_colab_link": true
    },
    "kernelspec": {
      "name": "python3",
      "display_name": "Python 3"
    },
    "language_info": {
      "name": "python"
    }
  },
  "cells": [
    {
      "cell_type": "markdown",
      "metadata": {
        "id": "view-in-github",
        "colab_type": "text"
      },
      "source": [
        "<a href=\"https://colab.research.google.com/github/Piramu-Mahalingam/DS-Course-Assignment-1/blob/main/Assignment%20Maths.ipynb\" target=\"_parent\"><img src=\"https://colab.research.google.com/assets/colab-badge.svg\" alt=\"Open In Colab\"/></a>"
      ]
    },
    {
      "cell_type": "markdown",
      "source": [
        "**Assignment - Maths and Descriptive Statistics -  Piramu M**"
      ],
      "metadata": {
        "id": "f9L5O5Nf-4xf"
      }
    },
    {
      "cell_type": "markdown",
      "source": [
        "Load the data csv file"
      ],
      "metadata": {
        "id": "ofaQBJNk_M39"
      }
    },
    {
      "cell_type": "code",
      "source": [],
      "metadata": {
        "id": "STIf090l_Hov"
      },
      "execution_count": null,
      "outputs": []
    }
  ]
}