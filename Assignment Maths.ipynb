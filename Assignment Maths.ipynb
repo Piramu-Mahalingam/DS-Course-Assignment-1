{
  "nbformat": 4,
  "nbformat_minor": 0,
  "metadata": {
    "colab": {
      "provenance": [],
      "authorship_tag": "ABX9TyP4gts/0HYtDncCzItDK/Le",
      "include_colab_link": true
    },
    "kernelspec": {
      "name": "python3",
      "display_name": "Python 3"
    },
    "language_info": {
      "name": "python"
    }
  },
  "cells": [
    {
      "cell_type": "markdown",
      "metadata": {
        "id": "view-in-github",
        "colab_type": "text"
      },
      "source": [
        "<a href=\"https://colab.research.google.com/github/Piramu-Mahalingam/DS-Course-Assignment-1/blob/main/Assignment%20Maths.ipynb\" target=\"_parent\"><img src=\"https://colab.research.google.com/assets/colab-badge.svg\" alt=\"Open In Colab\"/></a>"
      ]
    },
    {
      "cell_type": "markdown",
      "source": [
        "**Assignment - Maths and Descriptive Statistics -  Piramu M**"
      ],
      "metadata": {
        "id": "f9L5O5Nf-4xf"
      }
    },
    {
      "cell_type": "markdown",
      "source": [
        "Load the data csv file"
      ],
      "metadata": {
        "id": "ofaQBJNk_M39"
      }
    },
    {
      "cell_type": "code",
      "source": [
        "import pandas as pd\n",
        "\n",
        "# Load the dataset\n",
        "# Corrected the path with forward slash\n",
        "fpath = \"/content/Diamond .csv\"\n",
        "df = pd.read_csv(fpath)\n",
        "\n",
        "# Display the first few rows to understand its structure\n",
        "df.head()"
      ],
      "metadata": {
        "id": "STIf090l_Hov",
        "outputId": "d4740acf-d460-42c7-bc11-a287883586f2",
        "colab": {
          "base_uri": "https://localhost:8080/",
          "height": 206
        }
      },
      "execution_count": 11,
      "outputs": [
        {
          "output_type": "execute_result",
          "data": {
            "text/plain": [
              "   carat      cut color clarity  depth  table  weight  size  price\n",
              "0   0.23    Ideal     E     SI2   61.5   55.0    3.95  3.98    326\n",
              "1   0.21  Premium     E     SI1   59.8   61.0    3.89  3.84    326\n",
              "2   0.23     Good     E     VS1   56.9   65.0    4.05  4.07    327\n",
              "3   0.29  Premium     I     VS2   62.4   58.0    4.20  4.23    334\n",
              "4   0.31     Good     J     SI2   63.3   58.0    4.34  4.35    335"
            ],
            "text/html": [
              "\n",
              "  <div id=\"df-053b43bf-2ba4-4cd3-8d3e-ae7f8925283b\" class=\"colab-df-container\">\n",
              "    <div>\n",
              "<style scoped>\n",
              "    .dataframe tbody tr th:only-of-type {\n",
              "        vertical-align: middle;\n",
              "    }\n",
              "\n",
              "    .dataframe tbody tr th {\n",
              "        vertical-align: top;\n",
              "    }\n",
              "\n",
              "    .dataframe thead th {\n",
              "        text-align: right;\n",
              "    }\n",
              "</style>\n",
              "<table border=\"1\" class=\"dataframe\">\n",
              "  <thead>\n",
              "    <tr style=\"text-align: right;\">\n",
              "      <th></th>\n",
              "      <th>carat</th>\n",
              "      <th>cut</th>\n",
              "      <th>color</th>\n",
              "      <th>clarity</th>\n",
              "      <th>depth</th>\n",
              "      <th>table</th>\n",
              "      <th>weight</th>\n",
              "      <th>size</th>\n",
              "      <th>price</th>\n",
              "    </tr>\n",
              "  </thead>\n",
              "  <tbody>\n",
              "    <tr>\n",
              "      <th>0</th>\n",
              "      <td>0.23</td>\n",
              "      <td>Ideal</td>\n",
              "      <td>E</td>\n",
              "      <td>SI2</td>\n",
              "      <td>61.5</td>\n",
              "      <td>55.0</td>\n",
              "      <td>3.95</td>\n",
              "      <td>3.98</td>\n",
              "      <td>326</td>\n",
              "    </tr>\n",
              "    <tr>\n",
              "      <th>1</th>\n",
              "      <td>0.21</td>\n",
              "      <td>Premium</td>\n",
              "      <td>E</td>\n",
              "      <td>SI1</td>\n",
              "      <td>59.8</td>\n",
              "      <td>61.0</td>\n",
              "      <td>3.89</td>\n",
              "      <td>3.84</td>\n",
              "      <td>326</td>\n",
              "    </tr>\n",
              "    <tr>\n",
              "      <th>2</th>\n",
              "      <td>0.23</td>\n",
              "      <td>Good</td>\n",
              "      <td>E</td>\n",
              "      <td>VS1</td>\n",
              "      <td>56.9</td>\n",
              "      <td>65.0</td>\n",
              "      <td>4.05</td>\n",
              "      <td>4.07</td>\n",
              "      <td>327</td>\n",
              "    </tr>\n",
              "    <tr>\n",
              "      <th>3</th>\n",
              "      <td>0.29</td>\n",
              "      <td>Premium</td>\n",
              "      <td>I</td>\n",
              "      <td>VS2</td>\n",
              "      <td>62.4</td>\n",
              "      <td>58.0</td>\n",
              "      <td>4.20</td>\n",
              "      <td>4.23</td>\n",
              "      <td>334</td>\n",
              "    </tr>\n",
              "    <tr>\n",
              "      <th>4</th>\n",
              "      <td>0.31</td>\n",
              "      <td>Good</td>\n",
              "      <td>J</td>\n",
              "      <td>SI2</td>\n",
              "      <td>63.3</td>\n",
              "      <td>58.0</td>\n",
              "      <td>4.34</td>\n",
              "      <td>4.35</td>\n",
              "      <td>335</td>\n",
              "    </tr>\n",
              "  </tbody>\n",
              "</table>\n",
              "</div>\n",
              "    <div class=\"colab-df-buttons\">\n",
              "\n",
              "  <div class=\"colab-df-container\">\n",
              "    <button class=\"colab-df-convert\" onclick=\"convertToInteractive('df-053b43bf-2ba4-4cd3-8d3e-ae7f8925283b')\"\n",
              "            title=\"Convert this dataframe to an interactive table.\"\n",
              "            style=\"display:none;\">\n",
              "\n",
              "  <svg xmlns=\"http://www.w3.org/2000/svg\" height=\"24px\" viewBox=\"0 -960 960 960\">\n",
              "    <path d=\"M120-120v-720h720v720H120Zm60-500h600v-160H180v160Zm220 220h160v-160H400v160Zm0 220h160v-160H400v160ZM180-400h160v-160H180v160Zm440 0h160v-160H620v160ZM180-180h160v-160H180v160Zm440 0h160v-160H620v160Z\"/>\n",
              "  </svg>\n",
              "    </button>\n",
              "\n",
              "  <style>\n",
              "    .colab-df-container {\n",
              "      display:flex;\n",
              "      gap: 12px;\n",
              "    }\n",
              "\n",
              "    .colab-df-convert {\n",
              "      background-color: #E8F0FE;\n",
              "      border: none;\n",
              "      border-radius: 50%;\n",
              "      cursor: pointer;\n",
              "      display: none;\n",
              "      fill: #1967D2;\n",
              "      height: 32px;\n",
              "      padding: 0 0 0 0;\n",
              "      width: 32px;\n",
              "    }\n",
              "\n",
              "    .colab-df-convert:hover {\n",
              "      background-color: #E2EBFA;\n",
              "      box-shadow: 0px 1px 2px rgba(60, 64, 67, 0.3), 0px 1px 3px 1px rgba(60, 64, 67, 0.15);\n",
              "      fill: #174EA6;\n",
              "    }\n",
              "\n",
              "    .colab-df-buttons div {\n",
              "      margin-bottom: 4px;\n",
              "    }\n",
              "\n",
              "    [theme=dark] .colab-df-convert {\n",
              "      background-color: #3B4455;\n",
              "      fill: #D2E3FC;\n",
              "    }\n",
              "\n",
              "    [theme=dark] .colab-df-convert:hover {\n",
              "      background-color: #434B5C;\n",
              "      box-shadow: 0px 1px 3px 1px rgba(0, 0, 0, 0.15);\n",
              "      filter: drop-shadow(0px 1px 2px rgba(0, 0, 0, 0.3));\n",
              "      fill: #FFFFFF;\n",
              "    }\n",
              "  </style>\n",
              "\n",
              "    <script>\n",
              "      const buttonEl =\n",
              "        document.querySelector('#df-053b43bf-2ba4-4cd3-8d3e-ae7f8925283b button.colab-df-convert');\n",
              "      buttonEl.style.display =\n",
              "        google.colab.kernel.accessAllowed ? 'block' : 'none';\n",
              "\n",
              "      async function convertToInteractive(key) {\n",
              "        const element = document.querySelector('#df-053b43bf-2ba4-4cd3-8d3e-ae7f8925283b');\n",
              "        const dataTable =\n",
              "          await google.colab.kernel.invokeFunction('convertToInteractive',\n",
              "                                                    [key], {});\n",
              "        if (!dataTable) return;\n",
              "\n",
              "        const docLinkHtml = 'Like what you see? Visit the ' +\n",
              "          '<a target=\"_blank\" href=https://colab.research.google.com/notebooks/data_table.ipynb>data table notebook</a>'\n",
              "          + ' to learn more about interactive tables.';\n",
              "        element.innerHTML = '';\n",
              "        dataTable['output_type'] = 'display_data';\n",
              "        await google.colab.output.renderOutput(dataTable, element);\n",
              "        const docLink = document.createElement('div');\n",
              "        docLink.innerHTML = docLinkHtml;\n",
              "        element.appendChild(docLink);\n",
              "      }\n",
              "    </script>\n",
              "  </div>\n",
              "\n",
              "\n",
              "<div id=\"df-ad61cdd9-f11e-42a9-8c1e-2ce0d79baa4e\">\n",
              "  <button class=\"colab-df-quickchart\" onclick=\"quickchart('df-ad61cdd9-f11e-42a9-8c1e-2ce0d79baa4e')\"\n",
              "            title=\"Suggest charts\"\n",
              "            style=\"display:none;\">\n",
              "\n",
              "<svg xmlns=\"http://www.w3.org/2000/svg\" height=\"24px\"viewBox=\"0 0 24 24\"\n",
              "     width=\"24px\">\n",
              "    <g>\n",
              "        <path d=\"M19 3H5c-1.1 0-2 .9-2 2v14c0 1.1.9 2 2 2h14c1.1 0 2-.9 2-2V5c0-1.1-.9-2-2-2zM9 17H7v-7h2v7zm4 0h-2V7h2v10zm4 0h-2v-4h2v4z\"/>\n",
              "    </g>\n",
              "</svg>\n",
              "  </button>\n",
              "\n",
              "<style>\n",
              "  .colab-df-quickchart {\n",
              "      --bg-color: #E8F0FE;\n",
              "      --fill-color: #1967D2;\n",
              "      --hover-bg-color: #E2EBFA;\n",
              "      --hover-fill-color: #174EA6;\n",
              "      --disabled-fill-color: #AAA;\n",
              "      --disabled-bg-color: #DDD;\n",
              "  }\n",
              "\n",
              "  [theme=dark] .colab-df-quickchart {\n",
              "      --bg-color: #3B4455;\n",
              "      --fill-color: #D2E3FC;\n",
              "      --hover-bg-color: #434B5C;\n",
              "      --hover-fill-color: #FFFFFF;\n",
              "      --disabled-bg-color: #3B4455;\n",
              "      --disabled-fill-color: #666;\n",
              "  }\n",
              "\n",
              "  .colab-df-quickchart {\n",
              "    background-color: var(--bg-color);\n",
              "    border: none;\n",
              "    border-radius: 50%;\n",
              "    cursor: pointer;\n",
              "    display: none;\n",
              "    fill: var(--fill-color);\n",
              "    height: 32px;\n",
              "    padding: 0;\n",
              "    width: 32px;\n",
              "  }\n",
              "\n",
              "  .colab-df-quickchart:hover {\n",
              "    background-color: var(--hover-bg-color);\n",
              "    box-shadow: 0 1px 2px rgba(60, 64, 67, 0.3), 0 1px 3px 1px rgba(60, 64, 67, 0.15);\n",
              "    fill: var(--button-hover-fill-color);\n",
              "  }\n",
              "\n",
              "  .colab-df-quickchart-complete:disabled,\n",
              "  .colab-df-quickchart-complete:disabled:hover {\n",
              "    background-color: var(--disabled-bg-color);\n",
              "    fill: var(--disabled-fill-color);\n",
              "    box-shadow: none;\n",
              "  }\n",
              "\n",
              "  .colab-df-spinner {\n",
              "    border: 2px solid var(--fill-color);\n",
              "    border-color: transparent;\n",
              "    border-bottom-color: var(--fill-color);\n",
              "    animation:\n",
              "      spin 1s steps(1) infinite;\n",
              "  }\n",
              "\n",
              "  @keyframes spin {\n",
              "    0% {\n",
              "      border-color: transparent;\n",
              "      border-bottom-color: var(--fill-color);\n",
              "      border-left-color: var(--fill-color);\n",
              "    }\n",
              "    20% {\n",
              "      border-color: transparent;\n",
              "      border-left-color: var(--fill-color);\n",
              "      border-top-color: var(--fill-color);\n",
              "    }\n",
              "    30% {\n",
              "      border-color: transparent;\n",
              "      border-left-color: var(--fill-color);\n",
              "      border-top-color: var(--fill-color);\n",
              "      border-right-color: var(--fill-color);\n",
              "    }\n",
              "    40% {\n",
              "      border-color: transparent;\n",
              "      border-right-color: var(--fill-color);\n",
              "      border-top-color: var(--fill-color);\n",
              "    }\n",
              "    60% {\n",
              "      border-color: transparent;\n",
              "      border-right-color: var(--fill-color);\n",
              "    }\n",
              "    80% {\n",
              "      border-color: transparent;\n",
              "      border-right-color: var(--fill-color);\n",
              "      border-bottom-color: var(--fill-color);\n",
              "    }\n",
              "    90% {\n",
              "      border-color: transparent;\n",
              "      border-bottom-color: var(--fill-color);\n",
              "    }\n",
              "  }\n",
              "</style>\n",
              "\n",
              "  <script>\n",
              "    async function quickchart(key) {\n",
              "      const quickchartButtonEl =\n",
              "        document.querySelector('#' + key + ' button');\n",
              "      quickchartButtonEl.disabled = true;  // To prevent multiple clicks.\n",
              "      quickchartButtonEl.classList.add('colab-df-spinner');\n",
              "      try {\n",
              "        const charts = await google.colab.kernel.invokeFunction(\n",
              "            'suggestCharts', [key], {});\n",
              "      } catch (error) {\n",
              "        console.error('Error during call to suggestCharts:', error);\n",
              "      }\n",
              "      quickchartButtonEl.classList.remove('colab-df-spinner');\n",
              "      quickchartButtonEl.classList.add('colab-df-quickchart-complete');\n",
              "    }\n",
              "    (() => {\n",
              "      let quickchartButtonEl =\n",
              "        document.querySelector('#df-ad61cdd9-f11e-42a9-8c1e-2ce0d79baa4e button');\n",
              "      quickchartButtonEl.style.display =\n",
              "        google.colab.kernel.accessAllowed ? 'block' : 'none';\n",
              "    })();\n",
              "  </script>\n",
              "</div>\n",
              "\n",
              "    </div>\n",
              "  </div>\n"
            ],
            "application/vnd.google.colaboratory.intrinsic+json": {
              "type": "dataframe",
              "variable_name": "df",
              "summary": "{\n  \"name\": \"df\",\n  \"rows\": 53940,\n  \"fields\": [\n    {\n      \"column\": \"carat\",\n      \"properties\": {\n        \"dtype\": \"number\",\n        \"std\": 0.47401124440538067,\n        \"min\": 0.2,\n        \"max\": 5.01,\n        \"num_unique_values\": 273,\n        \"samples\": [\n          0.77,\n          1.58,\n          0.65\n        ],\n        \"semantic_type\": \"\",\n        \"description\": \"\"\n      }\n    },\n    {\n      \"column\": \"cut\",\n      \"properties\": {\n        \"dtype\": \"category\",\n        \"num_unique_values\": 5,\n        \"samples\": [\n          \"Premium\",\n          \"Fair\",\n          \"Good\"\n        ],\n        \"semantic_type\": \"\",\n        \"description\": \"\"\n      }\n    },\n    {\n      \"column\": \"color\",\n      \"properties\": {\n        \"dtype\": \"category\",\n        \"num_unique_values\": 7,\n        \"samples\": [\n          \"E\",\n          \"I\",\n          \"G\"\n        ],\n        \"semantic_type\": \"\",\n        \"description\": \"\"\n      }\n    },\n    {\n      \"column\": \"clarity\",\n      \"properties\": {\n        \"dtype\": \"category\",\n        \"num_unique_values\": 8,\n        \"samples\": [\n          \"SI1\",\n          \"VVS1\",\n          \"SI2\"\n        ],\n        \"semantic_type\": \"\",\n        \"description\": \"\"\n      }\n    },\n    {\n      \"column\": \"depth\",\n      \"properties\": {\n        \"dtype\": \"number\",\n        \"std\": 1.4326213188337733,\n        \"min\": 43.0,\n        \"max\": 79.0,\n        \"num_unique_values\": 184,\n        \"samples\": [\n          61.0,\n          62.9,\n          70.2\n        ],\n        \"semantic_type\": \"\",\n        \"description\": \"\"\n      }\n    },\n    {\n      \"column\": \"table\",\n      \"properties\": {\n        \"dtype\": \"number\",\n        \"std\": 2.234490562820938,\n        \"min\": 43.0,\n        \"max\": 95.0,\n        \"num_unique_values\": 127,\n        \"samples\": [\n          54.8,\n          61.5,\n          57.6\n        ],\n        \"semantic_type\": \"\",\n        \"description\": \"\"\n      }\n    },\n    {\n      \"column\": \"weight\",\n      \"properties\": {\n        \"dtype\": \"number\",\n        \"std\": 1.1217607467924422,\n        \"min\": 0.0,\n        \"max\": 10.74,\n        \"num_unique_values\": 554,\n        \"samples\": [\n          5.88,\n          5.69,\n          4.61\n        ],\n        \"semantic_type\": \"\",\n        \"description\": \"\"\n      }\n    },\n    {\n      \"column\": \"size\",\n      \"properties\": {\n        \"dtype\": \"number\",\n        \"std\": 1.1421346741235396,\n        \"min\": 0.0,\n        \"max\": 58.9,\n        \"num_unique_values\": 552,\n        \"samples\": [\n          5.33,\n          5.61,\n          5.25\n        ],\n        \"semantic_type\": \"\",\n        \"description\": \"\"\n      }\n    },\n    {\n      \"column\": \"price\",\n      \"properties\": {\n        \"dtype\": \"number\",\n        \"std\": 3989,\n        \"min\": 326,\n        \"max\": 18823,\n        \"num_unique_values\": 11602,\n        \"samples\": [\n          16368,\n          895,\n          748\n        ],\n        \"semantic_type\": \"\",\n        \"description\": \"\"\n      }\n    }\n  ]\n}"
            }
          },
          "metadata": {},
          "execution_count": 11
        }
      ]
    },
    {
      "cell_type": "markdown",
      "source": [
        "**A.\tCreate 2 dataframes out of this dataframe – 1 with all numerical variables and other with all categorical variables.**"
      ],
      "metadata": {
        "id": "i5K4CCmUD860"
      }
    },
    {
      "cell_type": "code",
      "source": [
        "df1 = df.select_dtypes(include=['number'])\n",
        "df2 = df.select_dtypes(exclude=['number'])\n",
        "\n",
        "# Display the first few rows of each dataframe\n",
        "df1.head(),df2.head()"
      ],
      "metadata": {
        "id": "dlRhdlR8EIrT",
        "outputId": "9bb82e2c-2e66-48f8-a490-0370186b60fe",
        "colab": {
          "base_uri": "https://localhost:8080/"
        }
      },
      "execution_count": 12,
      "outputs": [
        {
          "output_type": "execute_result",
          "data": {
            "text/plain": [
              "(   carat  depth  table  weight  size  price\n",
              " 0   0.23   61.5   55.0    3.95  3.98    326\n",
              " 1   0.21   59.8   61.0    3.89  3.84    326\n",
              " 2   0.23   56.9   65.0    4.05  4.07    327\n",
              " 3   0.29   62.4   58.0    4.20  4.23    334\n",
              " 4   0.31   63.3   58.0    4.34  4.35    335,\n",
              "        cut color clarity\n",
              " 0    Ideal     E     SI2\n",
              " 1  Premium     E     SI1\n",
              " 2     Good     E     VS1\n",
              " 3  Premium     I     VS2\n",
              " 4     Good     J     SI2)"
            ]
          },
          "metadata": {},
          "execution_count": 12
        }
      ]
    },
    {
      "cell_type": "markdown",
      "source": [
        "**B1.\tCalculate the measure of central tendency of numerical variables using Pandas and statistics libraries **"
      ],
      "metadata": {
        "id": "ujsgigm3ErO3"
      }
    },
    {
      "cell_type": "code",
      "source": [
        "import pandas as pd\n",
        "import statistics # Import the statistics module\n",
        "\n",
        "# Compute central tendency using Pandas\n",
        "mean_pandas = df1.mean()\n",
        "median_pandas = df1.median()\n",
        "# Taking the first mode value if multiple exist\n",
        "mode_pandas = df1.mode().iloc[0]\n",
        "# Compute central tendency using statistics module\n",
        "mean_stats = df1.apply(statistics.mean)\n",
        "median_stats = df1.apply(statistics.median)\n",
        "mode_stats = df1.apply(lambda x: statistics.mode(x) if len(x) > 0 else None)\n",
        "\n",
        "# Create a DataFrame for comparison\n",
        "central_tendency_df = pd.DataFrame({\n",
        "    'Mean (Pandas)': mean_pandas,\n",
        "    'Median (Pandas)': median_pandas,\n",
        "    'Mode (Pandas)': mode_pandas,\n",
        "    'Mean (Statistics)': mean_stats,\n",
        "    'Median (Statistics)': median_stats,\n",
        "    'Mode (Statistics)': mode_stats\n",
        "})\n",
        "\n",
        "central_tendency_df"
      ],
      "metadata": {
        "id": "osQgcjE6EvL9",
        "outputId": "4be1588a-0757-4333-86be-ab6a1898bb2e",
        "colab": {
          "base_uri": "https://localhost:8080/",
          "height": 238
        }
      },
      "execution_count": 15,
      "outputs": [
        {
          "output_type": "execute_result",
          "data": {
            "text/plain": [
              "        Mean (Pandas)  Median (Pandas)  Mode (Pandas)  Mean (Statistics)  \\\n",
              "carat        0.797940             0.70           0.30           0.797940   \n",
              "depth       61.749405            61.80          62.00          61.749405   \n",
              "table       57.457184            57.00          56.00          57.457184   \n",
              "weight       5.731157             5.70           4.37           5.731157   \n",
              "size         5.734526             5.71           4.34           5.734526   \n",
              "price     3932.799722          2401.00         605.00        3932.799722   \n",
              "\n",
              "        Median (Statistics)  Mode (Statistics)  \n",
              "carat                  0.70               0.30  \n",
              "depth                 61.80              62.00  \n",
              "table                 57.00              56.00  \n",
              "weight                 5.70               4.37  \n",
              "size                   5.71               4.34  \n",
              "price               2401.00             605.00  "
            ],
            "text/html": [
              "\n",
              "  <div id=\"df-be922c28-a4b1-41bb-836c-d256ddc9cf9b\" class=\"colab-df-container\">\n",
              "    <div>\n",
              "<style scoped>\n",
              "    .dataframe tbody tr th:only-of-type {\n",
              "        vertical-align: middle;\n",
              "    }\n",
              "\n",
              "    .dataframe tbody tr th {\n",
              "        vertical-align: top;\n",
              "    }\n",
              "\n",
              "    .dataframe thead th {\n",
              "        text-align: right;\n",
              "    }\n",
              "</style>\n",
              "<table border=\"1\" class=\"dataframe\">\n",
              "  <thead>\n",
              "    <tr style=\"text-align: right;\">\n",
              "      <th></th>\n",
              "      <th>Mean (Pandas)</th>\n",
              "      <th>Median (Pandas)</th>\n",
              "      <th>Mode (Pandas)</th>\n",
              "      <th>Mean (Statistics)</th>\n",
              "      <th>Median (Statistics)</th>\n",
              "      <th>Mode (Statistics)</th>\n",
              "    </tr>\n",
              "  </thead>\n",
              "  <tbody>\n",
              "    <tr>\n",
              "      <th>carat</th>\n",
              "      <td>0.797940</td>\n",
              "      <td>0.70</td>\n",
              "      <td>0.30</td>\n",
              "      <td>0.797940</td>\n",
              "      <td>0.70</td>\n",
              "      <td>0.30</td>\n",
              "    </tr>\n",
              "    <tr>\n",
              "      <th>depth</th>\n",
              "      <td>61.749405</td>\n",
              "      <td>61.80</td>\n",
              "      <td>62.00</td>\n",
              "      <td>61.749405</td>\n",
              "      <td>61.80</td>\n",
              "      <td>62.00</td>\n",
              "    </tr>\n",
              "    <tr>\n",
              "      <th>table</th>\n",
              "      <td>57.457184</td>\n",
              "      <td>57.00</td>\n",
              "      <td>56.00</td>\n",
              "      <td>57.457184</td>\n",
              "      <td>57.00</td>\n",
              "      <td>56.00</td>\n",
              "    </tr>\n",
              "    <tr>\n",
              "      <th>weight</th>\n",
              "      <td>5.731157</td>\n",
              "      <td>5.70</td>\n",
              "      <td>4.37</td>\n",
              "      <td>5.731157</td>\n",
              "      <td>5.70</td>\n",
              "      <td>4.37</td>\n",
              "    </tr>\n",
              "    <tr>\n",
              "      <th>size</th>\n",
              "      <td>5.734526</td>\n",
              "      <td>5.71</td>\n",
              "      <td>4.34</td>\n",
              "      <td>5.734526</td>\n",
              "      <td>5.71</td>\n",
              "      <td>4.34</td>\n",
              "    </tr>\n",
              "    <tr>\n",
              "      <th>price</th>\n",
              "      <td>3932.799722</td>\n",
              "      <td>2401.00</td>\n",
              "      <td>605.00</td>\n",
              "      <td>3932.799722</td>\n",
              "      <td>2401.00</td>\n",
              "      <td>605.00</td>\n",
              "    </tr>\n",
              "  </tbody>\n",
              "</table>\n",
              "</div>\n",
              "    <div class=\"colab-df-buttons\">\n",
              "\n",
              "  <div class=\"colab-df-container\">\n",
              "    <button class=\"colab-df-convert\" onclick=\"convertToInteractive('df-be922c28-a4b1-41bb-836c-d256ddc9cf9b')\"\n",
              "            title=\"Convert this dataframe to an interactive table.\"\n",
              "            style=\"display:none;\">\n",
              "\n",
              "  <svg xmlns=\"http://www.w3.org/2000/svg\" height=\"24px\" viewBox=\"0 -960 960 960\">\n",
              "    <path d=\"M120-120v-720h720v720H120Zm60-500h600v-160H180v160Zm220 220h160v-160H400v160Zm0 220h160v-160H400v160ZM180-400h160v-160H180v160Zm440 0h160v-160H620v160ZM180-180h160v-160H180v160Zm440 0h160v-160H620v160Z\"/>\n",
              "  </svg>\n",
              "    </button>\n",
              "\n",
              "  <style>\n",
              "    .colab-df-container {\n",
              "      display:flex;\n",
              "      gap: 12px;\n",
              "    }\n",
              "\n",
              "    .colab-df-convert {\n",
              "      background-color: #E8F0FE;\n",
              "      border: none;\n",
              "      border-radius: 50%;\n",
              "      cursor: pointer;\n",
              "      display: none;\n",
              "      fill: #1967D2;\n",
              "      height: 32px;\n",
              "      padding: 0 0 0 0;\n",
              "      width: 32px;\n",
              "    }\n",
              "\n",
              "    .colab-df-convert:hover {\n",
              "      background-color: #E2EBFA;\n",
              "      box-shadow: 0px 1px 2px rgba(60, 64, 67, 0.3), 0px 1px 3px 1px rgba(60, 64, 67, 0.15);\n",
              "      fill: #174EA6;\n",
              "    }\n",
              "\n",
              "    .colab-df-buttons div {\n",
              "      margin-bottom: 4px;\n",
              "    }\n",
              "\n",
              "    [theme=dark] .colab-df-convert {\n",
              "      background-color: #3B4455;\n",
              "      fill: #D2E3FC;\n",
              "    }\n",
              "\n",
              "    [theme=dark] .colab-df-convert:hover {\n",
              "      background-color: #434B5C;\n",
              "      box-shadow: 0px 1px 3px 1px rgba(0, 0, 0, 0.15);\n",
              "      filter: drop-shadow(0px 1px 2px rgba(0, 0, 0, 0.3));\n",
              "      fill: #FFFFFF;\n",
              "    }\n",
              "  </style>\n",
              "\n",
              "    <script>\n",
              "      const buttonEl =\n",
              "        document.querySelector('#df-be922c28-a4b1-41bb-836c-d256ddc9cf9b button.colab-df-convert');\n",
              "      buttonEl.style.display =\n",
              "        google.colab.kernel.accessAllowed ? 'block' : 'none';\n",
              "\n",
              "      async function convertToInteractive(key) {\n",
              "        const element = document.querySelector('#df-be922c28-a4b1-41bb-836c-d256ddc9cf9b');\n",
              "        const dataTable =\n",
              "          await google.colab.kernel.invokeFunction('convertToInteractive',\n",
              "                                                    [key], {});\n",
              "        if (!dataTable) return;\n",
              "\n",
              "        const docLinkHtml = 'Like what you see? Visit the ' +\n",
              "          '<a target=\"_blank\" href=https://colab.research.google.com/notebooks/data_table.ipynb>data table notebook</a>'\n",
              "          + ' to learn more about interactive tables.';\n",
              "        element.innerHTML = '';\n",
              "        dataTable['output_type'] = 'display_data';\n",
              "        await google.colab.output.renderOutput(dataTable, element);\n",
              "        const docLink = document.createElement('div');\n",
              "        docLink.innerHTML = docLinkHtml;\n",
              "        element.appendChild(docLink);\n",
              "      }\n",
              "    </script>\n",
              "  </div>\n",
              "\n",
              "\n",
              "<div id=\"df-e502b1b2-8579-4a60-ab7a-50e330d676d8\">\n",
              "  <button class=\"colab-df-quickchart\" onclick=\"quickchart('df-e502b1b2-8579-4a60-ab7a-50e330d676d8')\"\n",
              "            title=\"Suggest charts\"\n",
              "            style=\"display:none;\">\n",
              "\n",
              "<svg xmlns=\"http://www.w3.org/2000/svg\" height=\"24px\"viewBox=\"0 0 24 24\"\n",
              "     width=\"24px\">\n",
              "    <g>\n",
              "        <path d=\"M19 3H5c-1.1 0-2 .9-2 2v14c0 1.1.9 2 2 2h14c1.1 0 2-.9 2-2V5c0-1.1-.9-2-2-2zM9 17H7v-7h2v7zm4 0h-2V7h2v10zm4 0h-2v-4h2v4z\"/>\n",
              "    </g>\n",
              "</svg>\n",
              "  </button>\n",
              "\n",
              "<style>\n",
              "  .colab-df-quickchart {\n",
              "      --bg-color: #E8F0FE;\n",
              "      --fill-color: #1967D2;\n",
              "      --hover-bg-color: #E2EBFA;\n",
              "      --hover-fill-color: #174EA6;\n",
              "      --disabled-fill-color: #AAA;\n",
              "      --disabled-bg-color: #DDD;\n",
              "  }\n",
              "\n",
              "  [theme=dark] .colab-df-quickchart {\n",
              "      --bg-color: #3B4455;\n",
              "      --fill-color: #D2E3FC;\n",
              "      --hover-bg-color: #434B5C;\n",
              "      --hover-fill-color: #FFFFFF;\n",
              "      --disabled-bg-color: #3B4455;\n",
              "      --disabled-fill-color: #666;\n",
              "  }\n",
              "\n",
              "  .colab-df-quickchart {\n",
              "    background-color: var(--bg-color);\n",
              "    border: none;\n",
              "    border-radius: 50%;\n",
              "    cursor: pointer;\n",
              "    display: none;\n",
              "    fill: var(--fill-color);\n",
              "    height: 32px;\n",
              "    padding: 0;\n",
              "    width: 32px;\n",
              "  }\n",
              "\n",
              "  .colab-df-quickchart:hover {\n",
              "    background-color: var(--hover-bg-color);\n",
              "    box-shadow: 0 1px 2px rgba(60, 64, 67, 0.3), 0 1px 3px 1px rgba(60, 64, 67, 0.15);\n",
              "    fill: var(--button-hover-fill-color);\n",
              "  }\n",
              "\n",
              "  .colab-df-quickchart-complete:disabled,\n",
              "  .colab-df-quickchart-complete:disabled:hover {\n",
              "    background-color: var(--disabled-bg-color);\n",
              "    fill: var(--disabled-fill-color);\n",
              "    box-shadow: none;\n",
              "  }\n",
              "\n",
              "  .colab-df-spinner {\n",
              "    border: 2px solid var(--fill-color);\n",
              "    border-color: transparent;\n",
              "    border-bottom-color: var(--fill-color);\n",
              "    animation:\n",
              "      spin 1s steps(1) infinite;\n",
              "  }\n",
              "\n",
              "  @keyframes spin {\n",
              "    0% {\n",
              "      border-color: transparent;\n",
              "      border-bottom-color: var(--fill-color);\n",
              "      border-left-color: var(--fill-color);\n",
              "    }\n",
              "    20% {\n",
              "      border-color: transparent;\n",
              "      border-left-color: var(--fill-color);\n",
              "      border-top-color: var(--fill-color);\n",
              "    }\n",
              "    30% {\n",
              "      border-color: transparent;\n",
              "      border-left-color: var(--fill-color);\n",
              "      border-top-color: var(--fill-color);\n",
              "      border-right-color: var(--fill-color);\n",
              "    }\n",
              "    40% {\n",
              "      border-color: transparent;\n",
              "      border-right-color: var(--fill-color);\n",
              "      border-top-color: var(--fill-color);\n",
              "    }\n",
              "    60% {\n",
              "      border-color: transparent;\n",
              "      border-right-color: var(--fill-color);\n",
              "    }\n",
              "    80% {\n",
              "      border-color: transparent;\n",
              "      border-right-color: var(--fill-color);\n",
              "      border-bottom-color: var(--fill-color);\n",
              "    }\n",
              "    90% {\n",
              "      border-color: transparent;\n",
              "      border-bottom-color: var(--fill-color);\n",
              "    }\n",
              "  }\n",
              "</style>\n",
              "\n",
              "  <script>\n",
              "    async function quickchart(key) {\n",
              "      const quickchartButtonEl =\n",
              "        document.querySelector('#' + key + ' button');\n",
              "      quickchartButtonEl.disabled = true;  // To prevent multiple clicks.\n",
              "      quickchartButtonEl.classList.add('colab-df-spinner');\n",
              "      try {\n",
              "        const charts = await google.colab.kernel.invokeFunction(\n",
              "            'suggestCharts', [key], {});\n",
              "      } catch (error) {\n",
              "        console.error('Error during call to suggestCharts:', error);\n",
              "      }\n",
              "      quickchartButtonEl.classList.remove('colab-df-spinner');\n",
              "      quickchartButtonEl.classList.add('colab-df-quickchart-complete');\n",
              "    }\n",
              "    (() => {\n",
              "      let quickchartButtonEl =\n",
              "        document.querySelector('#df-e502b1b2-8579-4a60-ab7a-50e330d676d8 button');\n",
              "      quickchartButtonEl.style.display =\n",
              "        google.colab.kernel.accessAllowed ? 'block' : 'none';\n",
              "    })();\n",
              "  </script>\n",
              "</div>\n",
              "\n",
              "  <div id=\"id_95188955-2e7d-453b-ae47-233950b70c33\">\n",
              "    <style>\n",
              "      .colab-df-generate {\n",
              "        background-color: #E8F0FE;\n",
              "        border: none;\n",
              "        border-radius: 50%;\n",
              "        cursor: pointer;\n",
              "        display: none;\n",
              "        fill: #1967D2;\n",
              "        height: 32px;\n",
              "        padding: 0 0 0 0;\n",
              "        width: 32px;\n",
              "      }\n",
              "\n",
              "      .colab-df-generate:hover {\n",
              "        background-color: #E2EBFA;\n",
              "        box-shadow: 0px 1px 2px rgba(60, 64, 67, 0.3), 0px 1px 3px 1px rgba(60, 64, 67, 0.15);\n",
              "        fill: #174EA6;\n",
              "      }\n",
              "\n",
              "      [theme=dark] .colab-df-generate {\n",
              "        background-color: #3B4455;\n",
              "        fill: #D2E3FC;\n",
              "      }\n",
              "\n",
              "      [theme=dark] .colab-df-generate:hover {\n",
              "        background-color: #434B5C;\n",
              "        box-shadow: 0px 1px 3px 1px rgba(0, 0, 0, 0.15);\n",
              "        filter: drop-shadow(0px 1px 2px rgba(0, 0, 0, 0.3));\n",
              "        fill: #FFFFFF;\n",
              "      }\n",
              "    </style>\n",
              "    <button class=\"colab-df-generate\" onclick=\"generateWithVariable('central_tendency_df')\"\n",
              "            title=\"Generate code using this dataframe.\"\n",
              "            style=\"display:none;\">\n",
              "\n",
              "  <svg xmlns=\"http://www.w3.org/2000/svg\" height=\"24px\"viewBox=\"0 0 24 24\"\n",
              "       width=\"24px\">\n",
              "    <path d=\"M7,19H8.4L18.45,9,17,7.55,7,17.6ZM5,21V16.75L18.45,3.32a2,2,0,0,1,2.83,0l1.4,1.43a1.91,1.91,0,0,1,.58,1.4,1.91,1.91,0,0,1-.58,1.4L9.25,21ZM18.45,9,17,7.55Zm-12,3A5.31,5.31,0,0,0,4.9,8.1,5.31,5.31,0,0,0,1,6.5,5.31,5.31,0,0,0,4.9,4.9,5.31,5.31,0,0,0,6.5,1,5.31,5.31,0,0,0,8.1,4.9,5.31,5.31,0,0,0,12,6.5,5.46,5.46,0,0,0,6.5,12Z\"/>\n",
              "  </svg>\n",
              "    </button>\n",
              "    <script>\n",
              "      (() => {\n",
              "      const buttonEl =\n",
              "        document.querySelector('#id_95188955-2e7d-453b-ae47-233950b70c33 button.colab-df-generate');\n",
              "      buttonEl.style.display =\n",
              "        google.colab.kernel.accessAllowed ? 'block' : 'none';\n",
              "\n",
              "      buttonEl.onclick = () => {\n",
              "        google.colab.notebook.generateWithVariable('central_tendency_df');\n",
              "      }\n",
              "      })();\n",
              "    </script>\n",
              "  </div>\n",
              "\n",
              "    </div>\n",
              "  </div>\n"
            ],
            "application/vnd.google.colaboratory.intrinsic+json": {
              "type": "dataframe",
              "variable_name": "central_tendency_df",
              "summary": "{\n  \"name\": \"central_tendency_df\",\n  \"rows\": 6,\n  \"fields\": [\n    {\n      \"column\": \"Mean (Pandas)\",\n      \"properties\": {\n        \"dtype\": \"number\",\n        \"std\": 1595.0577411758875,\n        \"min\": 0.7979397478680014,\n        \"max\": 3932.799721913237,\n        \"num_unique_values\": 6,\n        \"samples\": [\n          0.7979397478680014,\n          61.749404894327036,\n          3932.799721913237\n        ],\n        \"semantic_type\": \"\",\n        \"description\": \"\"\n      }\n    },\n    {\n      \"column\": \"Median (Pandas)\",\n      \"properties\": {\n        \"dtype\": \"number\",\n        \"std\": 969.8976010641536,\n        \"min\": 0.7,\n        \"max\": 2401.0,\n        \"num_unique_values\": 6,\n        \"samples\": [\n          0.7,\n          61.8,\n          2401.0\n        ],\n        \"semantic_type\": \"\",\n        \"description\": \"\"\n      }\n    },\n    {\n      \"column\": \"Mode (Pandas)\",\n      \"properties\": {\n        \"dtype\": \"number\",\n        \"std\": 238.21695258034566,\n        \"min\": 0.3,\n        \"max\": 605.0,\n        \"num_unique_values\": 6,\n        \"samples\": [\n          0.3,\n          62.0,\n          605.0\n        ],\n        \"semantic_type\": \"\",\n        \"description\": \"\"\n      }\n    },\n    {\n      \"column\": \"Mean (Statistics)\",\n      \"properties\": {\n        \"dtype\": \"number\",\n        \"std\": 1595.0577411758875,\n        \"min\": 0.7979397478680015,\n        \"max\": 3932.799721913237,\n        \"num_unique_values\": 6,\n        \"samples\": [\n          0.7979397478680015,\n          61.74940489432703,\n          3932.799721913237\n        ],\n        \"semantic_type\": \"\",\n        \"description\": \"\"\n      }\n    },\n    {\n      \"column\": \"Median (Statistics)\",\n      \"properties\": {\n        \"dtype\": \"number\",\n        \"std\": 969.8976010641536,\n        \"min\": 0.7,\n        \"max\": 2401.0,\n        \"num_unique_values\": 6,\n        \"samples\": [\n          0.7,\n          61.8,\n          2401.0\n        ],\n        \"semantic_type\": \"\",\n        \"description\": \"\"\n      }\n    },\n    {\n      \"column\": \"Mode (Statistics)\",\n      \"properties\": {\n        \"dtype\": \"number\",\n        \"std\": 238.21695258034566,\n        \"min\": 0.3,\n        \"max\": 605.0,\n        \"num_unique_values\": 6,\n        \"samples\": [\n          0.3,\n          62.0,\n          605.0\n        ],\n        \"semantic_type\": \"\",\n        \"description\": \"\"\n      }\n    }\n  ]\n}"
            }
          },
          "metadata": {},
          "execution_count": 15
        }
      ]
    },
    {
      "cell_type": "markdown",
      "source": [
        "**B2.check if the calculated values are different between these 2 libraries.**"
      ],
      "metadata": {
        "id": "yDXVKPOcLCpM"
      }
    },
    {
      "cell_type": "code",
      "source": [
        "mean_diff = pd.DataFrame()\n",
        "mean_diff['Mean Difference'] = central_tendency_df['Mean (Pandas)'] - central_tendency_df['Mean (Statistics)']\n",
        "median_diff = pd.DataFrame()\n",
        "median_diff['Median Difference'] = central_tendency_df['Median (Pandas)'] - central_tendency_df['Median (Statistics)']\n",
        "mode_diff = pd.DataFrame()\n",
        "mode_diff['Mode Difference'] = central_tendency_df['Mode (Pandas)'] - central_tendency_df['Mode (Statistics)']\n",
        "print(median_diff), (mean_diff), (mode_diff)\n"
      ],
      "metadata": {
        "id": "X_nZAHZ_IUCu",
        "outputId": "16940f02-9215-4af1-c679-9c28cd455d95",
        "colab": {
          "base_uri": "https://localhost:8080/"
        }
      },
      "execution_count": 16,
      "outputs": [
        {
          "output_type": "stream",
          "name": "stdout",
          "text": [
            "        Median Difference\n",
            "carat                 0.0\n",
            "depth                 0.0\n",
            "table                 0.0\n",
            "weight                0.0\n",
            "size                  0.0\n",
            "price                 0.0\n"
          ]
        },
        {
          "output_type": "execute_result",
          "data": {
            "text/plain": [
              "(None,\n",
              "         Mean Difference\n",
              " carat     -1.110223e-16\n",
              " depth      7.105427e-15\n",
              " table      0.000000e+00\n",
              " weight     0.000000e+00\n",
              " size       0.000000e+00\n",
              " price      0.000000e+00,\n",
              "         Mode Difference\n",
              " carat               0.0\n",
              " depth               0.0\n",
              " table               0.0\n",
              " weight              0.0\n",
              " size                0.0\n",
              " price               0.0)"
            ]
          },
          "metadata": {},
          "execution_count": 16
        }
      ]
    },
    {
      "cell_type": "markdown",
      "source": [
        "**C.\tCheck the skewness of all numeric variables. Mention against each variable if its highly skewed/light skewed/ Moderately skwewed.**\n",
        "\n",
        "\n"
      ],
      "metadata": {
        "id": "6qPCUBOaLNk_"
      }
    },
    {
      "cell_type": "code",
      "source": [
        "skewness = df1.skew()\n",
        "\n",
        "# Categorize skewness levels based on thresholds\n",
        "skewness_category = skewness.apply(lambda x:\n",
        "    \"Highly Skewed\" if abs(x) > 1 else\n",
        "    \"Moderately Skewed\" if 0.5 < abs(x) <= 1 else\n",
        "    \"Lightly Skewed\"\n",
        ")\n",
        "\n",
        "# Create a DataFrame for better visualization\n",
        "skewness_df = pd.DataFrame({\n",
        "    'Skewness Value': skewness,\n",
        "    'Skewness Category': skewness_category\n",
        "})\n",
        "\n",
        "print(skewness_df)"
      ],
      "metadata": {
        "id": "hBx3zqWxLU9P",
        "outputId": "dda5e92b-066c-4a84-b97f-5b1c7896c53c",
        "colab": {
          "base_uri": "https://localhost:8080/"
        }
      },
      "execution_count": 17,
      "outputs": [
        {
          "output_type": "stream",
          "name": "stdout",
          "text": [
            "        Skewness Value  Skewness Category\n",
            "carat         1.116646      Highly Skewed\n",
            "depth        -0.082294     Lightly Skewed\n",
            "table         0.796896  Moderately Skewed\n",
            "weight        0.378676     Lightly Skewed\n",
            "size          2.434167      Highly Skewed\n",
            "price         1.618395      Highly Skewed\n"
          ]
        }
      ]
    },
    {
      "cell_type": "markdown",
      "source": [
        ":**D.\tUse the different transformation techniques to convert skewed data found in previous question into normal distribution.**"
      ],
      "metadata": {
        "id": "7ItdirVSQUm6"
      }
    },
    {
      "cell_type": "code",
      "source": [
        "import pandas as pd\n",
        "import numpy as np\n",
        "from scipy.stats import boxcox\n",
        "from sklearn.preprocessing import PowerTransformer, QuantileTransformer\n",
        "\n",
        "df_transformed = df1.copy()\n",
        "\n",
        "# Apply transformations, use 'carat' instead of 'Carat'\n",
        "df_transformed['reciprocal'] = 1 / (df_transformed['carat'] + 0.001)  # Avoid division by zero\n",
        "df_transformed['power'] = np.power(df_transformed['carat'], 0.5)\n",
        "df_transformed['power_4'] = np.power(df_transformed['carat'], 0.25)\n",
        "\n",
        "qt = QuantileTransformer(output_distribution='normal')\n",
        "df_transformed['quantile'] = qt.fit_transform(df_transformed[['carat']]) # Use 'carat' here as well\n",
        "\n",
        "# Display results\n",
        "print(df_transformed[['reciprocal', 'power', 'power_4', 'quantile']].head())"
      ],
      "metadata": {
        "colab": {
          "base_uri": "https://localhost:8080/"
        },
        "id": "FtPjjPU6QYc5",
        "outputId": "5bd79e41-eb32-4081-a664-a95c51b66fa4"
      },
      "execution_count": 33,
      "outputs": [
        {
          "output_type": "stream",
          "name": "stdout",
          "text": [
            "   reciprocal     power   power_4  quantile\n",
            "0    4.329004  0.479583  0.692519 -2.747453\n",
            "1    4.739336  0.458258  0.676947 -3.402659\n",
            "2    4.329004  0.479583  0.692519 -2.747453\n",
            "3    3.436426  0.538516  0.733837 -1.910600\n",
            "4    3.215434  0.556776  0.746175 -1.280981\n"
          ]
        }
      ]
    },
    {
      "cell_type": "markdown",
      "source": [
        "**E.\tCreate a user defined function in python to check the outliers using IQR method. Then pass all numeric variables in that function to check outliers.**"
      ],
      "metadata": {
        "id": "yLeJjTSoRRJI"
      }
    },
    {
      "cell_type": "code",
      "source": [
        "def find_outliers(data):\n",
        "    Q1 = data.quantile(0.25)\n",
        "    Q3 = data.quantile(0.75)\n",
        "    IQR = Q3 - Q1\n",
        "    lower_bound = Q1 - 1.5 * IQR\n",
        "    upper_bound = Q3 + 1.5 * IQR\n",
        "    return data[(data < lower_bound) | (data > upper_bound)]\n",
        "\n",
        "# Apply function to all numeric columns\n",
        "outliers = df1.apply(find_outliers)\n",
        "\n",
        "# Display the first few rows of outliers\n",
        "print(outliers.head())\n"
      ],
      "metadata": {
        "colab": {
          "base_uri": "https://localhost:8080/"
        },
        "id": "gKau4bmWRTm_",
        "outputId": "cd185854-4152-4a08-a60f-47afbc880b8c"
      },
      "execution_count": 18,
      "outputs": [
        {
          "output_type": "stream",
          "name": "stdout",
          "text": [
            "    carat  depth  table  weight  size  price\n",
            "2     NaN   56.9   65.0     NaN   NaN    NaN\n",
            "8     NaN   65.1    NaN     NaN   NaN    NaN\n",
            "24    NaN   58.1    NaN     NaN   NaN    NaN\n",
            "35    NaN   58.2    NaN     NaN   NaN    NaN\n",
            "42    NaN   65.2    NaN     NaN   NaN    NaN\n"
          ]
        }
      ]
    },
    {
      "cell_type": "markdown",
      "source": [
        "**F.\tConvert categorical variables into numerical variables using LabelEncoder technique.**"
      ],
      "metadata": {
        "id": "RhpzmBuUUHra"
      }
    },
    {
      "cell_type": "code",
      "source": [
        "import pandas as pd\n",
        "from sklearn.preprocessing import LabelEncoder\n",
        "\n",
        "label_encoder = LabelEncoder()\n",
        "\n",
        "# Apply LabelEncoder to all categorical columns\n",
        "for col in df2.columns:\n",
        "    df2[col] = label_encoder.fit_transform(df2[col])\n",
        "\n",
        "# Display the first few rows of the transformed dataset\n",
        "print(df2.head())\n"
      ],
      "metadata": {
        "colab": {
          "base_uri": "https://localhost:8080/"
        },
        "id": "sCHw1YvyUKKh",
        "outputId": "fb6bdb27-7609-4389-889c-44d95b0689c0"
      },
      "execution_count": 22,
      "outputs": [
        {
          "output_type": "stream",
          "name": "stdout",
          "text": [
            "   cut  color  clarity\n",
            "0    2      1        3\n",
            "1    3      1        2\n",
            "2    1      1        4\n",
            "3    3      5        5\n",
            "4    1      6        3\n"
          ]
        }
      ]
    },
    {
      "cell_type": "markdown",
      "source": [
        "**G.\tUse both the feature scaling techniques (standardscaler/min max scaler) on all the variables.**"
      ],
      "metadata": {
        "id": "rwrXLefoVMMC"
      }
    },
    {
      "cell_type": "code",
      "source": [
        "import pandas as pd\n",
        "from sklearn.preprocessing import StandardScaler, MinMaxScaler\n",
        "\n",
        "sc = StandardScaler()\n",
        "mm = MinMaxScaler()\n",
        "\n",
        "# Apply scalers\n",
        "df_standard = pd.DataFrame(sc.fit_transform(df1), columns=df1.columns)\n",
        "df_minmax = pd.DataFrame(mm.fit_transform(df1), columns=df1.columns)\n",
        "\n",
        "# Print first few rows\n",
        "print(\"Standard Scaled Data:\\n\", df_standard.head())\n",
        "print(\"\\nMinMax Scaled Data:\\n\", df_minmax.head())\n"
      ],
      "metadata": {
        "colab": {
          "base_uri": "https://localhost:8080/"
        },
        "id": "7OfHbFVrVPTz",
        "outputId": "c4ccc678-d1b8-40dd-f34f-aeb00dff2785"
      },
      "execution_count": 23,
      "outputs": [
        {
          "output_type": "stream",
          "name": "stdout",
          "text": [
            "Standard Scaled Data:\n",
            "       carat     depth     table    weight      size     price\n",
            "0 -1.198168 -0.174092 -1.099672 -1.587837 -1.536196 -0.904095\n",
            "1 -1.240361 -1.360738  1.585529 -1.641325 -1.658774 -0.904095\n",
            "2 -1.198168 -3.385019  3.375663 -1.498691 -1.457395 -0.903844\n",
            "3 -1.071587  0.454133  0.242928 -1.364971 -1.317305 -0.902090\n",
            "4 -1.029394  1.082358  0.242928 -1.240167 -1.212238 -0.901839\n",
            "\n",
            "MinMax Scaled Data:\n",
            "       carat     depth     table    weight      size     price\n",
            "0  0.006237  0.513889  0.230769  0.367784  0.067572  0.000000\n",
            "1  0.002079  0.466667  0.346154  0.362197  0.065195  0.000000\n",
            "2  0.006237  0.386111  0.423077  0.377095  0.069100  0.000054\n",
            "3  0.018711  0.538889  0.288462  0.391061  0.071817  0.000433\n",
            "4  0.022869  0.563889  0.288462  0.404097  0.073854  0.000487\n"
          ]
        }
      ]
    },
    {
      "cell_type": "markdown",
      "source": [
        "**H.\tCreate the Histogram for all numeric variables and draw the KDE plot on that.**"
      ],
      "metadata": {
        "id": "UyA1RIgXWQ6f"
      }
    },
    {
      "cell_type": "code",
      "source": [
        "import pandas as pd\n",
        "import matplotlib.pyplot as plt\n",
        "import seaborn as sns\n",
        "for col in df1.columns:\n",
        "    plt.figure(figsize=(3, 2))\n",
        "    sns.histplot(df[col], kde=True, bins=30, color='blue')\n",
        "    plt.title(f\"Histogram & KDE for {col}\")\n",
        "    plt.xlabel(col)\n",
        "    plt.ylabel(\"Frequency\")\n",
        "    plt.show()\n"
      ],
      "metadata": {
        "colab": {
          "base_uri": "https://localhost:8080/",
          "height": 1000
        },
        "id": "_A7ZK4ijWW-9",
        "outputId": "18544f33-5447-4960-d21a-71279401c078"
      },
      "execution_count": 25,
      "outputs": [
        {
          "output_type": "display_data",
          "data": {
            "text/plain": [
              "<Figure size 300x200 with 1 Axes>"
            ],
            "image/png": "[encoded data removed]"
          },
          "metadata": {}
        },
        {
          "output_type": "display_data",
          "data": {
            "text/plain": [
              "<Figure size 300x200 with 1 Axes>"
            ],
            "image/png": "[encoded data removed]"
          },
          "metadata": {}
        },
        {
          "output_type": "display_data",
          "data": {
            "text/plain": [
              "<Figure size 300x200 with 1 Axes>"
            ],
            "image/png": "[encoded data removed]"
          },
          "metadata": {}
        },
        {
          "output_type": "display_data",
          "data": {
            "text/plain": [
              "<Figure size 300x200 with 1 Axes>"
            ],
            "image/png": "[encoded data removed]"
          },
          "metadata": {}
        },
        {
          "output_type": "display_data",
          "data": {
            "text/plain": [
              "<Figure size 300x200 with 1 Axes>"
            ],
            "image/png": "[encoded data removed]"
          },
          "metadata": {}
        },
        {
          "output_type": "display_data",
          "data": {
            "text/plain": [
              "<Figure size 300x200 with 1 Axes>"
            ],
            "image/png": "[encoded data removed]"
          },
          "metadata": {}
        }
      ]
    },
    {
      "cell_type": "markdown",
      "source": [
        "**I.\tCheck the correlation between all the numeric variables using HeatMapand try to draw some conclusion about the data.**"
      ],
      "metadata": {
        "id": "8BssPEf1XXBZ"
      }
    },
    {
      "cell_type": "code",
      "source": [
        "import pandas as pd\n",
        "import seaborn as sns\n",
        "import matplotlib.pyplot as plt\n",
        "corr_matrix = df1.corr()\n",
        "\n",
        "# Plot heatmap\n",
        "plt.figure(figsize=(4, 3))\n",
        "sns.heatmap(corr_matrix, annot=True, cmap=\"coolwarm\", fmt=\".2f\", linewidths=0.5)\n",
        "plt.title(\"Correlation Heatmap of Numeric Variables\")\n",
        "plt.show()\n"
      ],
      "metadata": {
        "id": "CHr6KhFzXeKF",
        "outputId": "686e41c0-f160-4177-a3c4-12918c437c39",
        "colab": {
          "base_uri": "https://localhost:8080/",
          "height": 314
        }
      },
      "execution_count": 26,
      "outputs": [
        {
          "output_type": "display_data",
          "data": {
            "text/plain": [
              "<Figure size 400x300 with 2 Axes>"
            ],
            "image/png": "[encoded data removed]"
          },
          "metadata": {}
        }
      ]
    },
    {
      "cell_type": "markdown",
      "source": [
        "**Q2. Explain Gradient descent in detail. How changing the values of learning rate can impact the convergence in Gradient Descent.**\n",
        "\n",
        "Gradient Descent minimizes cost functions by updating parameters step by step.\n",
        "\n",
        "Learning Rate (α) controls speed:\n",
        "\n",
        "Too small → Slow convergence\n",
        "\n",
        "Too large → May diverge\n",
        "\n",
        "Just right → Efficient convergence\n",
        "\n",
        "Types: Batch, Stochastic (SGD), and Mini-Batch.\n",
        "\n",
        "Used In: Linear Regression, Neural Networks, Logistic Regression, etc.\n",
        "\n",
        "Mathematical Representation\n",
        "For a function\n",
        "J(θ) (Cost Function), Gradient Descent updates the parameter\n",
        "𝜃\n",
        "\n",
        "# Cost Function: Mean Squared Error (MSE)\n",
        "def cost_function(X, y, theta):\n",
        "    m = len(y)\n",
        "    predictions = X.dot(theta)\n",
        "    return (1/(2*m)) * np.sum((predictions - y) ** 2)\n",
        "\n",
        "# Gradient Descent Function\n",
        "def gradient_descent(X, y, theta, learning_rate, iterations):\n",
        "    m = len(y)\n",
        "    for _ in range(iterations):\n",
        "        gradients = (1/m) * X.T.dot(X.dot(theta) - y)  # Compute gradient\n",
        "        theta -= learning_rate * gradients  # Update theta\n",
        "    return theta\n",
        "\n",
        "\n",
        "\n"
      ],
      "metadata": {
        "id": "r9DhsnePX5Pk"
      }
    },
    {
      "cell_type": "code",
      "source": [],
      "metadata": {
        "id": "g1_v1_vFaXwL"
      },
      "execution_count": null,
      "outputs": []
    }
  ]
}