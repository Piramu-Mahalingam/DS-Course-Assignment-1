{
  "nbformat": 4,
  "nbformat_minor": 0,
  "metadata": {
    "colab": {
      "provenance": [],
      "authorship_tag": "ABX9TyMaTTmeOfMmXTFgAhZ6+NoO",
      "include_colab_link": true
    },
    "kernelspec": {
      "name": "python3",
      "display_name": "Python 3"
    },
    "language_info": {
      "name": "python"
    }
  },
  "cells": [
    {
      "cell_type": "markdown",
      "metadata": {
        "id": "view-in-github",
        "colab_type": "text"
      },
      "source": [
        "<a href=\"https://colab.research.google.com/github/Piramu-Mahalingam/DS-Course-Assignment-1/blob/main/Assignment_2.ipynb\" target=\"_parent\"><img src=\"https://colab.research.google.com/assets/colab-badge.svg\" alt=\"Open In Colab\"/></a>"
      ]
    },
    {
      "cell_type": "code",
      "execution_count": 4,
      "metadata": {
        "colab": {
          "base_uri": "https://localhost:8080/"
        },
        "id": "ZLsy5_8oLonl",
        "outputId": "f638521b-e8c7-4397-af94-6f1aa093a934"
      },
      "outputs": [
        {
          "output_type": "stream",
          "name": "stdout",
          "text": [
            "[5 3 3 6]\n",
            "[4 2 0 0]\n",
            "[-3  1  3 -6]\n",
            "[0.25 2.    inf 0.  ]\n",
            "Divide by zero error\n"
          ]
        },
        {
          "output_type": "stream",
          "name": "stderr",
          "text": [
            "<ipython-input-4-f547883315bc>:8: RuntimeWarning: divide by zero encountered in divide\n",
            "  print(np.divide(arr1,arr2))\n"
          ]
        }
      ],
      "source": [
        "# 1. Numpy arithmetic operation\n",
        "import numpy as np\n",
        "arr1=np.array([1,2,3,0])\n",
        "arr2=np.array([4,1,0,6])\n",
        "print(np.add(arr1,arr2))\n",
        "print(np.multiply(arr1,arr2))\n",
        "print(np.subtract(arr1,arr2))\n",
        "print(np.divide(arr1,arr2))\n",
        "try:\n",
        "  if(arr2!=0):\n",
        "    print(np.divide(arr1,arr2))\n",
        "except:\n",
        "  print(\"Divide by zero error\")\n"
      ]
    },
    {
      "cell_type": "code",
      "source": [
        "# 2. arithmatic operation b/w 1D and 2D\n",
        "import numpy as np\n",
        "arr3=np.random.randint(1,100,5)\n",
        "#if(arr3.reshape(4,5)):\n",
        "     # print(\"ValueError: cannot reshape array of size 5 into shape (4,5)\")\n",
        "    #assign arr3=np.random.randint(1,100,20)\n",
        "arr5=np.arange(20).reshape(4,5)\n",
        "arr4=np.random.randint(1,100,(4,5))\n",
        "print(np.add(arr5,arr4))\n",
        "print(np.subtract(arr5,arr4))\n"
      ],
      "metadata": {
        "colab": {
          "base_uri": "https://localhost:8080/"
        },
        "id": "Tqctx2awPW_v",
        "outputId": "a44d0926-0f5f-44f8-8fd2-a7438b8f78d6"
      },
      "execution_count": 25,
      "outputs": [
        {
          "output_type": "stream",
          "name": "stdout",
          "text": [
            "[[ 59  19  76  66  94]\n",
            " [ 90   9  24  66  85]\n",
            " [ 21  13  95  30  75]\n",
            " [ 83  59  96 103  41]]\n",
            "[[-59 -17 -72 -60 -86]\n",
            " [-80   3 -10 -50 -67]\n",
            " [ -1   9 -71  -4 -47]\n",
            " [-53 -27 -62 -67  -3]]\n"
          ]
        }
      ]
    },
    {
      "cell_type": "code",
      "source": [
        "# 3. indexing and slicing\n",
        "arr1=np.random.randint(1,27,(3,3,3))\n",
        "print(arr1)\n",
        "print(\"The 3rd column of 2nd 2-D array is\")\n",
        "print(arr1[1,:,2])\n",
        "print(\"1st and 3rd row of 1st 2-D array is\")\n",
        "print(arr1[0,[0,2],:])\n",
        "print(\"intersection of 1st row and third column in third 2-D array is\")\n",
        "print(arr1[2,0,2])"
      ],
      "metadata": {
        "colab": {
          "base_uri": "https://localhost:8080/"
        },
        "id": "RUFrzN__MR0X",
        "outputId": "b67897f3-2392-4068-f920-f7dd1e5ee67a"
      },
      "execution_count": 47,
      "outputs": [
        {
          "output_type": "stream",
          "name": "stdout",
          "text": [
            "[[[ 6  2  6]\n",
            "  [20  1 11]\n",
            "  [18  5 13]]\n",
            "\n",
            " [[22 20 17]\n",
            "  [10 12 25]\n",
            "  [20  5 13]]\n",
            "\n",
            " [[25 23  8]\n",
            "  [16  2 18]\n",
            "  [22 22  4]]]\n",
            "The 3rd column of 2nd 2-D array is\n",
            "[17 25 13]\n",
            "1st and 3rd row of 1st 2-D array is\n",
            "[[ 6  2  6]\n",
            " [18  5 13]]\n",
            "intersection of 1st row and third column in third 2-D array is\n",
            "8\n"
          ]
        }
      ]
    },
    {
      "cell_type": "code",
      "source": [
        "# 4.  1 to 100 with shape 5*4. Now perform following operations\n",
        "import numpy as np\n",
        "arr_2d=np.random.randint(1,100,(5,4))\n",
        "print(arr_2d)\n",
        "arr1=arr_2d[arr_2d%2==0]\n",
        "print(\"Even numbers in an array is\",arr1)\n",
        "arr2=arr_2d[arr_2d%2!=0]\n",
        "print(\"Odd numbers in an array is\",arr2)\n",
        "print(\"Row wise sum is\", np.sum(arr_2d,axis=1))\n",
        "print(\"Column wise sum is\", np.sum(arr_2d,axis=0))\n",
        "print(\"2-D into 3-D array is\\n\",arr_2d.reshape(2,2,5))"
      ],
      "metadata": {
        "colab": {
          "base_uri": "https://localhost:8080/"
        },
        "id": "j3wWKpp0ea5y",
        "outputId": "8c6c73c3-0ffa-4a48-a3f0-9ce7a4ee9899"
      },
      "execution_count": 63,
      "outputs": [
        {
          "output_type": "stream",
          "name": "stdout",
          "text": [
            "[[94 77 60 32]\n",
            " [52 13 94 89]\n",
            " [54  4 29 89]\n",
            " [44 22 87 55]\n",
            " [64 80 63 92]]\n",
            "Even numbers in an array is [94 60 32 52 94 54  4 44 22 64 80 92]\n",
            "Odd numbers in an array is [77 13 89 29 89 87 55 63]\n",
            "Row wise sum is [263 248 176 208 299]\n",
            "Column wise sum is [308 196 333 357]\n",
            "2-D into 3-D array is\n",
            " [[[94 77 60 32 52]\n",
            "  [13 94 89 54  4]]\n",
            "\n",
            " [[29 89 44 22 87]\n",
            "  [55 64 80 63 92]]]\n"
          ]
        }
      ]
    },
    {
      "cell_type": "code",
      "source": [
        "# 5.  1 to 100 with shape 5*4. Now perform following operations\n",
        "a_2d=np.random.randint(1,100,(5,4))\n",
        "print(a_2d)\n",
        "a_2d[[0,2]]=a_2d[[2,0]]\n",
        "print(\"After swap 1st row with 3rd row\\n\", a_2d)\n",
        "a_2d[:,[1,3]]=a_2d[:,[3,1]]\n",
        "print(\"After swap 2nd column with 4th column is\\n\",a_2d)\n",
        "a_2d[a_2d < 50]=0\n",
        "print(\" Replace the values less than 50 with zero.\\n\",a_2d)\n",
        "print(\"Convert this 2D array into 1-D array column wise\\n\",a_2d.flatten(order='F'))\n",
        "print(\"Convert this 2D array into 1-D array row wise\\n\",a_2d.flatten(order='C'))\n"
      ],
      "metadata": {
        "colab": {
          "base_uri": "https://localhost:8080/"
        },
        "id": "-3IyJWsaj9B2",
        "outputId": "c6057149-59b1-4a7d-ac48-0ab93182fe94"
      },
      "execution_count": 78,
      "outputs": [
        {
          "output_type": "stream",
          "name": "stdout",
          "text": [
            "[[56 24 24 12]\n",
            " [28 82  5 36]\n",
            " [29 83 77 85]\n",
            " [71 15 78 35]\n",
            " [11 98  7 21]]\n",
            "After swap 1st row with 3rd row\n",
            " [[29 83 77 85]\n",
            " [28 82  5 36]\n",
            " [56 24 24 12]\n",
            " [71 15 78 35]\n",
            " [11 98  7 21]]\n",
            "After swap 2nd column with 4th column is\n",
            " [[29 85 77 83]\n",
            " [28 36  5 82]\n",
            " [56 12 24 24]\n",
            " [71 35 78 15]\n",
            " [11 21  7 98]]\n",
            " Replace the values less than 50 with zero.\n",
            " [[ 0 85 77 83]\n",
            " [ 0  0  0 82]\n",
            " [56  0  0  0]\n",
            " [71  0 78  0]\n",
            " [ 0  0  0 98]]\n",
            "Convert this 2D array into 1-D array column wise\n",
            " [ 0  0 56 71  0 85  0  0  0  0 77  0  0 78  0 83 82  0  0 98]\n",
            "Convert this 2D array into 1-D array row wise\n",
            " [ 0 85 77 83  0  0  0 82 56  0  0  0 71  0 78  0  0  0  0 98]\n"
          ]
        }
      ]
    },
    {
      "cell_type": "code",
      "source": [
        "# 6. Stacking Explanation"
      ],
      "metadata": {
        "id": "IghGpudktkdI"
      },
      "execution_count": null,
      "outputs": []
    },
    {
      "cell_type": "markdown",
      "source": [
        "Stacking in NumPy refers to joining arrays along a new axis. It's a way to combine multiple arrays into a single, larger array. NumPy provides several functions for stacking, including:\n",
        "\n",
        "np.stack: Joins arrays along a new axis.\n",
        "np.vstack: Stacks arrays vertically (row-wise).\n",
        "np.hstack: Stacks arrays horizontally (column-wise).\n",
        "np.dstack: Stacks arrays along the third axis (depth-wise).\n",
        "np.column_stack: Stacks 1-D arrays as columns into a 2-D array.\n",
        "np.row_stack: Stacks arrays vertically (row-wise). (Similar to np.vstack)\n"
      ],
      "metadata": {
        "id": "EQRW1-TNuENH"
      }
    },
    {
      "cell_type": "markdown",
      "source": [
        "import numpy as np\n",
        "\n",
        "# Create sample arrays\n",
        "a = np.array([1, 2, 3])\n",
        "b = np.array([4, 5, 6])\n",
        "\n",
        "# np.stack - Joins arrays along a new axis\n",
        "stacked_array = np.stack((a, b), axis=0)  # Stack along axis 0 (creates a new row)\n",
        "print(\"np.stack (axis=0):\\n\", stacked_array)\n",
        "\n",
        "stacked_array = np.stack((a, b), axis=1)  # Stack along axis 1 (creates a new column)\n",
        "print(\"\\nnp.stack (axis=1):\\n\", stacked_array)\n",
        "\n",
        "# np.vstack - Stacks arrays vertically (row-wise)\n",
        "vstacked_array = np.vstack((a, b))\n",
        "print(\"\\nnp.vstack:\\n\", vstacked_array)\n",
        "\n",
        "# np.hstack - Stacks arrays horizontally (column-wise)\n",
        "hstacked_array = np.hstack((a, b))\n",
        "print(\"\\nnp.hstack:\\n\", hstacked_array)\n",
        "\n",
        "# np.dstack - Stacks arrays along the third axis (depth-wise)\n",
        "dstacked_array = np.dstack((a, b))\n",
        "print(\"\\nnp.dstack:\\n\", dstacked_array)\n",
        "\n",
        "# np.column_stack - Stacks 1-D arrays as columns into a 2-D array\n",
        "column_stacked_array = np.column_stack((a, b))\n",
        "print(\"\\nnp.column_stack:\\n\", column_stacked_array)\n"
      ],
      "metadata": {
        "id": "kmp1Q0LduSdT"
      }
    },
    {
      "cell_type": "markdown",
      "source": [
        "**Stacking** vs. **Concatenation**\n",
        "\n",
        "While both stacking and concatenation combine arrays, they do so in slightly different ways:\n",
        "\n",
        "**1.Dimensionality**   \n",
        "**Stacking**: Introduces a new dimension along which the arrays are joined. The output array will have one more dimension than the input arrays.           \n",
        "**Concatenation**: Joins arrays along an existing dimension. The output array will have the same number of dimensions as the input arrays.\n",
        "\n",
        "**2. Axis** **of** **Operation**:                                                 \n",
        "**Stacking**: You specify the axis argument to determine the position of the new dimension where the arrays are stacked.                                    \n",
        "**Concatenation**: You specify the axis argument to determine along which existing axis the arrays are joined.\n",
        "\n",
        "**3. Shape Requirements:                                                    \n",
        "**Stacking**: Input arrays must have the same shape (except along the stacking axis).\n",
        "**Concatenation**: Input arrays can have different shapes along the concatenation axis, but their other dimensions must be compatible.\n"
      ],
      "metadata": {
        "id": "SbClSHQLu8km"
      }
    }
  ]
}