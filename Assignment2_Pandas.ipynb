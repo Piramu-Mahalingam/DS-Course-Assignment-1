{
  "nbformat": 4,
  "nbformat_minor": 0,
  "metadata": {
    "colab": {
      "provenance": [],
      "authorship_tag": "ABX9TyN7DVxyzm9dX5y+huOwSAKW",
      "include_colab_link": true
    },
    "kernelspec": {
      "name": "python3",
      "display_name": "Python 3"
    },
    "language_info": {
      "name": "python"
    }
  },
  "cells": [
    {
      "cell_type": "markdown",
      "metadata": {
        "id": "view-in-github",
        "colab_type": "text"
      },
      "source": [
        "<a href=\"https://colab.research.google.com/github/Piramu-Mahalingam/DS-Course-Assignment-1/blob/main/Assignment2_Pandas.ipynb\" target=\"_parent\"><img src=\"https://colab.research.google.com/assets/colab-badge.svg\" alt=\"Open In Colab\"/></a>"
      ]
    },
    {
      "cell_type": "markdown",
      "source": [
        "**1.\tImport the attached Netflix csv file in Jupyter notebook and perform following operations using Pandas:**"
      ],
      "metadata": {
        "id": "rRlWz_60zg1N"
      }
    },
    {
      "cell_type": "code",
      "execution_count": 4,
      "metadata": {
        "colab": {
          "base_uri": "https://localhost:8080/",
          "height": 537
        },
        "id": "1YKPWp1JPLc5",
        "outputId": "2ca97fc4-a6a7-4ef5-fc41-0ab3a6a82194"
      },
      "outputs": [
        {
          "output_type": "execute_result",
          "data": {
            "text/plain": [
              "     show_id     type                  title         director  \\\n",
              "0         s1    Movie   Dick Johnson Is Dead  Kirsten Johnson   \n",
              "1         s2  TV Show          Blood & Water              NaN   \n",
              "2         s3  TV Show              Ganglands  Julien Leclercq   \n",
              "3         s4  TV Show  Jailbirds New Orleans              NaN   \n",
              "4         s5  TV Show           Kota Factory              NaN   \n",
              "8775   s8803    Movie                 Zodiac    David Fincher   \n",
              "8776   s8804  TV Show            Zombie Dumb              NaN   \n",
              "8777   s8805    Movie             Zombieland  Ruben Fleischer   \n",
              "8778   s8806    Movie                   Zoom     Peter Hewitt   \n",
              "8779   s8807    Movie                 Zubaan      Mozez Singh   \n",
              "\n",
              "                                                   cast        country  \\\n",
              "0                                                   NaN  United States   \n",
              "1     Ama Qamata, Khosi Ngema, Gail Mabalane, Thaban...   South Africa   \n",
              "2     Sami Bouajila, Tracy Gotoas, Samuel Jouy, Nabi...            NaN   \n",
              "3                                                   NaN            NaN   \n",
              "4     Mayur More, Jitendra Kumar, Ranjan Raj, Alam K...          India   \n",
              "8775  Mark Ruffalo, Jake Gyllenhaal, Robert Downey J...  United States   \n",
              "8776                                                NaN            NaN   \n",
              "8777  Jesse Eisenberg, Woody Harrelson, Emma Stone, ...  United States   \n",
              "8778  Tim Allen, Courteney Cox, Chevy Chase, Kate Ma...  United States   \n",
              "8779  Vicky Kaushal, Sarah-Jane Dias, Raaghav Chanan...          India   \n",
              "\n",
              "              date_added  release_year rating   duration  \\\n",
              "0     September 25, 2021          2020  PG-13     90 min   \n",
              "1     September 24, 2021          2021  TV-MA  2 Seasons   \n",
              "2     September 24, 2021          2021  TV-MA   1 Season   \n",
              "3     September 24, 2021          2021  TV-MA   1 Season   \n",
              "4     September 24, 2021          2021  TV-MA  2 Seasons   \n",
              "8775   November 20, 2019          2007      R    158 min   \n",
              "8776        July 1, 2019          2018  TV-Y7  2 Seasons   \n",
              "8777    November 1, 2019          2009      R     88 min   \n",
              "8778    January 11, 2020          2006     PG     88 min   \n",
              "8779       March 2, 2019          2015  TV-14    111 min   \n",
              "\n",
              "                                              listed_in  \n",
              "0                                         Documentaries  \n",
              "1       International TV Shows, TV Dramas, TV Mysteries  \n",
              "2     Crime TV Shows, International TV Shows, TV Act...  \n",
              "3                                Docuseries, Reality TV  \n",
              "4     International TV Shows, Romantic TV Shows, TV ...  \n",
              "8775                     Cult Movies, Dramas, Thrillers  \n",
              "8776             Kids' TV, Korean TV Shows, TV Comedies  \n",
              "8777                            Comedies, Horror Movies  \n",
              "8778                 Children & Family Movies, Comedies  \n",
              "8779     Dramas, International Movies, Music & Musicals  "
            ],
            "text/html": [
              "\n",
              "  <div id=\"df-3368623d-8788-4345-8f5b-5d79106c6e5c\" class=\"colab-df-container\">\n",
              "    <div>\n",
              "<style scoped>\n",
              "    .dataframe tbody tr th:only-of-type {\n",
              "        vertical-align: middle;\n",
              "    }\n",
              "\n",
              "    .dataframe tbody tr th {\n",
              "        vertical-align: top;\n",
              "    }\n",
              "\n",
              "    .dataframe thead th {\n",
              "        text-align: right;\n",
              "    }\n",
              "</style>\n",
              "<table border=\"1\" class=\"dataframe\">\n",
              "  <thead>\n",
              "    <tr style=\"text-align: right;\">\n",
              "      <th></th>\n",
              "      <th>show_id</th>\n",
              "      <th>type</th>\n",
              "      <th>title</th>\n",
              "      <th>director</th>\n",
              "      <th>cast</th>\n",
              "      <th>country</th>\n",
              "      <th>date_added</th>\n",
              "      <th>release_year</th>\n",
              "      <th>rating</th>\n",
              "      <th>duration</th>\n",
              "      <th>listed_in</th>\n",
              "    </tr>\n",
              "  </thead>\n",
              "  <tbody>\n",
              "    <tr>\n",
              "      <th>0</th>\n",
              "      <td>s1</td>\n",
              "      <td>Movie</td>\n",
              "      <td>Dick Johnson Is Dead</td>\n",
              "      <td>Kirsten Johnson</td>\n",
              "      <td>NaN</td>\n",
              "      <td>United States</td>\n",
              "      <td>September 25, 2021</td>\n",
              "      <td>2020</td>\n",
              "      <td>PG-13</td>\n",
              "      <td>90 min</td>\n",
              "      <td>Documentaries</td>\n",
              "    </tr>\n",
              "    <tr>\n",
              "      <th>1</th>\n",
              "      <td>s2</td>\n",
              "      <td>TV Show</td>\n",
              "      <td>Blood &amp; Water</td>\n",
              "      <td>NaN</td>\n",
              "      <td>Ama Qamata, Khosi Ngema, Gail Mabalane, Thaban...</td>\n",
              "      <td>South Africa</td>\n",
              "      <td>September 24, 2021</td>\n",
              "      <td>2021</td>\n",
              "      <td>TV-MA</td>\n",
              "      <td>2 Seasons</td>\n",
              "      <td>International TV Shows, TV Dramas, TV Mysteries</td>\n",
              "    </tr>\n",
              "    <tr>\n",
              "      <th>2</th>\n",
              "      <td>s3</td>\n",
              "      <td>TV Show</td>\n",
              "      <td>Ganglands</td>\n",
              "      <td>Julien Leclercq</td>\n",
              "      <td>Sami Bouajila, Tracy Gotoas, Samuel Jouy, Nabi...</td>\n",
              "      <td>NaN</td>\n",
              "      <td>September 24, 2021</td>\n",
              "      <td>2021</td>\n",
              "      <td>TV-MA</td>\n",
              "      <td>1 Season</td>\n",
              "      <td>Crime TV Shows, International TV Shows, TV Act...</td>\n",
              "    </tr>\n",
              "    <tr>\n",
              "      <th>3</th>\n",
              "      <td>s4</td>\n",
              "      <td>TV Show</td>\n",
              "      <td>Jailbirds New Orleans</td>\n",
              "      <td>NaN</td>\n",
              "      <td>NaN</td>\n",
              "      <td>NaN</td>\n",
              "      <td>September 24, 2021</td>\n",
              "      <td>2021</td>\n",
              "      <td>TV-MA</td>\n",
              "      <td>1 Season</td>\n",
              "      <td>Docuseries, Reality TV</td>\n",
              "    </tr>\n",
              "    <tr>\n",
              "      <th>4</th>\n",
              "      <td>s5</td>\n",
              "      <td>TV Show</td>\n",
              "      <td>Kota Factory</td>\n",
              "      <td>NaN</td>\n",
              "      <td>Mayur More, Jitendra Kumar, Ranjan Raj, Alam K...</td>\n",
              "      <td>India</td>\n",
              "      <td>September 24, 2021</td>\n",
              "      <td>2021</td>\n",
              "      <td>TV-MA</td>\n",
              "      <td>2 Seasons</td>\n",
              "      <td>International TV Shows, Romantic TV Shows, TV ...</td>\n",
              "    </tr>\n",
              "    <tr>\n",
              "      <th>8775</th>\n",
              "      <td>s8803</td>\n",
              "      <td>Movie</td>\n",
              "      <td>Zodiac</td>\n",
              "      <td>David Fincher</td>\n",
              "      <td>Mark Ruffalo, Jake Gyllenhaal, Robert Downey J...</td>\n",
              "      <td>United States</td>\n",
              "      <td>November 20, 2019</td>\n",
              "      <td>2007</td>\n",
              "      <td>R</td>\n",
              "      <td>158 min</td>\n",
              "      <td>Cult Movies, Dramas, Thrillers</td>\n",
              "    </tr>\n",
              "    <tr>\n",
              "      <th>8776</th>\n",
              "      <td>s8804</td>\n",
              "      <td>TV Show</td>\n",
              "      <td>Zombie Dumb</td>\n",
              "      <td>NaN</td>\n",
              "      <td>NaN</td>\n",
              "      <td>NaN</td>\n",
              "      <td>July 1, 2019</td>\n",
              "      <td>2018</td>\n",
              "      <td>TV-Y7</td>\n",
              "      <td>2 Seasons</td>\n",
              "      <td>Kids' TV, Korean TV Shows, TV Comedies</td>\n",
              "    </tr>\n",
              "    <tr>\n",
              "      <th>8777</th>\n",
              "      <td>s8805</td>\n",
              "      <td>Movie</td>\n",
              "      <td>Zombieland</td>\n",
              "      <td>Ruben Fleischer</td>\n",
              "      <td>Jesse Eisenberg, Woody Harrelson, Emma Stone, ...</td>\n",
              "      <td>United States</td>\n",
              "      <td>November 1, 2019</td>\n",
              "      <td>2009</td>\n",
              "      <td>R</td>\n",
              "      <td>88 min</td>\n",
              "      <td>Comedies, Horror Movies</td>\n",
              "    </tr>\n",
              "    <tr>\n",
              "      <th>8778</th>\n",
              "      <td>s8806</td>\n",
              "      <td>Movie</td>\n",
              "      <td>Zoom</td>\n",
              "      <td>Peter Hewitt</td>\n",
              "      <td>Tim Allen, Courteney Cox, Chevy Chase, Kate Ma...</td>\n",
              "      <td>United States</td>\n",
              "      <td>January 11, 2020</td>\n",
              "      <td>2006</td>\n",
              "      <td>PG</td>\n",
              "      <td>88 min</td>\n",
              "      <td>Children &amp; Family Movies, Comedies</td>\n",
              "    </tr>\n",
              "    <tr>\n",
              "      <th>8779</th>\n",
              "      <td>s8807</td>\n",
              "      <td>Movie</td>\n",
              "      <td>Zubaan</td>\n",
              "      <td>Mozez Singh</td>\n",
              "      <td>Vicky Kaushal, Sarah-Jane Dias, Raaghav Chanan...</td>\n",
              "      <td>India</td>\n",
              "      <td>March 2, 2019</td>\n",
              "      <td>2015</td>\n",
              "      <td>TV-14</td>\n",
              "      <td>111 min</td>\n",
              "      <td>Dramas, International Movies, Music &amp; Musicals</td>\n",
              "    </tr>\n",
              "  </tbody>\n",
              "</table>\n",
              "</div>\n",
              "    <div class=\"colab-df-buttons\">\n",
              "\n",
              "  <div class=\"colab-df-container\">\n",
              "    <button class=\"colab-df-convert\" onclick=\"convertToInteractive('df-3368623d-8788-4345-8f5b-5d79106c6e5c')\"\n",
              "            title=\"Convert this dataframe to an interactive table.\"\n",
              "            style=\"display:none;\">\n",
              "\n",
              "  <svg xmlns=\"http://www.w3.org/2000/svg\" height=\"24px\" viewBox=\"0 -960 960 960\">\n",
              "    <path d=\"M120-120v-720h720v720H120Zm60-500h600v-160H180v160Zm220 220h160v-160H400v160Zm0 220h160v-160H400v160ZM180-400h160v-160H180v160Zm440 0h160v-160H620v160ZM180-180h160v-160H180v160Zm440 0h160v-160H620v160Z\"/>\n",
              "  </svg>\n",
              "    </button>\n",
              "\n",
              "  <style>\n",
              "    .colab-df-container {\n",
              "      display:flex;\n",
              "      gap: 12px;\n",
              "    }\n",
              "\n",
              "    .colab-df-convert {\n",
              "      background-color: #E8F0FE;\n",
              "      border: none;\n",
              "      border-radius: 50%;\n",
              "      cursor: pointer;\n",
              "      display: none;\n",
              "      fill: #1967D2;\n",
              "      height: 32px;\n",
              "      padding: 0 0 0 0;\n",
              "      width: 32px;\n",
              "    }\n",
              "\n",
              "    .colab-df-convert:hover {\n",
              "      background-color: #E2EBFA;\n",
              "      box-shadow: 0px 1px 2px rgba(60, 64, 67, 0.3), 0px 1px 3px 1px rgba(60, 64, 67, 0.15);\n",
              "      fill: #174EA6;\n",
              "    }\n",
              "\n",
              "    .colab-df-buttons div {\n",
              "      margin-bottom: 4px;\n",
              "    }\n",
              "\n",
              "    [theme=dark] .colab-df-convert {\n",
              "      background-color: #3B4455;\n",
              "      fill: #D2E3FC;\n",
              "    }\n",
              "\n",
              "    [theme=dark] .colab-df-convert:hover {\n",
              "      background-color: #434B5C;\n",
              "      box-shadow: 0px 1px 3px 1px rgba(0, 0, 0, 0.15);\n",
              "      filter: drop-shadow(0px 1px 2px rgba(0, 0, 0, 0.3));\n",
              "      fill: #FFFFFF;\n",
              "    }\n",
              "  </style>\n",
              "\n",
              "    <script>\n",
              "      const buttonEl =\n",
              "        document.querySelector('#df-3368623d-8788-4345-8f5b-5d79106c6e5c button.colab-df-convert');\n",
              "      buttonEl.style.display =\n",
              "        google.colab.kernel.accessAllowed ? 'block' : 'none';\n",
              "\n",
              "      async function convertToInteractive(key) {\n",
              "        const element = document.querySelector('#df-3368623d-8788-4345-8f5b-5d79106c6e5c');\n",
              "        const dataTable =\n",
              "          await google.colab.kernel.invokeFunction('convertToInteractive',\n",
              "                                                    [key], {});\n",
              "        if (!dataTable) return;\n",
              "\n",
              "        const docLinkHtml = 'Like what you see? Visit the ' +\n",
              "          '<a target=\"_blank\" href=https://colab.research.google.com/notebooks/data_table.ipynb>data table notebook</a>'\n",
              "          + ' to learn more about interactive tables.';\n",
              "        element.innerHTML = '';\n",
              "        dataTable['output_type'] = 'display_data';\n",
              "        await google.colab.output.renderOutput(dataTable, element);\n",
              "        const docLink = document.createElement('div');\n",
              "        docLink.innerHTML = docLinkHtml;\n",
              "        element.appendChild(docLink);\n",
              "      }\n",
              "    </script>\n",
              "  </div>\n",
              "\n",
              "\n",
              "<div id=\"df-4e51bbfe-6a55-4f28-90fc-79db4be97a17\">\n",
              "  <button class=\"colab-df-quickchart\" onclick=\"quickchart('df-4e51bbfe-6a55-4f28-90fc-79db4be97a17')\"\n",
              "            title=\"Suggest charts\"\n",
              "            style=\"display:none;\">\n",
              "\n",
              "<svg xmlns=\"http://www.w3.org/2000/svg\" height=\"24px\"viewBox=\"0 0 24 24\"\n",
              "     width=\"24px\">\n",
              "    <g>\n",
              "        <path d=\"M19 3H5c-1.1 0-2 .9-2 2v14c0 1.1.9 2 2 2h14c1.1 0 2-.9 2-2V5c0-1.1-.9-2-2-2zM9 17H7v-7h2v7zm4 0h-2V7h2v10zm4 0h-2v-4h2v4z\"/>\n",
              "    </g>\n",
              "</svg>\n",
              "  </button>\n",
              "\n",
              "<style>\n",
              "  .colab-df-quickchart {\n",
              "      --bg-color: #E8F0FE;\n",
              "      --fill-color: #1967D2;\n",
              "      --hover-bg-color: #E2EBFA;\n",
              "      --hover-fill-color: #174EA6;\n",
              "      --disabled-fill-color: #AAA;\n",
              "      --disabled-bg-color: #DDD;\n",
              "  }\n",
              "\n",
              "  [theme=dark] .colab-df-quickchart {\n",
              "      --bg-color: #3B4455;\n",
              "      --fill-color: #D2E3FC;\n",
              "      --hover-bg-color: #434B5C;\n",
              "      --hover-fill-color: #FFFFFF;\n",
              "      --disabled-bg-color: #3B4455;\n",
              "      --disabled-fill-color: #666;\n",
              "  }\n",
              "\n",
              "  .colab-df-quickchart {\n",
              "    background-color: var(--bg-color);\n",
              "    border: none;\n",
              "    border-radius: 50%;\n",
              "    cursor: pointer;\n",
              "    display: none;\n",
              "    fill: var(--fill-color);\n",
              "    height: 32px;\n",
              "    padding: 0;\n",
              "    width: 32px;\n",
              "  }\n",
              "\n",
              "  .colab-df-quickchart:hover {\n",
              "    background-color: var(--hover-bg-color);\n",
              "    box-shadow: 0 1px 2px rgba(60, 64, 67, 0.3), 0 1px 3px 1px rgba(60, 64, 67, 0.15);\n",
              "    fill: var(--button-hover-fill-color);\n",
              "  }\n",
              "\n",
              "  .colab-df-quickchart-complete:disabled,\n",
              "  .colab-df-quickchart-complete:disabled:hover {\n",
              "    background-color: var(--disabled-bg-color);\n",
              "    fill: var(--disabled-fill-color);\n",
              "    box-shadow: none;\n",
              "  }\n",
              "\n",
              "  .colab-df-spinner {\n",
              "    border: 2px solid var(--fill-color);\n",
              "    border-color: transparent;\n",
              "    border-bottom-color: var(--fill-color);\n",
              "    animation:\n",
              "      spin 1s steps(1) infinite;\n",
              "  }\n",
              "\n",
              "  @keyframes spin {\n",
              "    0% {\n",
              "      border-color: transparent;\n",
              "      border-bottom-color: var(--fill-color);\n",
              "      border-left-color: var(--fill-color);\n",
              "    }\n",
              "    20% {\n",
              "      border-color: transparent;\n",
              "      border-left-color: var(--fill-color);\n",
              "      border-top-color: var(--fill-color);\n",
              "    }\n",
              "    30% {\n",
              "      border-color: transparent;\n",
              "      border-left-color: var(--fill-color);\n",
              "      border-top-color: var(--fill-color);\n",
              "      border-right-color: var(--fill-color);\n",
              "    }\n",
              "    40% {\n",
              "      border-color: transparent;\n",
              "      border-right-color: var(--fill-color);\n",
              "      border-top-color: var(--fill-color);\n",
              "    }\n",
              "    60% {\n",
              "      border-color: transparent;\n",
              "      border-right-color: var(--fill-color);\n",
              "    }\n",
              "    80% {\n",
              "      border-color: transparent;\n",
              "      border-right-color: var(--fill-color);\n",
              "      border-bottom-color: var(--fill-color);\n",
              "    }\n",
              "    90% {\n",
              "      border-color: transparent;\n",
              "      border-bottom-color: var(--fill-color);\n",
              "    }\n",
              "  }\n",
              "</style>\n",
              "\n",
              "  <script>\n",
              "    async function quickchart(key) {\n",
              "      const quickchartButtonEl =\n",
              "        document.querySelector('#' + key + ' button');\n",
              "      quickchartButtonEl.disabled = true;  // To prevent multiple clicks.\n",
              "      quickchartButtonEl.classList.add('colab-df-spinner');\n",
              "      try {\n",
              "        const charts = await google.colab.kernel.invokeFunction(\n",
              "            'suggestCharts', [key], {});\n",
              "      } catch (error) {\n",
              "        console.error('Error during call to suggestCharts:', error);\n",
              "      }\n",
              "      quickchartButtonEl.classList.remove('colab-df-spinner');\n",
              "      quickchartButtonEl.classList.add('colab-df-quickchart-complete');\n",
              "    }\n",
              "    (() => {\n",
              "      let quickchartButtonEl =\n",
              "        document.querySelector('#df-4e51bbfe-6a55-4f28-90fc-79db4be97a17 button');\n",
              "      quickchartButtonEl.style.display =\n",
              "        google.colab.kernel.accessAllowed ? 'block' : 'none';\n",
              "    })();\n",
              "  </script>\n",
              "</div>\n",
              "\n",
              "    </div>\n",
              "  </div>\n"
            ],
            "application/vnd.google.colaboratory.intrinsic+json": {
              "type": "dataframe",
              "summary": "{\n  \"name\": \"pd\",\n  \"rows\": 10,\n  \"fields\": [\n    {\n      \"column\": \"show_id\",\n      \"properties\": {\n        \"dtype\": \"string\",\n        \"num_unique_values\": 10,\n        \"samples\": [\n          \"s8806\",\n          \"s2\",\n          \"s8803\"\n        ],\n        \"semantic_type\": \"\",\n        \"description\": \"\"\n      }\n    },\n    {\n      \"column\": \"type\",\n      \"properties\": {\n        \"dtype\": \"category\",\n        \"num_unique_values\": 2,\n        \"samples\": [\n          \"TV Show\",\n          \"Movie\"\n        ],\n        \"semantic_type\": \"\",\n        \"description\": \"\"\n      }\n    },\n    {\n      \"column\": \"title\",\n      \"properties\": {\n        \"dtype\": \"string\",\n        \"num_unique_values\": 10,\n        \"samples\": [\n          \"Zoom\",\n          \"Blood & Water\"\n        ],\n        \"semantic_type\": \"\",\n        \"description\": \"\"\n      }\n    },\n    {\n      \"column\": \"director\",\n      \"properties\": {\n        \"dtype\": \"string\",\n        \"num_unique_values\": 6,\n        \"samples\": [\n          \"Kirsten Johnson\",\n          \"Julien Leclercq\"\n        ],\n        \"semantic_type\": \"\",\n        \"description\": \"\"\n      }\n    },\n    {\n      \"column\": \"cast\",\n      \"properties\": {\n        \"dtype\": \"string\",\n        \"num_unique_values\": 7,\n        \"samples\": [\n          \"Ama Qamata, Khosi Ngema, Gail Mabalane, Thabang Molaba, Dillon Windvogel, Natasha Thahane, Arno Greeff, Xolile Tshabalala, Getmore Sithole, Cindy Mahlangu, Ryle De Morny, Greteli Fincham, Sello Maake Ka-Ncube, Odwa Gwanya, Mekaila Mathys, Sandi Schultz, Duane Williams, Shamilla Miller, Patrick Mofokeng\",\n          \"Sami Bouajila, Tracy Gotoas, Samuel Jouy, Nabiha Akkari, Sofia Lesaffre, Salim Kechiouche, Noureddine Farihi, Geert Van Rampelberg, Bakary Diombera\"\n        ],\n        \"semantic_type\": \"\",\n        \"description\": \"\"\n      }\n    },\n    {\n      \"column\": \"country\",\n      \"properties\": {\n        \"dtype\": \"category\",\n        \"num_unique_values\": 3,\n        \"samples\": [\n          \"United States\",\n          \"South Africa\"\n        ],\n        \"semantic_type\": \"\",\n        \"description\": \"\"\n      }\n    },\n    {\n      \"column\": \"date_added\",\n      \"properties\": {\n        \"dtype\": \"object\",\n        \"num_unique_values\": 7,\n        \"samples\": [\n          \"September 25, 2021\",\n          \"September 24, 2021\"\n        ],\n        \"semantic_type\": \"\",\n        \"description\": \"\"\n      }\n    },\n    {\n      \"column\": \"release_year\",\n      \"properties\": {\n        \"dtype\": \"number\",\n        \"std\": 6,\n        \"min\": 2006,\n        \"max\": 2021,\n        \"num_unique_values\": 7,\n        \"samples\": [\n          2020,\n          2021\n        ],\n        \"semantic_type\": \"\",\n        \"description\": \"\"\n      }\n    },\n    {\n      \"column\": \"rating\",\n      \"properties\": {\n        \"dtype\": \"string\",\n        \"num_unique_values\": 6,\n        \"samples\": [\n          \"PG-13\",\n          \"TV-MA\"\n        ],\n        \"semantic_type\": \"\",\n        \"description\": \"\"\n      }\n    },\n    {\n      \"column\": \"duration\",\n      \"properties\": {\n        \"dtype\": \"string\",\n        \"num_unique_values\": 6,\n        \"samples\": [\n          \"90 min\",\n          \"2 Seasons\"\n        ],\n        \"semantic_type\": \"\",\n        \"description\": \"\"\n      }\n    },\n    {\n      \"column\": \"listed_in\",\n      \"properties\": {\n        \"dtype\": \"string\",\n        \"num_unique_values\": 10,\n        \"samples\": [\n          \"Children & Family Movies, Comedies\",\n          \"International TV Shows, TV Dramas, TV Mysteries\"\n        ],\n        \"semantic_type\": \"\",\n        \"description\": \"\"\n      }\n    }\n  ]\n}"
            }
          },
          "metadata": {},
          "execution_count": 4
        }
      ],
      "source": [
        "#a)\tPrint the first 5 rows and last 5 rows of the dataframe\n",
        "import pandas as pd\n",
        "fp1=pd.read_csv(\"Netflix.csv\")\n",
        "fp1.head()\n",
        "fp1.tail()\n",
        "pd.concat([fp1.head(),fp1.tail()])"
      ]
    },
    {
      "cell_type": "code",
      "source": [
        "#b)\tCheck how many rows and columns are there using Pandas function.\n",
        "nrows,ncols=fp1.shape\n",
        "print(nrows,ncols)\n",
        "print(f\"Number of Rows:{nrows}\")\n",
        "print(f\"Number of Columns:{ncols}\")"
      ],
      "metadata": {
        "colab": {
          "base_uri": "https://localhost:8080/",
          "height": 0
        },
        "id": "9k9Ml-m2VRlf",
        "outputId": "78b49269-b46e-4944-a556-c528bb0aba6f"
      },
      "execution_count": 7,
      "outputs": [
        {
          "output_type": "stream",
          "name": "stdout",
          "text": [
            "8780 11\n",
            "Number of Rows:8780\n",
            "Number of Columns:11\n"
          ]
        }
      ]
    },
    {
      "cell_type": "code",
      "source": [
        "#c)\tPrint all the column names\n",
        "fp1.columns"
      ],
      "metadata": {
        "colab": {
          "base_uri": "https://localhost:8080/",
          "height": 0
        },
        "id": "hZGqEHQikPMa",
        "outputId": "c66487a9-ec45-4677-e3ca-e15905f7cfb3"
      },
      "execution_count": 10,
      "outputs": [
        {
          "output_type": "execute_result",
          "data": {
            "text/plain": [
              "Index(['show_id', 'type', 'title', 'director', 'cast', 'country', 'date_added',\n",
              "       'release_year', 'rating', 'duration', 'listed_in'],\n",
              "      dtype='object')"
            ]
          },
          "metadata": {},
          "execution_count": 10
        }
      ]
    },
    {
      "cell_type": "code",
      "source": [
        "#d)\tCalculate the descriptive statistics of all the variables(integer/float/object etc).\n",
        "des_status=fp1.describe(include=\"all\")\n",
        "print(des_status)"
      ],
      "metadata": {
        "colab": {
          "base_uri": "https://localhost:8080/",
          "height": 0
        },
        "id": "BqAL9FmulboL",
        "outputId": "63513735-dbf6-4277-fe11-6e0b58a46142"
      },
      "execution_count": 16,
      "outputs": [
        {
          "output_type": "stream",
          "name": "stdout",
          "text": [
            "       show_id   type                 title       director  \\\n",
            "count     8780   8780                  8780           6150   \n",
            "unique    8780      2                  8780           4516   \n",
            "top         s1  Movie  Dick Johnson Is Dead  Rajiv Chilaka   \n",
            "freq         1   6110                     1             19   \n",
            "mean       NaN    NaN                   NaN            NaN   \n",
            "std        NaN    NaN                   NaN            NaN   \n",
            "min        NaN    NaN                   NaN            NaN   \n",
            "25%        NaN    NaN                   NaN            NaN   \n",
            "50%        NaN    NaN                   NaN            NaN   \n",
            "75%        NaN    NaN                   NaN            NaN   \n",
            "max        NaN    NaN                   NaN            NaN   \n",
            "\n",
            "                      cast        country       date_added  release_year  \\\n",
            "count                 7956           7952             8770   8780.000000   \n",
            "unique                7671            745             1765           NaN   \n",
            "top     David Attenborough  United States  January 1, 2020           NaN   \n",
            "freq                    19           2809              108           NaN   \n",
            "mean                   NaN            NaN              NaN   2014.178474   \n",
            "std                    NaN            NaN              NaN      8.827938   \n",
            "min                    NaN            NaN              NaN   1925.000000   \n",
            "25%                    NaN            NaN              NaN   2013.000000   \n",
            "50%                    NaN            NaN              NaN   2017.000000   \n",
            "75%                    NaN            NaN              NaN   2019.000000   \n",
            "max                    NaN            NaN              NaN   2021.000000   \n",
            "\n",
            "       rating  duration                     listed_in  \n",
            "count    8776      8780                          8780  \n",
            "unique     14       220                           514  \n",
            "top     TV-MA  1 Season  Dramas, International Movies  \n",
            "freq     3198      1788                           361  \n",
            "mean      NaN       NaN                           NaN  \n",
            "std       NaN       NaN                           NaN  \n",
            "min       NaN       NaN                           NaN  \n",
            "25%       NaN       NaN                           NaN  \n",
            "50%       NaN       NaN                           NaN  \n",
            "75%       NaN       NaN                           NaN  \n",
            "max       NaN       NaN                           NaN  \n"
          ]
        }
      ]
    },
    {
      "cell_type": "code",
      "source": [
        "des_status2=fp1.describe(include=\"number\")\n",
        "print(des_status2)"
      ],
      "metadata": {
        "colab": {
          "base_uri": "https://localhost:8080/",
          "height": 0
        },
        "id": "rYZ9SjbGmx3a",
        "outputId": "28798976-41cb-4338-b28c-95083a60b1b5"
      },
      "execution_count": 15,
      "outputs": [
        {
          "output_type": "stream",
          "name": "stdout",
          "text": [
            "       release_year\n",
            "count   8780.000000\n",
            "mean    2014.178474\n",
            "std        8.827938\n",
            "min     1925.000000\n",
            "25%     2013.000000\n",
            "50%     2017.000000\n",
            "75%     2019.000000\n",
            "max     2021.000000\n"
          ]
        }
      ]
    },
    {
      "cell_type": "code",
      "source": [
        "des_status1=fp1.describe(include=\"object\")\n",
        "print(des_status1)\n"
      ],
      "metadata": {
        "colab": {
          "base_uri": "https://localhost:8080/",
          "height": 0
        },
        "id": "s6AJHPf_mthj",
        "outputId": "3aafe555-5aaf-49a9-d49c-0bab58f51d06"
      },
      "execution_count": 14,
      "outputs": [
        {
          "output_type": "stream",
          "name": "stdout",
          "text": [
            "       show_id   type                 title       director  \\\n",
            "count     8780   8780                  8780           6150   \n",
            "unique    8780      2                  8780           4516   \n",
            "top         s1  Movie  Dick Johnson Is Dead  Rajiv Chilaka   \n",
            "freq         1   6110                     1             19   \n",
            "\n",
            "                      cast        country       date_added rating  duration  \\\n",
            "count                 7956           7952             8770   8776      8780   \n",
            "unique                7671            745             1765     14       220   \n",
            "top     David Attenborough  United States  January 1, 2020  TV-MA  1 Season   \n",
            "freq                    19           2809              108   3198      1788   \n",
            "\n",
            "                           listed_in  \n",
            "count                           8780  \n",
            "unique                           514  \n",
            "top     Dramas, International Movies  \n",
            "freq                             361  \n"
          ]
        }
      ]
    },
    {
      "cell_type": "code",
      "source": [
        "#Check the number of unique values for each column\n",
        "unique_counts=fp1.nunique()\n",
        "print(unique_counts)"
      ],
      "metadata": {
        "colab": {
          "base_uri": "https://localhost:8080/",
          "height": 0
        },
        "id": "KN3SxDCfoO85",
        "outputId": "03397276-0f44-4cde-ca72-295e585dd9ad"
      },
      "execution_count": 23,
      "outputs": [
        {
          "output_type": "stream",
          "name": "stdout",
          "text": [
            "show_id         8780\n",
            "type               2\n",
            "title           8780\n",
            "director        4516\n",
            "cast            7671\n",
            "country          745\n",
            "date_added      1765\n",
            "release_year      74\n",
            "rating            14\n",
            "duration         220\n",
            "listed_in        514\n",
            "dtype: int64\n"
          ]
        }
      ]
    },
    {
      "cell_type": "code",
      "source": [
        "#f)\tCheck the percentage of missing values for each column.\n",
        "missing_percentage = fp1.isna().mean() * 100\n",
        "print(missing_percentage)"
      ],
      "metadata": {
        "colab": {
          "base_uri": "https://localhost:8080/",
          "height": 0
        },
        "id": "X2pX8T9drOFU",
        "outputId": "72a269fb-b187-4111-a50a-9b5760a810f4"
      },
      "execution_count": 24,
      "outputs": [
        {
          "output_type": "stream",
          "name": "stdout",
          "text": [
            "show_id          0.000000\n",
            "type             0.000000\n",
            "title            0.000000\n",
            "director        29.954442\n",
            "cast             9.384966\n",
            "country          9.430524\n",
            "date_added       0.113895\n",
            "release_year     0.000000\n",
            "rating           0.045558\n",
            "duration         0.000000\n",
            "listed_in        0.000000\n",
            "dtype: float64\n"
          ]
        }
      ]
    },
    {
      "cell_type": "code",
      "source": [
        "#g)\tDelete all the rows where Director column has missing values.\n",
        "fp1_cleaned = fp1.dropna(subset=['director'])\n",
        "# Print the cleaned DataFrame\n",
        "print(fp1_cleaned)"
      ],
      "metadata": {
        "colab": {
          "base_uri": "https://localhost:8080/",
          "height": 0
        },
        "id": "U-1q9Hz7rpLd",
        "outputId": "e72243de-f61c-4ec3-f299-10f1ff49d8dc"
      },
      "execution_count": 26,
      "outputs": [
        {
          "output_type": "stream",
          "name": "stdout",
          "text": [
            "     show_id     type                             title  \\\n",
            "0         s1    Movie              Dick Johnson Is Dead   \n",
            "2         s3  TV Show                         Ganglands   \n",
            "5         s6  TV Show                     Midnight Mass   \n",
            "6         s7    Movie  My Little Pony: A New Generation   \n",
            "7         s8    Movie                           Sankofa   \n",
            "...      ...      ...                               ...   \n",
            "8774   s8802    Movie                           Zinzana   \n",
            "8775   s8803    Movie                            Zodiac   \n",
            "8777   s8805    Movie                        Zombieland   \n",
            "8778   s8806    Movie                              Zoom   \n",
            "8779   s8807    Movie                            Zubaan   \n",
            "\n",
            "                           director  \\\n",
            "0                   Kirsten Johnson   \n",
            "2                   Julien Leclercq   \n",
            "5                     Mike Flanagan   \n",
            "6     Robert Cullen, José Luis Ucha   \n",
            "7                      Haile Gerima   \n",
            "...                             ...   \n",
            "8774                Majid Al Ansari   \n",
            "8775                  David Fincher   \n",
            "8777                Ruben Fleischer   \n",
            "8778                   Peter Hewitt   \n",
            "8779                    Mozez Singh   \n",
            "\n",
            "                                                   cast  \\\n",
            "0                                                   NaN   \n",
            "2     Sami Bouajila, Tracy Gotoas, Samuel Jouy, Nabi...   \n",
            "5     Kate Siegel, Zach Gilford, Hamish Linklater, H...   \n",
            "6     Vanessa Hudgens, Kimiko Glenn, James Marsden, ...   \n",
            "7     Kofi Ghanaba, Oyafunmike Ogunlano, Alexandra D...   \n",
            "...                                                 ...   \n",
            "8774  Ali Suliman, Saleh Bakri, Yasa, Ali Al-Jabri, ...   \n",
            "8775  Mark Ruffalo, Jake Gyllenhaal, Robert Downey J...   \n",
            "8777  Jesse Eisenberg, Woody Harrelson, Emma Stone, ...   \n",
            "8778  Tim Allen, Courteney Cox, Chevy Chase, Kate Ma...   \n",
            "8779  Vicky Kaushal, Sarah-Jane Dias, Raaghav Chanan...   \n",
            "\n",
            "                                                country          date_added  \\\n",
            "0                                         United States  September 25, 2021   \n",
            "2                                                   NaN  September 24, 2021   \n",
            "5                                                   NaN  September 24, 2021   \n",
            "6                                                   NaN  September 24, 2021   \n",
            "7     United States, Ghana, Burkina Faso, United Kin...  September 24, 2021   \n",
            "...                                                 ...                 ...   \n",
            "8774                       United Arab Emirates, Jordan       March 9, 2016   \n",
            "8775                                      United States   November 20, 2019   \n",
            "8777                                      United States    November 1, 2019   \n",
            "8778                                      United States    January 11, 2020   \n",
            "8779                                              India       March 2, 2019   \n",
            "\n",
            "      release_year rating  duration  \\\n",
            "0             2020  PG-13    90 min   \n",
            "2             2021  TV-MA  1 Season   \n",
            "5             2021  TV-MA  1 Season   \n",
            "6             2021     PG    91 min   \n",
            "7             1993  TV-MA   125 min   \n",
            "...            ...    ...       ...   \n",
            "8774          2015  TV-MA    96 min   \n",
            "8775          2007      R   158 min   \n",
            "8777          2009      R    88 min   \n",
            "8778          2006     PG    88 min   \n",
            "8779          2015  TV-14   111 min   \n",
            "\n",
            "                                              listed_in  \n",
            "0                                         Documentaries  \n",
            "2     Crime TV Shows, International TV Shows, TV Act...  \n",
            "5                    TV Dramas, TV Horror, TV Mysteries  \n",
            "6                              Children & Family Movies  \n",
            "7      Dramas, Independent Movies, International Movies  \n",
            "...                                                 ...  \n",
            "8774            Dramas, International Movies, Thrillers  \n",
            "8775                     Cult Movies, Dramas, Thrillers  \n",
            "8777                            Comedies, Horror Movies  \n",
            "8778                 Children & Family Movies, Comedies  \n",
            "8779     Dramas, International Movies, Music & Musicals  \n",
            "\n",
            "[6150 rows x 11 columns]\n"
          ]
        }
      ]
    },
    {
      "cell_type": "code",
      "source": [
        "#h)\tPrint all the records where country has Germany value (including West Germany). If any other country is there along with Germany, then that row should also come in output.\n",
        "filtered_df = fp1[fp1['country'].str.contains('Germany|West Germany', case=False, na=False)]\n",
        "print(filtered_df)"
      ],
      "metadata": {
        "colab": {
          "base_uri": "https://localhost:8080/",
          "height": 0
        },
        "id": "IO9DqcLfsK-Y",
        "outputId": "61635121-8c97-4a90-8af6-8089c3f54287"
      },
      "execution_count": 28,
      "outputs": [
        {
          "output_type": "stream",
          "name": "stdout",
          "text": [
            "     show_id   type                                title  \\\n",
            "7         s8  Movie                              Sankofa   \n",
            "12       s13  Movie                         Je Suis Karl   \n",
            "129     s130  Movie                   An Unfinished Life   \n",
            "142     s143  Movie                      Freedom Writers   \n",
            "172     s173  Movie                       School of Rock   \n",
            "...      ...    ...                                  ...   \n",
            "8590   s8618  Movie                                Trash   \n",
            "8634   s8662  Movie                      Unfinished Song   \n",
            "8641   s8669  Movie                       V for Vendetta   \n",
            "8702   s8730  Movie                   Where the Money Is   \n",
            "8718   s8746  Movie  Willy Wonka & the Chocolate Factory   \n",
            "\n",
            "                  director                                               cast  \\\n",
            "7             Haile Gerima  Kofi Ghanaba, Oyafunmike Ogunlano, Alexandra D...   \n",
            "12     Christian Schwochow  Luna Wedler, Jannis Niewöhner, Milan Peschel, ...   \n",
            "129        Lasse Hallström  Robert Redford, Jennifer Lopez, Morgan Freeman...   \n",
            "142    Richard LaGravenese  Hilary Swank, Patrick Dempsey, Scott Glenn, Im...   \n",
            "172      Richard Linklater  Jack Black, Joan Cusack, Mike White, Sarah Sil...   \n",
            "...                    ...                                                ...   \n",
            "8590        Stephen Daldry  Wagner Moura, Martin Sheen, Rooney Mara, Selto...   \n",
            "8634  Paul Andrew Williams  Terence Stamp, Gemma Arterton, Christopher Ecc...   \n",
            "8641        James McTeigue  Natalie Portman, Hugo Weaving, Stephen Rea, St...   \n",
            "8702       Marek Kanievska  Paul Newman, Linda Fiorentino, Dermot Mulroney...   \n",
            "8718            Mel Stuart  Gene Wilder, Jack Albertson, Peter Ostrum, Roy...   \n",
            "\n",
            "                                                country          date_added  \\\n",
            "7     United States, Ghana, Burkina Faso, United Kin...  September 24, 2021   \n",
            "12                              Germany, Czech Republic  September 23, 2021   \n",
            "129                              Germany, United States   September 1, 2021   \n",
            "142                              Germany, United States   September 1, 2021   \n",
            "172                              United States, Germany   September 1, 2021   \n",
            "...                                                 ...                 ...   \n",
            "8590                    United Kingdom, Brazil, Germany     January 1, 2019   \n",
            "8634                            United Kingdom, Germany       July 22, 2019   \n",
            "8641             United States, United Kingdom, Germany     October 1, 2018   \n",
            "8702     Germany, United States, United Kingdom, Canada    January 15, 2020   \n",
            "8718          United States, East Germany, West Germany     January 1, 2020   \n",
            "\n",
            "      release_year rating duration  \\\n",
            "7             1993  TV-MA  125 min   \n",
            "12            2021  TV-MA  127 min   \n",
            "129           2005  PG-13  108 min   \n",
            "142           2007  PG-13  124 min   \n",
            "172           2003  PG-13  110 min   \n",
            "...            ...    ...      ...   \n",
            "8590          2014      R  114 min   \n",
            "8634          2012  PG-13   94 min   \n",
            "8641          2005      R  132 min   \n",
            "8702          2000  PG-13   89 min   \n",
            "8718          1971      G  100 min   \n",
            "\n",
            "                                              listed_in  \n",
            "7      Dramas, Independent Movies, International Movies  \n",
            "12                         Dramas, International Movies  \n",
            "129                                              Dramas  \n",
            "142                                              Dramas  \n",
            "172                          Comedies, Music & Musicals  \n",
            "...                                                 ...  \n",
            "8590              Dramas, Independent Movies, Thrillers  \n",
            "8634               Comedies, Dramas, Independent Movies  \n",
            "8641       Action & Adventure, Dramas, Sci-Fi & Fantasy  \n",
            "8702               Action & Adventure, Comedies, Dramas  \n",
            "8718  Children & Family Movies, Classic Movies, Come...  \n",
            "\n",
            "[231 rows x 11 columns]\n"
          ]
        }
      ]
    },
    {
      "cell_type": "code",
      "source": [
        "#i)\tExpand Duration column into 2 separate columns – First column having the numeric value and other having String.\n",
        "#Eg: 3 seasons should be split in 2 columns having 3 in 1st column and seasons in 2nd column.\n",
        "fp1[['duration_Numeric', 'duration_Unit']] = fp1['duration'].str.extract(r'(\\d+)\\s*(\\w+)')\n",
        "print(fp1)"
      ],
      "metadata": {
        "colab": {
          "base_uri": "https://localhost:8080/",
          "height": 0
        },
        "id": "q_z-HnEWtJ4f",
        "outputId": "8f879a48-7eac-4704-97ab-1c396e20d6d8"
      },
      "execution_count": 30,
      "outputs": [
        {
          "output_type": "stream",
          "name": "stdout",
          "text": [
            "     show_id     type                  title         director  \\\n",
            "0         s1    Movie   Dick Johnson Is Dead  Kirsten Johnson   \n",
            "1         s2  TV Show          Blood & Water              NaN   \n",
            "2         s3  TV Show              Ganglands  Julien Leclercq   \n",
            "3         s4  TV Show  Jailbirds New Orleans              NaN   \n",
            "4         s5  TV Show           Kota Factory              NaN   \n",
            "...      ...      ...                    ...              ...   \n",
            "8775   s8803    Movie                 Zodiac    David Fincher   \n",
            "8776   s8804  TV Show            Zombie Dumb              NaN   \n",
            "8777   s8805    Movie             Zombieland  Ruben Fleischer   \n",
            "8778   s8806    Movie                   Zoom     Peter Hewitt   \n",
            "8779   s8807    Movie                 Zubaan      Mozez Singh   \n",
            "\n",
            "                                                   cast        country  \\\n",
            "0                                                   NaN  United States   \n",
            "1     Ama Qamata, Khosi Ngema, Gail Mabalane, Thaban...   South Africa   \n",
            "2     Sami Bouajila, Tracy Gotoas, Samuel Jouy, Nabi...            NaN   \n",
            "3                                                   NaN            NaN   \n",
            "4     Mayur More, Jitendra Kumar, Ranjan Raj, Alam K...          India   \n",
            "...                                                 ...            ...   \n",
            "8775  Mark Ruffalo, Jake Gyllenhaal, Robert Downey J...  United States   \n",
            "8776                                                NaN            NaN   \n",
            "8777  Jesse Eisenberg, Woody Harrelson, Emma Stone, ...  United States   \n",
            "8778  Tim Allen, Courteney Cox, Chevy Chase, Kate Ma...  United States   \n",
            "8779  Vicky Kaushal, Sarah-Jane Dias, Raaghav Chanan...          India   \n",
            "\n",
            "              date_added  release_year rating   duration  \\\n",
            "0     September 25, 2021          2020  PG-13     90 min   \n",
            "1     September 24, 2021          2021  TV-MA  2 Seasons   \n",
            "2     September 24, 2021          2021  TV-MA   1 Season   \n",
            "3     September 24, 2021          2021  TV-MA   1 Season   \n",
            "4     September 24, 2021          2021  TV-MA  2 Seasons   \n",
            "...                  ...           ...    ...        ...   \n",
            "8775   November 20, 2019          2007      R    158 min   \n",
            "8776        July 1, 2019          2018  TV-Y7  2 Seasons   \n",
            "8777    November 1, 2019          2009      R     88 min   \n",
            "8778    January 11, 2020          2006     PG     88 min   \n",
            "8779       March 2, 2019          2015  TV-14    111 min   \n",
            "\n",
            "                                              listed_in duration_Numeric  \\\n",
            "0                                         Documentaries               90   \n",
            "1       International TV Shows, TV Dramas, TV Mysteries                2   \n",
            "2     Crime TV Shows, International TV Shows, TV Act...                1   \n",
            "3                                Docuseries, Reality TV                1   \n",
            "4     International TV Shows, Romantic TV Shows, TV ...                2   \n",
            "...                                                 ...              ...   \n",
            "8775                     Cult Movies, Dramas, Thrillers              158   \n",
            "8776             Kids' TV, Korean TV Shows, TV Comedies                2   \n",
            "8777                            Comedies, Horror Movies               88   \n",
            "8778                 Children & Family Movies, Comedies               88   \n",
            "8779     Dramas, International Movies, Music & Musicals              111   \n",
            "\n",
            "     duration_Unit  \n",
            "0              min  \n",
            "1          Seasons  \n",
            "2           Season  \n",
            "3           Season  \n",
            "4          Seasons  \n",
            "...            ...  \n",
            "8775           min  \n",
            "8776       Seasons  \n",
            "8777           min  \n",
            "8778           min  \n",
            "8779           min  \n",
            "\n",
            "[8780 rows x 13 columns]\n"
          ]
        }
      ]
    },
    {
      "cell_type": "code",
      "source": [
        "#j)\tSplit Date added into 3 separate columns having date value in 1st column, month value in 2nd column and year value in 3rd.\n",
        "if 'date_added' in fp1.columns:\n",
        "    fp1[['Date', 'Month', 'Year']] = fp1['date_added'].str.split('/', expand=True)\n",
        "else:\n",
        "    print(\"Column 'date_added' not found in the DataFrame. Check previous operations.\")\n",
        "print(fp1)"
      ],
      "metadata": {
        "colab": {
          "base_uri": "https://localhost:8080/",
          "height": 0
        },
        "id": "P5HiYQ4bxJxx",
        "outputId": "bf18088b-89bb-4e20-dbe4-1f4926aebed4"
      },
      "execution_count": 43,
      "outputs": [
        {
          "output_type": "stream",
          "name": "stdout",
          "text": [
            "Column 'date_added' not found in the DataFrame. Check previous operations.\n",
            "     show_id     type                  title         director  \\\n",
            "0         s1    Movie   Dick Johnson Is Dead  Kirsten Johnson   \n",
            "1         s2  TV Show          Blood & Water              NaN   \n",
            "2         s3  TV Show              Ganglands  Julien Leclercq   \n",
            "3         s4  TV Show  Jailbirds New Orleans              NaN   \n",
            "4         s5  TV Show           Kota Factory              NaN   \n",
            "...      ...      ...                    ...              ...   \n",
            "8775   s8803    Movie                 Zodiac    David Fincher   \n",
            "8776   s8804  TV Show            Zombie Dumb              NaN   \n",
            "8777   s8805    Movie             Zombieland  Ruben Fleischer   \n",
            "8778   s8806    Movie                   Zoom     Peter Hewitt   \n",
            "8779   s8807    Movie                 Zubaan      Mozez Singh   \n",
            "\n",
            "                                                   cast        country  \\\n",
            "0                                                   NaN  United States   \n",
            "1     Ama Qamata, Khosi Ngema, Gail Mabalane, Thaban...   South Africa   \n",
            "2     Sami Bouajila, Tracy Gotoas, Samuel Jouy, Nabi...            NaN   \n",
            "3                                                   NaN            NaN   \n",
            "4     Mayur More, Jitendra Kumar, Ranjan Raj, Alam K...          India   \n",
            "...                                                 ...            ...   \n",
            "8775  Mark Ruffalo, Jake Gyllenhaal, Robert Downey J...  United States   \n",
            "8776                                                NaN            NaN   \n",
            "8777  Jesse Eisenberg, Woody Harrelson, Emma Stone, ...  United States   \n",
            "8778  Tim Allen, Courteney Cox, Chevy Chase, Kate Ma...  United States   \n",
            "8779  Vicky Kaushal, Sarah-Jane Dias, Raaghav Chanan...          India   \n",
            "\n",
            "      release_year rating   duration  \\\n",
            "0             2020  PG-13     90 min   \n",
            "1             2021  TV-MA  2 Seasons   \n",
            "2             2021  TV-MA   1 Season   \n",
            "3             2021  TV-MA   1 Season   \n",
            "4             2021  TV-MA  2 Seasons   \n",
            "...            ...    ...        ...   \n",
            "8775          2007      R    158 min   \n",
            "8776          2018  TV-Y7  2 Seasons   \n",
            "8777          2009      R     88 min   \n",
            "8778          2006     PG     88 min   \n",
            "8779          2015  TV-14    111 min   \n",
            "\n",
            "                                              listed_in duration_Numeric  \\\n",
            "0                                         Documentaries               90   \n",
            "1       International TV Shows, TV Dramas, TV Mysteries                2   \n",
            "2     Crime TV Shows, International TV Shows, TV Act...                1   \n",
            "3                                Docuseries, Reality TV                1   \n",
            "4     International TV Shows, Romantic TV Shows, TV ...                2   \n",
            "...                                                 ...              ...   \n",
            "8775                     Cult Movies, Dramas, Thrillers              158   \n",
            "8776             Kids' TV, Korean TV Shows, TV Comedies                2   \n",
            "8777                            Comedies, Horror Movies               88   \n",
            "8778                 Children & Family Movies, Comedies               88   \n",
            "8779     Dramas, International Movies, Music & Musicals              111   \n",
            "\n",
            "     duration_Unit  Date  Month    Year  \n",
            "0              min  25.0    9.0  2021.0  \n",
            "1          Seasons  24.0    9.0  2021.0  \n",
            "2           Season  24.0    9.0  2021.0  \n",
            "3           Season  24.0    9.0  2021.0  \n",
            "4          Seasons  24.0    9.0  2021.0  \n",
            "...            ...   ...    ...     ...  \n",
            "8775           min  20.0   11.0  2019.0  \n",
            "8776       Seasons   1.0    7.0  2019.0  \n",
            "8777           min   1.0   11.0  2019.0  \n",
            "8778           min  11.0    1.0  2020.0  \n",
            "8779           min   2.0    3.0  2019.0  \n",
            "\n",
            "[8780 rows x 15 columns]\n"
          ]
        }
      ]
    },
    {
      "cell_type": "code",
      "source": [
        "#k)\tPrint the number of TV shows/Movies released in each year.\n",
        "release_counts = fp1.groupby(['release_year', 'type']).size().unstack(fill_value=0)\n",
        "\n",
        "# Print the result\n",
        "print(release_counts)"
      ],
      "metadata": {
        "colab": {
          "base_uri": "https://localhost:8080/",
          "height": 0
        },
        "id": "K-JPNd7MxiRZ",
        "outputId": "af480c0c-8e88-4bfe-d2d4-5e40fc1b8d21"
      },
      "execution_count": 44,
      "outputs": [
        {
          "output_type": "stream",
          "name": "stdout",
          "text": [
            "type          Movie  TV Show\n",
            "release_year                \n",
            "1925              0        1\n",
            "1942              2        0\n",
            "1943              3        0\n",
            "1944              3        0\n",
            "1945              3        1\n",
            "...             ...      ...\n",
            "2017            765      265\n",
            "2018            764      377\n",
            "2019            628      396\n",
            "2020            517      435\n",
            "2021            277      315\n",
            "\n",
            "[74 rows x 2 columns]\n"
          ]
        }
      ]
    },
    {
      "cell_type": "code",
      "source": [
        "#l)\tRename the column title with movie_title\n",
        "fp1.rename(columns={'title': 'movie_title'}, inplace=True)\n",
        "print(fp1.head())"
      ],
      "metadata": {
        "colab": {
          "base_uri": "https://localhost:8080/",
          "height": 0
        },
        "id": "jsXVvRLBx_T_",
        "outputId": "ef7b5d88-a1f4-4aac-fee8-1bdb52dfa742"
      },
      "execution_count": 45,
      "outputs": [
        {
          "output_type": "stream",
          "name": "stdout",
          "text": [
            "  show_id     type            movie_title         director  \\\n",
            "0      s1    Movie   Dick Johnson Is Dead  Kirsten Johnson   \n",
            "1      s2  TV Show          Blood & Water              NaN   \n",
            "2      s3  TV Show              Ganglands  Julien Leclercq   \n",
            "3      s4  TV Show  Jailbirds New Orleans              NaN   \n",
            "4      s5  TV Show           Kota Factory              NaN   \n",
            "\n",
            "                                                cast        country  \\\n",
            "0                                                NaN  United States   \n",
            "1  Ama Qamata, Khosi Ngema, Gail Mabalane, Thaban...   South Africa   \n",
            "2  Sami Bouajila, Tracy Gotoas, Samuel Jouy, Nabi...            NaN   \n",
            "3                                                NaN            NaN   \n",
            "4  Mayur More, Jitendra Kumar, Ranjan Raj, Alam K...          India   \n",
            "\n",
            "   release_year rating   duration  \\\n",
            "0          2020  PG-13     90 min   \n",
            "1          2021  TV-MA  2 Seasons   \n",
            "2          2021  TV-MA   1 Season   \n",
            "3          2021  TV-MA   1 Season   \n",
            "4          2021  TV-MA  2 Seasons   \n",
            "\n",
            "                                           listed_in duration_Numeric  \\\n",
            "0                                      Documentaries               90   \n",
            "1    International TV Shows, TV Dramas, TV Mysteries                2   \n",
            "2  Crime TV Shows, International TV Shows, TV Act...                1   \n",
            "3                             Docuseries, Reality TV                1   \n",
            "4  International TV Shows, Romantic TV Shows, TV ...                2   \n",
            "\n",
            "  duration_Unit  Date  Month    Year  \n",
            "0           min  25.0    9.0  2021.0  \n",
            "1       Seasons  24.0    9.0  2021.0  \n",
            "2        Season  24.0    9.0  2021.0  \n",
            "3        Season  24.0    9.0  2021.0  \n",
            "4       Seasons  24.0    9.0  2021.0  \n"
          ]
        }
      ]
    },
    {
      "cell_type": "code",
      "source": [
        "#m)\tSplit Listed_in column into 3 different columns with col name (Genre1, Genre2, Genre3). Split the column based on comma.\n",
        "fp1[['Genre1', 'Genre2', 'Genre3']] = fp1['listed_in'].str.split(',', expand=True)\n",
        "print(fp1)"
      ],
      "metadata": {
        "colab": {
          "base_uri": "https://localhost:8080/",
          "height": 0
        },
        "id": "oD852oHlyVlF",
        "outputId": "3e448aaa-e889-4102-ce20-80ba35ca719b"
      },
      "execution_count": 46,
      "outputs": [
        {
          "output_type": "stream",
          "name": "stdout",
          "text": [
            "     show_id     type            movie_title         director  \\\n",
            "0         s1    Movie   Dick Johnson Is Dead  Kirsten Johnson   \n",
            "1         s2  TV Show          Blood & Water              NaN   \n",
            "2         s3  TV Show              Ganglands  Julien Leclercq   \n",
            "3         s4  TV Show  Jailbirds New Orleans              NaN   \n",
            "4         s5  TV Show           Kota Factory              NaN   \n",
            "...      ...      ...                    ...              ...   \n",
            "8775   s8803    Movie                 Zodiac    David Fincher   \n",
            "8776   s8804  TV Show            Zombie Dumb              NaN   \n",
            "8777   s8805    Movie             Zombieland  Ruben Fleischer   \n",
            "8778   s8806    Movie                   Zoom     Peter Hewitt   \n",
            "8779   s8807    Movie                 Zubaan      Mozez Singh   \n",
            "\n",
            "                                                   cast        country  \\\n",
            "0                                                   NaN  United States   \n",
            "1     Ama Qamata, Khosi Ngema, Gail Mabalane, Thaban...   South Africa   \n",
            "2     Sami Bouajila, Tracy Gotoas, Samuel Jouy, Nabi...            NaN   \n",
            "3                                                   NaN            NaN   \n",
            "4     Mayur More, Jitendra Kumar, Ranjan Raj, Alam K...          India   \n",
            "...                                                 ...            ...   \n",
            "8775  Mark Ruffalo, Jake Gyllenhaal, Robert Downey J...  United States   \n",
            "8776                                                NaN            NaN   \n",
            "8777  Jesse Eisenberg, Woody Harrelson, Emma Stone, ...  United States   \n",
            "8778  Tim Allen, Courteney Cox, Chevy Chase, Kate Ma...  United States   \n",
            "8779  Vicky Kaushal, Sarah-Jane Dias, Raaghav Chanan...          India   \n",
            "\n",
            "      release_year rating   duration  \\\n",
            "0             2020  PG-13     90 min   \n",
            "1             2021  TV-MA  2 Seasons   \n",
            "2             2021  TV-MA   1 Season   \n",
            "3             2021  TV-MA   1 Season   \n",
            "4             2021  TV-MA  2 Seasons   \n",
            "...            ...    ...        ...   \n",
            "8775          2007      R    158 min   \n",
            "8776          2018  TV-Y7  2 Seasons   \n",
            "8777          2009      R     88 min   \n",
            "8778          2006     PG     88 min   \n",
            "8779          2015  TV-14    111 min   \n",
            "\n",
            "                                              listed_in duration_Numeric  \\\n",
            "0                                         Documentaries               90   \n",
            "1       International TV Shows, TV Dramas, TV Mysteries                2   \n",
            "2     Crime TV Shows, International TV Shows, TV Act...                1   \n",
            "3                                Docuseries, Reality TV                1   \n",
            "4     International TV Shows, Romantic TV Shows, TV ...                2   \n",
            "...                                                 ...              ...   \n",
            "8775                     Cult Movies, Dramas, Thrillers              158   \n",
            "8776             Kids' TV, Korean TV Shows, TV Comedies                2   \n",
            "8777                            Comedies, Horror Movies               88   \n",
            "8778                 Children & Family Movies, Comedies               88   \n",
            "8779     Dramas, International Movies, Music & Musicals              111   \n",
            "\n",
            "     duration_Unit  Date  Month    Year                    Genre1  \\\n",
            "0              min  25.0    9.0  2021.0             Documentaries   \n",
            "1          Seasons  24.0    9.0  2021.0    International TV Shows   \n",
            "2           Season  24.0    9.0  2021.0            Crime TV Shows   \n",
            "3           Season  24.0    9.0  2021.0                Docuseries   \n",
            "4          Seasons  24.0    9.0  2021.0    International TV Shows   \n",
            "...            ...   ...    ...     ...                       ...   \n",
            "8775           min  20.0   11.0  2019.0               Cult Movies   \n",
            "8776       Seasons   1.0    7.0  2019.0                  Kids' TV   \n",
            "8777           min   1.0   11.0  2019.0                  Comedies   \n",
            "8778           min  11.0    1.0  2020.0  Children & Family Movies   \n",
            "8779           min   2.0    3.0  2019.0                    Dramas   \n",
            "\n",
            "                       Genre2                  Genre3  \n",
            "0                        None                    None  \n",
            "1                   TV Dramas            TV Mysteries  \n",
            "2      International TV Shows   TV Action & Adventure  \n",
            "3                  Reality TV                    None  \n",
            "4           Romantic TV Shows             TV Comedies  \n",
            "...                       ...                     ...  \n",
            "8775                   Dramas               Thrillers  \n",
            "8776          Korean TV Shows             TV Comedies  \n",
            "8777            Horror Movies                    None  \n",
            "8778                 Comedies                    None  \n",
            "8779     International Movies        Music & Musicals  \n",
            "\n",
            "[8780 rows x 18 columns]\n"
          ]
        }
      ]
    },
    {
      "cell_type": "markdown",
      "source": [
        "**2.**\t**Import both the attached files (student.csv and marks.csv) in Jupyter notebook and perform following operations:**"
      ],
      "metadata": {
        "id": "Lg7t3v4qzNJY"
      }
    },
    {
      "cell_type": "code",
      "source": [
        "#a)\tCombine both the dataframes into single dataframe which will have all the records from both the tables.\n",
        "import pandas as pd\n",
        "df1=pd.read_csv(\"Students.csv\")\n",
        "df2=pd.read_csv(\"marks.csv\")\n",
        "#combined_df = pd.concat([df1, df2], ignore_index=True)\n",
        "combined_df = pd.concat([df1, df2])\n",
        "print(combined_df)"
      ],
      "metadata": {
        "colab": {
          "base_uri": "https://localhost:8080/",
          "height": 0
        },
        "id": "JbJb25ZgzGRr",
        "outputId": "1bcb67ee-ba2b-4b6c-96a8-9ab65137868d"
      },
      "execution_count": 75,
      "outputs": [
        {
          "output_type": "stream",
          "name": "stdout",
          "text": [
            "     Student_id   Age  Gender      Grade Employed  Mark     City\n",
            "0             1  19.0    Male  1st Class      yes   NaN      NaN\n",
            "1             2  20.0  Female  2nd Class       no   NaN      NaN\n",
            "2             3  18.0    Male  1st Class       no   NaN      NaN\n",
            "3             4  21.0  Female  2nd Class       no   NaN      NaN\n",
            "4             5  19.0    Male  1st Class       no   NaN      NaN\n",
            "..          ...   ...     ...        ...      ...   ...      ...\n",
            "224         228   NaN     NaN        NaN      NaN  99.0     Pune\n",
            "225         229   NaN     NaN        NaN      NaN  70.0  Chennai\n",
            "226         230   NaN     NaN        NaN      NaN  55.0    Delhi\n",
            "227         231   NaN     NaN        NaN      NaN  97.0   Mumbai\n",
            "228         232   NaN     NaN        NaN      NaN  59.0     Pune\n",
            "\n",
            "[461 rows x 7 columns]\n"
          ]
        }
      ]
    },
    {
      "cell_type": "code",
      "source": [
        "#b)\tPrint the maximum and minimum marks Gender wise.\n",
        "#combined_df = combined_df.dropna(subset=['Mark'])\n",
        "#print(combined_df)\n",
        "gender_wise_marks = combined_df.groupby('Gender')['Mark'].agg(['max', 'min'])\n",
        "print(gender_wise_marks)"
      ],
      "metadata": {
        "colab": {
          "base_uri": "https://localhost:8080/",
          "height": 0
        },
        "id": "wzmpTjna1np9",
        "outputId": "eea8f4c2-af28-4244-e4a8-3b62bdfae876"
      },
      "execution_count": 73,
      "outputs": [
        {
          "output_type": "stream",
          "name": "stdout",
          "text": [
            "Empty DataFrame\n",
            "Columns: [max, min]\n",
            "Index: []\n"
          ]
        }
      ]
    },
    {
      "cell_type": "code",
      "source": [
        "#c)\tPrint all the students IDs and their marks who have scored more than the average marks of the class.\n",
        "average_marks = combined_df['Mark'].mean()\n",
        "\n",
        "# Filter students who scored more than the average marks\n",
        "above_average_students = combined_df[combined_df['Mark'] > average_marks]\n",
        "\n",
        "# Print Student_ID and Marks for these students\n",
        "print(above_average_students[['Student_id', 'Mark']])"
      ],
      "metadata": {
        "colab": {
          "base_uri": "https://localhost:8080/",
          "height": 0
        },
        "id": "czDGG9gf3P0N",
        "outputId": "625d8e65-aa18-40b2-ea94-57d0a9808de9"
      },
      "execution_count": 68,
      "outputs": [
        {
          "output_type": "stream",
          "name": "stdout",
          "text": [
            "     Student_id  Mark\n",
            "0             1  95.0\n",
            "2             3  98.0\n",
            "3             4  75.0\n",
            "4             5  89.0\n",
            "9            12  90.0\n",
            "..          ...   ...\n",
            "218         222  74.0\n",
            "219         223  79.0\n",
            "221         225  72.0\n",
            "224         228  99.0\n",
            "227         231  97.0\n",
            "\n",
            "[137 rows x 2 columns]\n"
          ]
        }
      ]
    },
    {
      "cell_type": "code",
      "source": [
        "#d)\tPrint the dataframe who are Males and are Employed.\n",
        "filtered_df = combined_df[(combined_df['Gender'] == 'Male') & (combined_df['Employed'] == 'Employed')]\n",
        "\n",
        "# Print the filtered DataFrame\n",
        "print(filtered_df)"
      ],
      "metadata": {
        "colab": {
          "base_uri": "https://localhost:8080/",
          "height": 0
        },
        "id": "iPTSjyhV4T9-",
        "outputId": "d4d943b7-9ed1-4bc0-92fe-2873ab2133e4"
      },
      "execution_count": 69,
      "outputs": [
        {
          "output_type": "stream",
          "name": "stdout",
          "text": [
            "Empty DataFrame\n",
            "Columns: [Student_id, Age, Gender, Grade, Employed, Mark, City]\n",
            "Index: []\n"
          ]
        }
      ]
    },
    {
      "cell_type": "code",
      "source": [
        "#e)\tCreate a new Column ‘IQ_level’ which will have 3 values (Intelligent, Mediocre, weak). If student scored than 80 then Tag him as Intelligent,\n",
        "#if student scored between 50-80, then Mediocre, else weak.\n",
        "bins = [0, 50, 80, float('inf')]\n",
        "labels = ['Weak', 'Mediocre', 'Intelligent']\n",
        "\n",
        "# Create the new column 'IQ_level' based on the marks\n",
        "combined_df['IQ_level'] = pd.cut(combined_df['Mark'], bins=bins, labels=labels, right=False)\n",
        "\n",
        "# Print the updated DataFrame\n",
        "print(combined_df)"
      ],
      "metadata": {
        "colab": {
          "base_uri": "https://localhost:8080/",
          "height": 0
        },
        "id": "7AIAX5177b_q",
        "outputId": "af72f4f5-a55a-4d27-dd51-3a9f6d931394"
      },
      "execution_count": 70,
      "outputs": [
        {
          "output_type": "stream",
          "name": "stdout",
          "text": [
            "     Student_id  Age Gender Grade Employed  Mark     City     IQ_level\n",
            "0             1  NaN    NaN   NaN      NaN  95.0  Chennai  Intelligent\n",
            "1             2  NaN    NaN   NaN      NaN  70.0    Delhi     Mediocre\n",
            "2             3  NaN    NaN   NaN      NaN  98.0   Mumbai  Intelligent\n",
            "3             4  NaN    NaN   NaN      NaN  75.0     Pune     Mediocre\n",
            "4             5  NaN    NaN   NaN      NaN  89.0    Kochi  Intelligent\n",
            "..          ...  ...    ...   ...      ...   ...      ...          ...\n",
            "224         228  NaN    NaN   NaN      NaN  99.0     Pune  Intelligent\n",
            "225         229  NaN    NaN   NaN      NaN  70.0  Chennai     Mediocre\n",
            "226         230  NaN    NaN   NaN      NaN  55.0    Delhi     Mediocre\n",
            "227         231  NaN    NaN   NaN      NaN  97.0   Mumbai  Intelligent\n",
            "228         232  NaN    NaN   NaN      NaN  59.0     Pune     Mediocre\n",
            "\n",
            "[229 rows x 8 columns]\n"
          ]
        }
      ]
    },
    {
      "cell_type": "code",
      "source": [
        "#f)\tCount the number of males and females from each city.\n",
        "gender_city_counts = combined_df.groupby(['City', 'Gender']).size().unstack(fill_value=0)\n",
        "\n",
        "# Print the result\n",
        "print(gender_city_counts)"
      ],
      "metadata": {
        "colab": {
          "base_uri": "https://localhost:8080/",
          "height": 0
        },
        "id": "dJ8K0NwO8fhe",
        "outputId": "ae0f6c2d-47fa-403a-eb0b-313896a32a46"
      },
      "execution_count": 71,
      "outputs": [
        {
          "output_type": "stream",
          "name": "stdout",
          "text": [
            "Empty DataFrame\n",
            "Columns: []\n",
            "Index: []\n"
          ]
        }
      ]
    },
    {
      "cell_type": "code",
      "source": [
        "#g)\tPrint the top 5 Male scorers.\n",
        "male_students = combined_df[combined_df['Gender'] == 'Male']\n",
        "\n",
        "# Sort by 'Marks' in descending order\n",
        "top_male_scorers = male_students.sort_values(by='Mark', ascending=False).head(5)\n",
        "\n",
        "# Print the top 5 male scorers\n",
        "print(top_male_scorers)\n"
      ],
      "metadata": {
        "colab": {
          "base_uri": "https://localhost:8080/",
          "height": 0
        },
        "id": "-Qk7u67k9Hl6",
        "outputId": "423e2162-9529-470f-8c96-2ab7b42fbfd7"
      },
      "execution_count": 76,
      "outputs": [
        {
          "output_type": "stream",
          "name": "stdout",
          "text": [
            "   Student_id   Age Gender      Grade Employed  Mark City\n",
            "0           1  19.0   Male  1st Class      yes   NaN  NaN\n",
            "2           3  18.0   Male  1st Class       no   NaN  NaN\n",
            "4           5  19.0   Male  1st Class       no   NaN  NaN\n",
            "5           6  20.0   Male  2nd Class      yes   NaN  NaN\n",
            "7           8  21.0   Male  3rd Class      yes   NaN  NaN\n"
          ]
        }
      ]
    },
    {
      "cell_type": "code",
      "source": [
        "#h)\tReplace the Male value with M and Female value with F and export this dataframe to excel file in D: (D drive) and name the file as test.csv.\n",
        "\n",
        "# Replace 'Male' with 'M' and 'Female' with 'F'\n",
        "combined_df['Gender'] = combined_df['Gender'].replace({'Male': 'M', 'Female': 'F'})\n",
        "\n",
        "# Specify the path where you want to save the file\n",
        "output_path = r'D:\\test.csv'\n",
        "\n",
        "# Export the DataFrame to a CSV file\n",
        "combined_df.to_csv(output_path, index=False)\n",
        "\n",
        "print(f\"File has been saved to {output_path}\")"
      ],
      "metadata": {
        "colab": {
          "base_uri": "https://localhost:8080/",
          "height": 0
        },
        "id": "HMrx9rAp_Rqn",
        "outputId": "0cf3ab1d-1388-41c4-b107-25069a46a157"
      },
      "execution_count": 77,
      "outputs": [
        {
          "output_type": "stream",
          "name": "stdout",
          "text": [
            "File has been saved to D:\\test.csv\n"
          ]
        }
      ]
    },
    {
      "cell_type": "code",
      "source": [
        "#i)\tCheck if any student_ID is duplicated.\n",
        "duplicates = combined_df[combined_df.duplicated('Student_id')]\n",
        "\n",
        "if not duplicates.empty:\n",
        "    print(\"Duplicated student_IDs found:\")\n",
        "    print(duplicates)\n",
        "else:\n",
        "    print(\"No duplicated student_IDs found.\")"
      ],
      "metadata": {
        "colab": {
          "base_uri": "https://localhost:8080/",
          "height": 0
        },
        "id": "G3bBHzpP_bTv",
        "outputId": "78f2a752-fc33-4e98-ba88-77d14af57570"
      },
      "execution_count": 79,
      "outputs": [
        {
          "output_type": "stream",
          "name": "stdout",
          "text": [
            "Duplicated student_IDs found:\n",
            "     Student_id  Age Gender Grade Employed  Mark     City\n",
            "0             1  NaN    NaN   NaN      NaN  95.0  Chennai\n",
            "1             2  NaN    NaN   NaN      NaN  70.0    Delhi\n",
            "2             3  NaN    NaN   NaN      NaN  98.0   Mumbai\n",
            "3             4  NaN    NaN   NaN      NaN  75.0     Pune\n",
            "4             5  NaN    NaN   NaN      NaN  89.0    Kochi\n",
            "..          ...  ...    ...   ...      ...   ...      ...\n",
            "224         228  NaN    NaN   NaN      NaN  99.0     Pune\n",
            "225         229  NaN    NaN   NaN      NaN  70.0  Chennai\n",
            "226         230  NaN    NaN   NaN      NaN  55.0    Delhi\n",
            "227         231  NaN    NaN   NaN      NaN  97.0   Mumbai\n",
            "228         232  NaN    NaN   NaN      NaN  59.0     Pune\n",
            "\n",
            "[229 rows x 7 columns]\n"
          ]
        }
      ]
    },
    {
      "cell_type": "code",
      "source": [
        "#j)\tCreate a separate dataframe which will have all the Integer/Float variables.\n",
        "numeric_df = combined_df.select_dtypes(include=['int64', 'float64'])\n",
        "\n",
        "print(\"DataFrame with only Integer/Float variables:\")\n",
        "print(numeric_df)"
      ],
      "metadata": {
        "colab": {
          "base_uri": "https://localhost:8080/",
          "height": 0
        },
        "id": "lgOjCO1l_eTF",
        "outputId": "56e3bbda-fc39-4869-c726-3d6c4698aa1a"
      },
      "execution_count": 80,
      "outputs": [
        {
          "output_type": "stream",
          "name": "stdout",
          "text": [
            "DataFrame with only Integer/Float variables:\n",
            "     Student_id   Age  Mark\n",
            "0             1  19.0   NaN\n",
            "1             2  20.0   NaN\n",
            "2             3  18.0   NaN\n",
            "3             4  21.0   NaN\n",
            "4             5  19.0   NaN\n",
            "..          ...   ...   ...\n",
            "224         228   NaN  99.0\n",
            "225         229   NaN  70.0\n",
            "226         230   NaN  55.0\n",
            "227         231   NaN  97.0\n",
            "228         232   NaN  59.0\n",
            "\n",
            "[461 rows x 3 columns]\n"
          ]
        }
      ]
    },
    {
      "cell_type": "code",
      "source": [
        "#k)\tGet those Student_IDs which are present in Students table but not in Marks table.\n",
        "missing_marks = df1[~df1['Student_id'].isin(df2['Student_id'])]  # Changed 'Students' to 'df1' and 'marks' to 'df2'\n",
        "print(\"student_IDs present in Students table but not in Marks table:\")\n",
        "print(missing_marks)"
      ],
      "metadata": {
        "colab": {
          "base_uri": "https://localhost:8080/",
          "height": 0
        },
        "id": "ZUaPNOQLBDq4",
        "outputId": "8aea53e8-32a3-4334-e074-c988688d96f6"
      },
      "execution_count": 83,
      "outputs": [
        {
          "output_type": "stream",
          "name": "stdout",
          "text": [
            "student_IDs present in Students table but not in Marks table:\n",
            "    Student_id  Age  Gender      Grade Employed\n",
            "8            9   22  Female  3rd Class      yes\n",
            "9           10   21    Male  1st Class       no\n",
            "48          49   19    Male  2nd Class       no\n"
          ]
        }
      ]
    },
    {
      "cell_type": "code",
      "source": [],
      "metadata": {
        "id": "cOLZHCAfB64O"
      },
      "execution_count": null,
      "outputs": []
    },
    {
      "cell_type": "markdown",
      "source": [
        "**3.\tExplain the concept of missing values. How can you identify the missing values in a Pandas DataFrame ?**\n",
        "\n",
        "Missing values refer to the absence of data in a dataset. They can occur due to various reasons, such as:\n",
        "\n",
        "Data entry errors\n",
        "\n",
        "Incomplete data collection\n",
        "\n",
        "Corruption of data\n",
        "\n",
        "Irrelevant or non-applicable fields\n",
        "\n",
        "In datasets, missing values are often represented as:\n",
        "\n",
        "NaN (Not a Number) in numerical columns\n",
        "\n",
        "None in object (string) columns\n",
        "\n",
        "Blank spaces or placeholders like NA, NULL, or ?\n",
        "\n",
        "Handling missing values is crucial because they can lead to incorrect analysis, biased results, or errors during data processing.\n",
        "\n",
        "Identifying Missing Values in a Pandas DataFrame\n",
        "Pandas provides several methods to identify missing values in a DataFrame. Here are the most common ones:\n",
        "\n",
        "1. isna() or isnull()\n",
        "These methods return a DataFrame of the same shape as the original, with True for missing values and False for non-missing values.\n",
        "2. notna() or notnull()\n",
        "These methods are the opposite of isna() and return True for non-missing values and False for missing values.\n",
        "\n"
      ],
      "metadata": {
        "id": "z0mSoFbtB-y-"
      }
    },
    {
      "cell_type": "markdown",
      "source": [
        " **4.What are the different ways of treating/Imputing/Deleting the missing values.\n",
        "Explain with example. **bold text**\n",
        "\n",
        "Handling missing values is a critical step in data preprocessing. Depending on the nature of the data and the analysis, you can choose to treat, impute, or delete missing values. Below are the **common** approaches with examples:\n",
        "\n",
        "1. Deleting Missing Values\n",
        "If the missing values are minimal or not significant, you can remove them entirely.\n",
        "\n",
        "a) Drop Rows with Missing Values\n",
        "python\n",
        "Copy\n",
        "import pandas as pd\n",
        "import numpy as np\n",
        "\n",
        "# Sample DataFrame\n",
        "data = {\n",
        "    'A': [1, 2, np.nan, 4],\n",
        "    'B': [5, np.nan, np.nan, 8],\n",
        "    'C': ['foo', 'bar', None, 'baz']\n",
        "}\n",
        "df = pd.DataFrame(data)\n",
        "\n",
        "# Drop rows with any missing values\n",
        "df_dropped = df.dropna()\n",
        "print(df_dropped)\n",
        "Output:\n",
        "\n",
        "plaintext\n",
        "Copy\n",
        "   A    B    C\n",
        "0  1.0  5.0  foo\n",
        "3  4.0  8.0  baz\n",
        "b) Drop Columns with Missing Values\n",
        "python\n",
        "Copy\n",
        "# Drop columns with any missing values\n",
        "df_dropped_cols = df.dropna(axis=1)\n",
        "print(df_dropped_cols)\n",
        "Output:\n",
        "\n",
        "plaintext\n",
        "Copy\n",
        "Empty DataFrame\n",
        "Columns: []\n",
        "Index: [0, 1, 2, 3]\n",
        "c) Drop Rows/Columns with a Threshold\n",
        "Drop rows/columns where the number of missing values exceeds a threshold.\n",
        "\n",
        "Use machine learning models or statistical methods to predict missing values.\n",
        "\n",
        "a) K-Nearest Neighbors (KNN) Imputation\n",
        "\n",
        "\n"
      ],
      "metadata": {
        "id": "y3RAk-jxCYC2"
      }
    }
  ]
}