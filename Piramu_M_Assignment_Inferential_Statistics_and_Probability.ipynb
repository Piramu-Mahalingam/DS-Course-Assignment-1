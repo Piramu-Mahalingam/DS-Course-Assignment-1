{
  "nbformat": 4,
  "nbformat_minor": 0,
  "metadata": {
    "colab": {
      "provenance": [],
      "authorship_tag": "ABX9TyPD75ZDZKjYpDxPLOWTFlsR",
      "include_colab_link": true
    },
    "kernelspec": {
      "name": "python3",
      "display_name": "Python 3"
    },
    "language_info": {
      "name": "python"
    }
  },
  "cells": [
    {
      "cell_type": "markdown",
      "metadata": {
        "id": "view-in-github",
        "colab_type": "text"
      },
      "source": [
        "<a href=\"https://colab.research.google.com/github/Piramu-Mahalingam/DS-Course-Assignment-1/blob/main/Piramu_M_Assignment_Inferential_Statistics_and_Probability.ipynb\" target=\"_parent\"><img src=\"https://colab.research.google.com/assets/colab-badge.svg\" alt=\"Open In Colab\"/></a>"
      ]
    },
    {
      "cell_type": "markdown",
      "source": [
        "**Piramu M - Assignment Inferential Statistics and Probability**\n",
        "\n",
        "For the inferential statistics questions listed below, you can use any of the 2 approaches to come to the conclusion (either P value method or critical value method).\n",
        "\n",
        "Q1. A company claims that their new battery lasts longer than their previous model, which has a mean lifespan of 100 hours in previous model.\n",
        "A sample of 25 new batteries is tested, yielding a mean lifespan of 105 hours with a standard deviation of 10 hours. At a 5% significance level,\n",
        "can we conclude that the new battery lasts longer?\n",
        "Formulate the null and alternative hypotheses, choose an appropriate test, and conduct the test to reach a conclusion.  using python"
      ],
      "metadata": {
        "id": "i2NcLktB0k9H"
      }
    },
    {
      "cell_type": "markdown",
      "source": [],
      "metadata": {
        "id": "P3LEgtHx0jFX"
      }
    },
    {
      "cell_type": "code",
      "source": [
        "import scipy.stats as stats\n",
        "import math\n",
        "\n",
        "# Given data\n",
        "mean_lifespan = 105  # sample mean of new batteries\n",
        "population_mean = 100  # mean of previous model\n",
        "stddev = 10  # sample standard deviation\n",
        "n = 25  # sample size\n",
        "sig_value = 0.05  # significance level\n",
        "\n",
        "# Hypotheses\n",
        "# H0: μ = 100 (new battery does not last longer)\n",
        "# H1: μ > 100 (new battery lasts longer)\n",
        "\n",
        "# Calculate the one-sample t-test\n",
        "t_test = (mean_lifespan - population_mean) / (stddev / math.sqrt(n))\n",
        "\n",
        "# Calculate the critical t-value for one-tailed test\n",
        "df = n - 1  # degrees of freedom\n",
        "t_critical = stats.t.ppf(1 - sig_value, df)\n",
        "\n",
        "# Calculate p-value\n",
        "p_value = 1 - stats.t.cdf(t_test, df)\n",
        "\n",
        "# Output the results\n",
        "print(\"One-tailed test is\",t_test)\n",
        "print(\"Critical value is\",round(t_critical,3))\n",
        "print(\"P value is\",round(p_value,3))\n",
        "\n",
        "# Check if the result is statistically significant (using a common significance level of 0.05)\n",
        "if p_value < sig_value:\n",
        "    result = \"There is a significant increase in battery lifespan with the new model.\"\n",
        "else:\n",
        "    result = \"There is no significant increase in battery lifespan with the new model.\"\n",
        "print(result)"
      ],
      "metadata": {
        "colab": {
          "base_uri": "https://localhost:8080/"
        },
        "id": "AQF9-dB40UmP",
        "outputId": "0aa592d8-9310-4af4-85db-1e32a873b2d5"
      },
      "execution_count": 7,
      "outputs": [
        {
          "output_type": "stream",
          "name": "stdout",
          "text": [
            "One-tailed test is 2.5\n",
            "Critical value is 1.711\n",
            "P value is 0.01\n",
            "There is a significant increase in battery lifespan with the new model.\n"
          ]
        }
      ]
    },
    {
      "cell_type": "markdown",
      "source": [
        "Q2. A researcher wants to estimate the average time spent on social media by high school students. A sample of 50 students is selected, and the mean time spent is found to be 3.5 hours with a standard deviation of 0.8 hours. Construct a 95% confidence interval for the true mean time spent on social media by all high school students.\n",
        "Calculate the confidence interval and interpret the results.\n"
      ],
      "metadata": {
        "id": "ep7voqNW3ztv"
      }
    },
    {
      "cell_type": "markdown",
      "source": [],
      "metadata": {
        "id": "cB2yiqhqzf85"
      }
    },
    {
      "cell_type": "code",
      "source": [],
      "metadata": {
        "id": "7Bisq7s037pn"
      },
      "execution_count": null,
      "outputs": []
    }
  ]
}