{
  "nbformat": 4,
  "nbformat_minor": 0,
  "metadata": {
    "colab": {
      "provenance": [],
      "authorship_tag": "ABX9TyPm2vL5gaXbH5qRFag1dR2s",
      "include_colab_link": true
    },
    "kernelspec": {
      "name": "python3",
      "display_name": "Python 3"
    },
    "language_info": {
      "name": "python"
    }
  },
  "cells": [
    {
      "cell_type": "markdown",
      "metadata": {
        "id": "view-in-github",
        "colab_type": "text"
      },
      "source": [
        "<a href=\"https://colab.research.google.com/github/Piramu-Mahalingam/DS-Course-Assignment-1/blob/main/Piramu_M_Assignment_Inferential_Statistics_and_Probability.ipynb\" target=\"_parent\"><img src=\"https://colab.research.google.com/assets/colab-badge.svg\" alt=\"Open In Colab\"/></a>"
      ]
    },
    {
      "cell_type": "markdown",
      "source": [
        "**Piramu M - Assignment Inferential Statistics and Probability**\n",
        "\n",
        "For the inferential statistics questions listed below, you can use any of the 2 approaches to come to the conclusion (either P value method or critical value method).\n",
        "\n",
        "Q1. A company claims that their new battery lasts longer than their previous model, which has a mean lifespan of 100 hours in previous model.\n",
        "A sample of 25 new batteries is tested, yielding a mean lifespan of 105 hours with a standard deviation of 10 hours. At a 5% significance level,\n",
        "can we conclude that the new battery lasts longer?\n",
        "Formulate the null and alternative hypotheses, choose an appropriate test, and conduct the test to reach a conclusion.  using python"
      ],
      "metadata": {
        "id": "i2NcLktB0k9H"
      }
    },
    {
      "cell_type": "markdown",
      "source": [],
      "metadata": {
        "id": "P3LEgtHx0jFX"
      }
    },
    {
      "cell_type": "code",
      "source": [
        "import scipy.stats as stats\n",
        "import math\n",
        "\n",
        "# Given data\n",
        "mean_lifespan = 105  # sample mean of new batteries\n",
        "population_mean = 100  # mean of previous model\n",
        "stddev = 10  # sample standard deviation\n",
        "n = 25  # sample size\n",
        "sig_value = 0.05  # significance level\n",
        "\n",
        "# Hypotheses\n",
        "# H0: μ = 100 (new battery does not last longer)\n",
        "# H1: μ > 100 (new battery lasts longer)\n",
        "\n",
        "# Calculate the one-sample t-test\n",
        "t_test = (mean_lifespan - population_mean) / (stddev / math.sqrt(n))\n",
        "\n",
        "# Calculate the critical t-value for one-tailed test\n",
        "df = n - 1  # degrees of freedom\n",
        "t_critical = stats.t.ppf(1 - sig_value, df)\n",
        "\n",
        "# Calculate p-value\n",
        "p_value = 1 - stats.t.cdf(t_test, df)\n",
        "\n",
        "# Output the results\n",
        "print(\"One-tailed test is\",t_test)\n",
        "print(\"Critical value is\",round(t_critical,3))\n",
        "print(\"P value is\",round(p_value,3))\n",
        "\n",
        "# Check if the result is statistically significant (using a common significance level of 0.05)\n",
        "if p_value < sig_value:\n",
        "    result = \"There is a significant increase in battery lifespan with the new model.\"\n",
        "else:\n",
        "    result = \"There is no significant increase in battery lifespan with the new model.\"\n",
        "print(result)"
      ],
      "metadata": {
        "colab": {
          "base_uri": "https://localhost:8080/"
        },
        "id": "AQF9-dB40UmP",
        "outputId": "0aa592d8-9310-4af4-85db-1e32a873b2d5"
      },
      "execution_count": null,
      "outputs": [
        {
          "output_type": "stream",
          "name": "stdout",
          "text": [
            "One-tailed test is 2.5\n",
            "Critical value is 1.711\n",
            "P value is 0.01\n",
            "There is a significant increase in battery lifespan with the new model.\n"
          ]
        }
      ]
    },
    {
      "cell_type": "markdown",
      "source": [
        "Q2. A researcher wants to estimate the average time spent on social media by high school students. A sample of 50 students is selected, and the mean time spent is found to be 3.5 hours with a standard deviation of 0.8 hours. Construct a 95% confidence interval for the true mean time spent on social media by all high school students.\n",
        "Calculate the confidence interval and interpret the results.\n"
      ],
      "metadata": {
        "id": "ep7voqNW3ztv"
      }
    },
    {
      "cell_type": "markdown",
      "source": [],
      "metadata": {
        "id": "cB2yiqhqzf85"
      }
    },
    {
      "cell_type": "code",
      "source": [
        "import scipy.stats as stats\n",
        "import math\n",
        "\n",
        "# Given data\n",
        "mean_time= 3.5\n",
        "std_dev = 0.8\n",
        "sample_size = 50\n",
        "confidence_level = 0.95\n",
        "\n",
        "# Degrees of freedom\n",
        "df = sample_size - 1\n",
        "\n",
        "# Standard Error\n",
        "std_error = std_dev / math.sqrt(sample_size)\n",
        "\n",
        "# t critical value for 95% confidence\n",
        "t_critical = stats.t.ppf((1 + confidence_level) / 2, df)\n",
        "\n",
        "# Margin of Error\n",
        "margin_of_error = t_critical * std_error\n",
        "\n",
        "# Confidence Interval\n",
        "lower_bound = mean_time - margin_of_error\n",
        "upper_bound = mean_time + margin_of_error\n",
        "\n",
        "# Print results\n",
        "print(f\"Sample Mean = {mean_time} hours\")\n",
        "print(f\"Standard Error = {std_error:.3f}\")\n",
        "print(f\"t Critical Value (df={df}) = {t_critical:.3f}\")\n",
        "print(f\"Margin of Error = {margin_of_error:.3f}\")\n",
        "print(f\"95% Confidence Interval: ({lower_bound:.3f}, {upper_bound:.3f})\")\n",
        "print()\n",
        "print(f\"Interpretation:\")\n",
        "print(f\"We are 95% confident that the true average time all high school students spend on social media per day\")\n",
        "print(f\"lies between {lower_bound:.3f} hours and {upper_bound:.3f} hours.\")"
      ],
      "metadata": {
        "id": "7Bisq7s037pn",
        "colab": {
          "base_uri": "https://localhost:8080/"
        },
        "outputId": "b8704d65-15f8-4ff6-8482-3f1607809df9"
      },
      "execution_count": null,
      "outputs": [
        {
          "output_type": "stream",
          "name": "stdout",
          "text": [
            "Sample Mean = 3.5 hours\n",
            "Standard Error = 0.113\n",
            "t Critical Value (df=49) = 2.010\n",
            "Margin of Error = 0.227\n",
            "95% Confidence Interval: (3.273, 3.727)\n",
            "\n",
            "Interpretation:\n",
            "We are 95% confident that the true average time all high school students spend on social media per day\n",
            "lies between 3.273 hours and 3.727 hours.\n"
          ]
        }
      ]
    },
    {
      "cell_type": "markdown",
      "source": [
        "\n",
        "Q3. A survey is conducted to examine whether there is an association between gender (male/female) and preference for a new product (like/dislike). The data is summarized in the table below. Conduct a Chi-square test of independence to determine if there is a significant association between gender and product preference.\n",
        "State the null and alternative hypotheses, calculate the Chi-square statistic, and interpret the results.\n",
        " \t     ![image.png](data:image/png;base64,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)\n"
      ],
      "metadata": {
        "id": "B1_Y4Pj977TY"
      }
    },
    {
      "cell_type": "code",
      "source": [
        "import scipy.stats as stats\n",
        "import numpy as np\n",
        "\n",
        "data_given = np.array([[20, 30],\n",
        "                     [25, 25]])\n",
        "\n",
        "# Perform Chi-Square Test of Independence\n",
        "chi2_stat, p_value, dof, expected = stats.chi2_contingency(data_given)\n",
        "\n",
        "# Output results\n",
        "print(\"=== Chi-Square Test of Independence ===\")\n",
        "print(f\"Chi-Square Statistic: {chi2_stat:.3f}\")\n",
        "print(f\"Degrees of Freedom: {df}\")\n",
        "print(f\"P-value: {p_value:.4f}\")\n",
        "print(\"\\nExpected Frequencies:\")\n",
        "print(expected)\n",
        "\n",
        "# Interpretation\n",
        "alpha = 0.05\n",
        "print(\"\\nInterpretation:\")\n",
        "if p_value < alpha:\n",
        "    print(\"Reject the null hypothesis(H0).\")\n",
        "    print(\"There is a significant association between gender and product preference.\")\n",
        "else:\n",
        "    print(\"Fail to reject the null hypothesis(H1).\")\n",
        "    print(\"There is no significant association between gender and product preference.\")"
      ],
      "metadata": {
        "id": "AClWwxGH8taB",
        "outputId": "658767a2-3d36-4c0f-8a6b-7e03679dc070",
        "colab": {
          "base_uri": "https://localhost:8080/"
        }
      },
      "execution_count": null,
      "outputs": [
        {
          "output_type": "stream",
          "name": "stdout",
          "text": [
            "=== Chi-Square Test of Independence ===\n",
            "Chi-Square Statistic: 0.646\n",
            "Degrees of Freedom: 49\n",
            "P-value: 0.4214\n",
            "\n",
            "Expected Frequencies:\n",
            "[[22.5 27.5]\n",
            " [22.5 27.5]]\n",
            "\n",
            "Interpretation:\n",
            "Fail to reject the null hypothesis(H1).\n",
            "There is no significant association between gender and product preference.\n"
          ]
        }
      ]
    },
    {
      "cell_type": "markdown",
      "source": [
        "Q4. A group of students takes a math test before and after attending a 4-week tutoring session. The test scores before and after the session are recorded. Conduct a appropriate test to determine if the tutoring session has significantly improved the students' test scores.\n",
        "Formulate the null and alternative hypotheses, choose an appropriate test, and conduct the test to reach a conclusion.\n",
        "![image.png](data:image/png;base64,iVBORw0KGgoAAAANSUhEUgAAAZUAAACKCAYAAABirNfBAAAAAXNSR0IArs4c6QAAAARnQU1BAACxjwv8YQUAAAAJcEhZcwAADsMAAA7DAcdvqGQAAA4aSURBVHhe7d09cupKF4XhpW8s4MDlETQjACeOSJ2J0CQ3c0jmRAqt7KREToxGYI3A5cDSXPoLhKAlQBiOuNe03qdKVefQ/LhqCW2pm9IOrLVWAAB04H/NBwAAOBdFBQDQGYoKAKAzFBUAQGcoKgCAzlBUAACdoagAADpDUQEAdIaiAgDoDEUFANAZigoAoDNB272/giBoPgQA8ETL4f9sR4tKyzA8ROb9Q+b9dKncmf4CAHSGogIA6AxFBQDQGYrKQYXiUaAgGCkummPwQ6pZECgIAgXBTGlzGJ4h73/DdReVItZos5MEGm2O/r+xIPzGv+mauQeI7TY74UhRxAslksKVlbWvGjefgCtTfcf2F43dvPlOXsL1FpUi1mg4V2Yi5dbK2lzT5SM7R++EWlkra1cKJSWTnx8g8q9MktHtsDmCq1S8a5lJxhhJid4aVYW8/yW2xZHh/9YqtJKswlVjILeRUTlWbSayeR5ZU/279jxjo/IBa6vnSFYmtGFz3K5s2Hzfamg9ZqJV7fPLP+/A37R57e/xqzOvqbIIbbUHrMKf5rUnj81+1HjNnvczUbR+TjV26HOuw/Vk3i6PTLk/VN/jTab78o52H9vk1pbnoX3g+lwq99Z3vdSHdqJWAJpf4paCsXNgaRwYqvGqaB0a39lxtztivZBUB73m5/1OvzrzmmZROfD/g3m1FaFDmW0zNpsXHf+c3+56Mm/j5tD87q2fsZN3M1/7gzz37QPX6VK5X+/01+BJH3kkI0nZXMMgUDCK9cOZj13pmxJJZnqvgSSN/1FkWsYH95oaSclbfe7WRPpnLEkD3dxJ0qe+z/6jcFyiSRAoCCZlPtE/5drIT/NyVa+p3kMDPT2HkjIt350QTaQ/T4P6a075HHSvlsNA92UIWvx0LrTy0zzdfQA111tUtC4szny6srkeT92J1orvz+ZDNdV4Nh+uFwKHmmfNZ+HfV62pWOWRKfOZpWfldWwf2Oecz0H30rdEktH0vjzQD+6nMpKy5ftJJ5rk+feuu6hsjPW6CiVJ2VfeHPyRQXlZcVA1bqJc62nD9cavhn6L6kCiz2+tLxNPyuvYPrAP+8VvkOotkaRM8+H611/DuTJJypZyLzKPIc+/d7VFpYhHzk+It2cY4cPYmXpyDG50J0nZl3JJSl/qZyDD2/qZTXN8/KDwjDOfrT1/EzpVvC+VVVMX5+RVvWb+sp7qKBQvEkmhng9NdZzzOejWZtqyXgjyyOxOXdbs+U6S599rLrK4jgz/x3Z/0VFbG923kL9ZfC8fW0Wmvkh3bNx9z2prLuA5PxrYWRjc9zf9Mr87c1fjFzrrrbZ42prXnnz2vsZd7N3NeP9rWKj/9+xbbK+GqlzKDI/m3Vyc35vngX3gCl0qd+5SjBoy7x8y76dL5X61018AgN+HogIA6AxFBQDQGYoKAKAzRxfqAQB+ajn8n+1oUWkZhofIvH/IvJ8ulTvTXwCAzlBUAACdoagAADpDUQEAdIaiAgDoDEVlR6pZECgIft7rHNeniEfrfhnNrKv8AwXBjEZbXigUj6pM69soLqQi1qg59jcN/3qOouIoDzRveqg6SsJLRTzScDlVvrlN+oc2jRxnEyXhStZarcJEkxll5foN9PTh9kaxsnkk4zT1koyi3Bn/eCo7P+JkFBXH4OmDZjzeS/Uyl6I/+w4aqd4So6jsB63xQ7jbRhZeSF/mysLnzckEukNRQb8U3/qUtHx0pjqqq5H12MbwVkaf+mYexC9FrIVz8lByukYGgbhAPR9FBf2SfymTNP1TTXWsFCYTDiI9UrwvlZmpNjNfgyd9NDpGJhPWVM9FUUEP3elmM+0xVjnLRVXph1Qv80zh877pz9Lg6VmhMn3lzRH8BEUF/bIzpVXo+1Myt0NpcKNay/L8S1mtAOHaFfFCiYlUm/lCpygq6JfBvaYm0/J9XVWKdy2z6ldAQ906Y+lbIoUP/HDDG+VVipne165S0ll9DaWIF0oU6oHgz9NsWu86MuyfVWglNTZjo7z5RH/1IvM8ssbJOFwdGgutO+SrXmRurc0jsz/Txv4gE9k+fOUvlTu3vkcNmfcPmffTpXJn+gsA0BmKCgCgMxQVAEBnKCoAgM4cXagHAPip5fB/tqNFpWUYHiLz/iHzfrpU7kx/AQA6Q1EBAHSGogIA6AxFBQDQGYoKAKAzFJWmdLbtCBgEGtGpxyOF4pHT8XFfzuTvr0a29cZsqWabsRktpP8CRaUm1WwiraoucKtQ2fyRDnDeGOjpY9vhz1orm0cyqm59T/7+SjWbJApXbnfHbfFIZxMl4UrWWq3CRBNagZ6NolIz1qt93fbPGD/QAc5z6ctcWfisp4HI33tGt8PyX4Mbtx1bqjenZ/24bAXK1cqZKCptim99OjsiPFPEWjgHkx3k75GxHsJM8+FM6eaqZX0CUXzr033qTndQnIKi0qJ+FgvfFO9LZWaq+wP5kr9fxq/rqa1gQkvhC6KoHFDEI00+I+Wv7Hl+KlvLhs9PtdayFfL3TbkQv7jNy3WTu7mGLMhfBEVljyIeaTi/0+pj/wEH16+IFwfPVsnfQ+mbEoV6Xl92jl9XCpXoLZU0uJG7wqL8S5nudEP4Z6GoNKSzQMPlVLm7YAvPlFcpZnq/UzTI32fOOkltvWyoW5Np+V4Opm+JFD6Q/7maTetdR4b9k0fWSFbNzUQ2bz7XU33IPI+MlUK72h3oZf59yNxuct/mGro7QC37PfuGhy6VO7e+Rw2Z9w+Z99Olcmf6CwDQGYoKAKAzFBUAQGcoKgCAzhxdqAcA+Knl8H+2o0WlZRgeIvP+IfN+ulTuTH8BADpDUQEAdIaiAgDoDEUFANAZikpTrY/1iFayniri0f6cyd9DheLRtje9u42qgFv71+MUFJWaVLPFrfJ1j/JVmGn+GIvjil+KeLS+E3HVq/5j3YiL/P000NNHlfV6yyMZGU3vB2XuLf3rcRqKSs1Yr04PjfFDKGVfokW5T1K9zKXoz75eKeTfF7tdPQ/1r8epKCoHFYoX9FXwzrof+fLRmQbZO9dB/t4qYi0So2jToa2lfz1ORlFp2sytDjUX7WS9k38pkzT9U02FrBQmk+0cOvl7r3hfKjNT3TuXqvSv7w5FpWn8upl3zadLDVms9ZDbKnash1BK3tZVhfw9V3b9DJ/d6U/613eJotJi8PSsUJm+mFT3x/BWxm0rq0Lfn5KpJtQd5O+fIl7sXom09a/HySgqriLWyJ1fT9+UOAt48MDgXlOnH7mKdy2z9a+AyN9z5VWKmd7v+ZHGof71OFmzv7DryLCHchsZtz+5sZHPzcn36EXmjV70217l/cy/F5lvetTv7z/f2r/eU5fKnbsUo4bM+4fM++lSuTP9BQDoDEUFANAZigoAoDMUFQBAZ44u1AMA/NRy+D/b0aLSMgwPkXn/kHk/XSp3pr8AAJ2hqAAAOkNRAQB0hqICAOgMRQUA0BmKyl6F4lGggF4afto04iq3euPHsrdGOUZPDa+05d4YG/HFPxtFZY8iftRcRqY5AA9U7WLXjbgio2SyLR7pbKIkXJXNmsJEk72thnF92nJPNZtIq3VzNrsKlc0fOaE8E0VlR6qXuRQ9T5sD8Ma2V8bg5s55PNWb07t8XLaE5GrFG4dyH+vVOj3pxw80Z/sLFJWGIl7oM/qjJxr0eGqshzDTfDhTujl7XR9Qim99uk/d6RKJ69WSexNNuv4KRcVVxHqc323aisJP49f11FYw2W0tC2/9NPf0Za4sfBaHgfNQVBzpy1yK/tl/9gJPlAvxi9u8XDe5m2vIgnwP/Cz3Ih5p8hkpf+UocLZmK0jXkWHPrGzotBN1N9OHnrJr3me+ChstZcvcy/axKxu6LYR3nusn7zO3+7J0cy+1tRv20aVy50plY6zX6tcf1srmkYyMotzqg+tgzzjrJLX586FuTablezmYviVS+MCVqzcO5S6ls0DD5VS5u2CP8zSrjOvIsN/yyBr3rLUn+pB5eUa6vRJ1z1bL3Kuxfpy19iFz25Z7LXNnM5H1+et/qdy59T1qyLx/yLyfLpU7018AgM5QVAAAnaGoAAA6Q1EBAHTm6EI9AMBPLYf/sx0tKi3D8BCZ9w+Z99Olcmf6CwDQGYoKAKAzFBUAQGcoKgCAzlBUAACdoai4ilijIFDgbqNYNP7zTxGPnJxH237k6Wz/47hiheJR43u93kZOwAf3CZyEorKjvN29rW6B//EkbnzvlyIerW9zXuX8UXb5K2KNJonC1frx1d26/Syu20BPH8532mltMb0vv90H9wmcjKKCnkn1MpeiP3tOFvIvZQr1UDXUGD8opEe9l+otg1v2CZyMorIj03y4vTyecZrql+Jbn5KWj840SC3kZhHJ9JW7/8fVK2ItEqOoalJ/dJ/AKSgqrsGTPpxL5DwySibMrXol/1ImafqnynmlMJmUJw/jV61C96RioU/TfANcu+J9qcxMtZ75at8ncDKKSovB07NCzlQ9dKebzTzHWA+hlLyVR5Dxqzv3/qy7zH0drl+ql3mm8Lk51XV4n8BpKCrol+GtTG2Kq9D3p2SqZuWu9E2Ju8aCq1fECyUmUjXzJZ24T+AoioojndXXUIp4wUHFN4N7TU2m5fv6CFK8a5ltfwW0lWo2SaTwQcTvi/IqxUzv61cpP94n8CPNpvWuI8P+ySNrJKtqM5HNm8/xXC8yb+QcrqqBlQ3d/LcDXutF5tbaPDJWCu3eVA/uE/66VO7c+h41ZN4/ZN5Pl8qd6S8AQGcoKgCAzlBUAACdObqmAgDwU8vh/2ytReWYquj8xVsAADzC9BcAoDP/B+khSi9NcKaKAAAAAElFTkSuQmCC)"
      ],
      "metadata": {
        "id": "ipZJNKpM9ZpC"
      }
    },
    {
      "cell_type": "code",
      "source": [
        "import scipy.stats as stats\n",
        "\n",
        "# Data\n",
        "Before = [60, 72, 63, 80, 69]\n",
        "After = [75, 80, 78, 82, 76]\n",
        "\n",
        "# calculate paired t-test (one-tailed)\n",
        "t_statistic, pvalue_two_tail = stats.ttest_rel(After, Before)\n",
        "\n",
        "# calculate one-tailed test (we hypothesize improvement)\n",
        "pvalue_one_tail = pvalue_two_tail / 2\n",
        "\n",
        "# results\n",
        "print(\"=== Paired Sample t-Test ===\")\n",
        "print(f\"t-statistic: {t_statistic:.3f}\")\n",
        "print(f\"One-tailed pvalue: {pvalue_one_tail:.4f}\")\n",
        "\n",
        "#Interpretation\n",
        "alpha = 0.05\n",
        "if pvalue_one_tail < alpha and t_statistic > 0:\n",
        "    print(\"Reject the null hypothesis(H0).\")\n",
        "    print(\"There is significant evidence that the tutoring session improved test scores.\")\n",
        "else:\n",
        "    print(\"Fail to reject the null hypothesis(H1).\")\n",
        "    print(\"There is not enough evidence to say the tutoring session improved test scores.\")"
      ],
      "metadata": {
        "id": "dEzcDpAl9uhX",
        "outputId": "57dc685e-908e-464f-be84-f6d075776ec2",
        "colab": {
          "base_uri": "https://localhost:8080/"
        }
      },
      "execution_count": 2,
      "outputs": [
        {
          "output_type": "stream",
          "name": "stdout",
          "text": [
            "=== Paired Sample t-Test ===\n",
            "t-statistic: 3.757\n",
            "One-tailed pvalue: 0.0099\n",
            "Reject the null hypothesis(H0).\n",
            "There is significant evidence that the tutoring session improved test scores.\n"
          ]
        }
      ]
    },
    {
      "cell_type": "markdown",
      "source": [
        "Q5. A botanist is studying the effect of three different fertilizers on the growth of a particular plant species. The plants are divided into three groups, each receiving a different type of fertilizer (Fertilizer A, Fertilizer B, Fertilizer C). After 8 weeks, the height of the plants in each group is measured in centimeters.\n",
        "Perform a ANOVA to determine if there is a significant difference in the average plant height between the three fertilizers. Report the F-statistic, p-value, and your conclusion.\n",
        "![image.png](data:image/png;base64,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)"
      ],
      "metadata": {
        "id": "vySIjOoBIQZo"
      }
    },
    {
      "cell_type": "code",
      "source": [],
      "metadata": {
        "id": "ZrFv_wXHIwO0"
      },
      "execution_count": null,
      "outputs": []
    }
  ]
}