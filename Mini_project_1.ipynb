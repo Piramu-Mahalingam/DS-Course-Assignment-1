{
  "nbformat": 4,
  "nbformat_minor": 0,
  "metadata": {
    "colab": {
      "provenance": [],
      "authorship_tag": "ABX9TyMJwdLsUXu0XfTToXPaVsSQ",
      "include_colab_link": true
    },
    "kernelspec": {
      "name": "python3",
      "display_name": "Python 3"
    },
    "language_info": {
      "name": "python"
    }
  },
  "cells": [
    {
      "cell_type": "markdown",
      "metadata": {
        "id": "view-in-github",
        "colab_type": "text"
      },
      "source": [
        "<a href=\"https://colab.research.google.com/github/Piramu-Mahalingam/DS-Course-Assignment-1/blob/main/Mini_project_1.ipynb\" target=\"_parent\"><img src=\"https://colab.research.google.com/assets/colab-badge.svg\" alt=\"Open In Colab\"/></a>"
      ]
    },
    {
      "cell_type": "code",
      "source": [],
      "metadata": {
        "id": "Ypb5Ub8iVXyp"
      },
      "execution_count": null,
      "outputs": []
    },
    {
      "cell_type": "code",
      "execution_count": null,
      "metadata": {
        "colab": {
          "base_uri": "https://localhost:8080/"
        },
        "id": "pmaoVrdmq8x-",
        "outputId": "f8dece92-54cd-49c3-a82e-b0a69d518109"
      },
      "outputs": [
        {
          "output_type": "stream",
          "name": "stdout",
          "text": [
            "Welcome for the Library Management System\n",
            "Enter your username: admin\n",
            "Enter your password: admin123\n",
            "Login successful! Welcome to the system.\n",
            "Menu\n",
            "1. View Books \n",
            "2. Add a Book \n",
            "3. Issue a Book \n",
            "4. Return a Book \n",
            "5. View Issued Books \n",
            "6. Exit \n"
          ]
        }
      ],
      "source": [
        "#Step 1: Basic Structure\n",
        "print('Welcome for the Library Management System')\n",
        "library={\"Python Basics\":{\"author\":'Test',\"Available\":True},\n",
        "         \"Data Science\":{\"author\":'Test1',\"Available\":False}}\n",
        "\n",
        "#view books details\n",
        "def view_books(library):\n",
        "  for a,b,in library.items():\n",
        "    print(a,b)\n",
        "\n",
        "#add books\n",
        "def add_books():\n",
        "\n",
        "    while True:\n",
        "        book_name = input(\"Enter the title of the book (e.g., 'Python Basics'): \")\n",
        "\n",
        "        # Ensure book name is unique in the library\n",
        "        if book_name in library:\n",
        "            print(\"This book already exists in the library.\")\n",
        "        else:\n",
        "            # Input nested dictionary attributes\n",
        "            author = input(f\"Enter the author of '{book_name}': \")\n",
        "            available = input(f\"Is '{book_name}' available? (True/False): \").strip().lower()\n",
        "            available = available == 'true'  # Convert to boolean\n",
        "\n",
        "            # Add book to the library with nested dictionary for attributes\n",
        "            library[book_name] = {\n",
        "                \"author\": author,\n",
        "                \"Available\": available\n",
        "            }\n",
        "\n",
        "        # Ask if the user wants to input another book\n",
        "        more = input(\"Do you want to add another book? (yes/no): \").strip().lower()\n",
        "        if more != 'yes':\n",
        "            break\n",
        "\n",
        "    view_books(library)\n",
        "\n",
        "\n",
        "def login_system():\n",
        "    # Predefined credentials (username: password)\n",
        "    credentials = {\"admin\": \"admin123\", \"librarian\": \"lib123\"}\n",
        "\n",
        "    # Allow up to 3 login attempts\n",
        "    attempts = 3\n",
        "\n",
        "    while attempts > 0:\n",
        "        # Prompt user for username and password\n",
        "        username = input(\"Enter your username: \")\n",
        "        password = input(\"Enter your password: \")\n",
        "\n",
        "        # Check if the username exists and if the password matches\n",
        "        if username in credentials and credentials[username] == password:\n",
        "            print(\"Login successful! Welcome to the system.\")\n",
        "            break\n",
        "        else:\n",
        "            attempts -= 1\n",
        "            if attempts > 0:\n",
        "                print(f\"Invalid credentials. You have {attempts} attempts left.\")\n",
        "            else:\n",
        "                print(\"Too many failed attempts.\")\n",
        "                break\n",
        "\n",
        "\n",
        "#menu\n",
        "login_system()\n",
        "while True:\n",
        "            print(\"Menu\")\n",
        "            print(\"1. View Books \")\n",
        "            print(\"2. Add a Book \")\n",
        "            print(\"3. Issue a Book \")\n",
        "            print(\"4. Return a Book \")\n",
        "            print(\"5. View Issued Books \")\n",
        "            print(\"6. Exit \")\n",
        "            choice=input(\"Enter the option\")\n",
        "\n",
        "            if(choice==\"1\"):\n",
        "              view_books(library)\n",
        "            elif(choice==\"2\"):\n",
        "              add_books()\n",
        "            elif(choice==\"6\"):\n",
        "              print(\"Good bye\")\n",
        "              break\n",
        "            else:\n",
        "              print(\"invalid choice\")\n",
        ""
      ]
    }
  ]
}