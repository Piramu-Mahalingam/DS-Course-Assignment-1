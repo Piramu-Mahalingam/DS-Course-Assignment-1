{
  "nbformat": 4,
  "nbformat_minor": 0,
  "metadata": {
    "colab": {
      "provenance": [],
      "authorship_tag": "ABX9TyMFN8E4fz7/MN7/pqJl4L4a",
      "include_colab_link": true
    },
    "kernelspec": {
      "name": "python3",
      "display_name": "Python 3"
    },
    "language_info": {
      "name": "python"
    }
  },
  "cells": [
    {
      "cell_type": "markdown",
      "metadata": {
        "id": "view-in-github",
        "colab_type": "text"
      },
      "source": [
        "<a href=\"https://colab.research.google.com/github/Piramu-Mahalingam/DS-Course-Assignment-1/blob/main/Piramu_M_Mini_Project_Python_Libraries.ipynb\" target=\"_parent\"><img src=\"https://colab.research.google.com/assets/colab-badge.svg\" alt=\"Open In Colab\"/></a>"
      ]
    },
    {
      "cell_type": "code",
      "execution_count": 3,
      "metadata": {
        "colab": {
          "base_uri": "https://localhost:8080/"
        },
        "id": "Mcl6G3_tT23D",
        "outputId": "10fc7078-86d6-481d-c41c-0392dd7a9a71"
      },
      "outputs": [
        {
          "output_type": "stream",
          "name": "stdout",
          "text": [
            "/content\n"
          ]
        }
      ],
      "source": [
        "#1.Load the student marks and attendance data from the provided Excel\n",
        "#files into two separate Pandas DataFrames.\n",
        "import os\n",
        "print(os.getcwd())"
      ]
    },
    {
      "cell_type": "markdown",
      "source": [
        "# New Section"
      ],
      "metadata": {
        "id": "ZEPLZVHTDfu4"
      }
    },
    {
      "cell_type": "code",
      "source": [
        "import pandas as pd\n",
        "smarks = pd.read_excel(\"./Marks.xlsx\")\n",
        "satt=pd.read_excel(\"./Attendance.xlsx\")\n",
        "print(smarks)\n",
        "print(satt)"
      ],
      "metadata": {
        "id": "JSp0fAt1D3LM",
        "outputId": "4f134ef4-a614-40df-9fee-9d5e90d05e0b",
        "colab": {
          "base_uri": "https://localhost:8080/"
        }
      },
      "execution_count": 23,
      "outputs": [
        {
          "output_type": "stream",
          "name": "stdout",
          "text": [
            "                  Name Mini Test 1 Mini Test 2 Live Test  Assignment\n",
            "0                Arjun           9           5        14        16.0\n",
            "1         Sophia Hardy           8           9       113        19.0\n",
            "2                  RAj          10          10        15        20.0\n",
            "3                Emily           9           7        11        16.0\n",
            "4         Ishaan Saini           8           7        14        11.0\n",
            "..                 ...         ...         ...       ...         ...\n",
            "105            Makayla           2           7        13         3.0\n",
            "106      Ishaan Kapoor           9           6        13        20.0\n",
            "107            Addison           8           8        12        12.0\n",
            "108  Aditya Srivastava           5           5         8        17.0\n",
            "109             Peyton           9           9        12        10.0\n",
            "\n",
            "[110 rows x 5 columns]\n",
            "                  Name Attendance Day 1 Attendance Day 2 Attendance Day 3  \\\n",
            "0                Arjun                Y                N                N   \n",
            "1         Sophia Hardy                Y                N                N   \n",
            "2                  RAj                Y                Y                Y   \n",
            "3                Emily                Y                Y                N   \n",
            "4         Ishaan Saini                N                N                N   \n",
            "..                 ...              ...              ...              ...   \n",
            "105            Makayla                Y                Y                Y   \n",
            "106      Ishaan Kapoor                Y                N                N   \n",
            "107            Addison                Y                Y                Y   \n",
            "108  Aditya Srivastava                N                N                N   \n",
            "109             Peyton                Y                Y                N   \n",
            "\n",
            "    Attendance Day 4 Attendance Day 5  \n",
            "0                  N                Y  \n",
            "1                  Y                Y  \n",
            "2                  Y                Y  \n",
            "3                  Y                Y  \n",
            "4                  N                Y  \n",
            "..               ...              ...  \n",
            "105                Y                Y  \n",
            "106                Y                Y  \n",
            "107                Y                Y  \n",
            "108                Y                Y  \n",
            "109                Y                Y  \n",
            "\n",
            "[110 rows x 6 columns]\n"
          ]
        }
      ]
    },
    {
      "cell_type": "code",
      "source": [
        "mergedf=pd.merge(smarks,satt,on=\"Name\",how=\"inner\")\n",
        "print(mergedf)"
      ],
      "metadata": {
        "id": "Aw8Yzt7QYfVv",
        "outputId": "0d2c9b87-d0a9-4f7f-be4d-bb1859adcd2f",
        "colab": {
          "base_uri": "https://localhost:8080/"
        }
      },
      "execution_count": 24,
      "outputs": [
        {
          "output_type": "stream",
          "name": "stdout",
          "text": [
            "                  Name Mini Test 1 Mini Test 2 Live Test  Assignment  \\\n",
            "0                Arjun           9           5        14        16.0   \n",
            "1         Sophia Hardy           8           9       113        19.0   \n",
            "2                  RAj          10          10        15        20.0   \n",
            "3                Emily           9           7        11        16.0   \n",
            "4         Ishaan Saini           8           7        14        11.0   \n",
            "..                 ...         ...         ...       ...         ...   \n",
            "105            Makayla           2           7        13         3.0   \n",
            "106      Ishaan Kapoor           9           6        13        20.0   \n",
            "107            Addison           8           8        12        12.0   \n",
            "108  Aditya Srivastava           5           5         8        17.0   \n",
            "109             Peyton           9           9        12        10.0   \n",
            "\n",
            "    Attendance Day 1 Attendance Day 2 Attendance Day 3 Attendance Day 4  \\\n",
            "0                  Y                N                N                N   \n",
            "1                  Y                N                N                Y   \n",
            "2                  Y                Y                Y                Y   \n",
            "3                  Y                Y                N                Y   \n",
            "4                  N                N                N                N   \n",
            "..               ...              ...              ...              ...   \n",
            "105                Y                Y                Y                Y   \n",
            "106                Y                N                N                Y   \n",
            "107                Y                Y                Y                Y   \n",
            "108                N                N                N                Y   \n",
            "109                Y                Y                N                Y   \n",
            "\n",
            "    Attendance Day 5  \n",
            "0                  Y  \n",
            "1                  Y  \n",
            "2                  Y  \n",
            "3                  Y  \n",
            "4                  Y  \n",
            "..               ...  \n",
            "105                Y  \n",
            "106                Y  \n",
            "107                Y  \n",
            "108                Y  \n",
            "109                Y  \n",
            "\n",
            "[110 rows x 10 columns]\n"
          ]
        }
      ]
    },
    {
      "cell_type": "code",
      "source": [
        "attendance_columns = ['Attendance Day 1', 'Attendance Day 2', 'Attendance Day 3', 'Attendance Day 4','Attendance Day 5']\n",
        "for column in attendance_columns:\n",
        "  mergedf[column]=mergedf[column].replace({'Y':1,'N':0})\n",
        "print(mergedf.head())"
      ],
      "metadata": {
        "id": "Csk7S2PFZJ5G",
        "outputId": "781447c2-c9e9-4b8c-cd6a-83433abe53e2",
        "colab": {
          "base_uri": "https://localhost:8080/"
        }
      },
      "execution_count": 27,
      "outputs": [
        {
          "output_type": "stream",
          "name": "stdout",
          "text": [
            "           Name Mini Test 1 Mini Test 2 Live Test  Assignment  \\\n",
            "0         Arjun           9           5        14        16.0   \n",
            "1  Sophia Hardy           8           9       113        19.0   \n",
            "2           RAj          10          10        15        20.0   \n",
            "3         Emily           9           7        11        16.0   \n",
            "4  Ishaan Saini           8           7        14        11.0   \n",
            "\n",
            "   Attendance Day 1  Attendance Day 2  Attendance Day 3  Attendance Day 4  \\\n",
            "0                 1                 0                 0                 0   \n",
            "1                 1                 0                 0                 1   \n",
            "2                 1                 1                 1                 1   \n",
            "3                 1                 1                 0                 1   \n",
            "4                 0                 0                 0                 0   \n",
            "\n",
            "   Attendance Day 5  \n",
            "0                 1  \n",
            "1                 1  \n",
            "2                 1  \n",
            "3                 1  \n",
            "4                 1  \n"
          ]
        },
        {
          "output_type": "stream",
          "name": "stderr",
          "text": [
            "<ipython-input-27-0b1fa4a55970>:3: FutureWarning: Downcasting behavior in `replace` is deprecated and will be removed in a future version. To retain the old behavior, explicitly call `result.infer_objects(copy=False)`. To opt-in to the future behavior, set `pd.set_option('future.no_silent_downcasting', True)`\n",
            "  mergedf[column]=mergedf[column].replace({'Y':1,'N':0})\n"
          ]
        }
      ]
    },
    {
      "cell_type": "code",
      "source": [
        "mergedf['Name'] = mergedf['Name'].str.title()\n",
        "print(mergedf.head())"
      ],
      "metadata": {
        "id": "dhuNRrvoe-hn",
        "outputId": "3b1196f8-c295-46f1-dbc2-f48b97714b27",
        "colab": {
          "base_uri": "https://localhost:8080/"
        }
      },
      "execution_count": 28,
      "outputs": [
        {
          "output_type": "stream",
          "name": "stdout",
          "text": [
            "           Name Mini Test 1 Mini Test 2 Live Test  Assignment  \\\n",
            "0         Arjun           9           5        14        16.0   \n",
            "1  Sophia Hardy           8           9       113        19.0   \n",
            "2           Raj          10          10        15        20.0   \n",
            "3         Emily           9           7        11        16.0   \n",
            "4  Ishaan Saini           8           7        14        11.0   \n",
            "\n",
            "   Attendance Day 1  Attendance Day 2  Attendance Day 3  Attendance Day 4  \\\n",
            "0                 1                 0                 0                 0   \n",
            "1                 1                 0                 0                 1   \n",
            "2                 1                 1                 1                 1   \n",
            "3                 1                 1                 0                 1   \n",
            "4                 0                 0                 0                 0   \n",
            "\n",
            "   Attendance Day 5  \n",
            "0                 1  \n",
            "1                 1  \n",
            "2                 1  \n",
            "3                 1  \n",
            "4                 1  \n"
          ]
        }
      ]
    },
    {
      "cell_type": "code",
      "source": [
        "print(mergedf.isnull().sum())\n"
      ],
      "metadata": {
        "id": "IVSoALTcfi9R",
        "outputId": "3b6bd001-1e16-4583-c61d-b97f030ed4c8",
        "colab": {
          "base_uri": "https://localhost:8080/"
        }
      },
      "execution_count": 29,
      "outputs": [
        {
          "output_type": "stream",
          "name": "stdout",
          "text": [
            "Name                0\n",
            "Mini Test 1         1\n",
            "Mini Test 2         1\n",
            "Live Test           1\n",
            "Assignment          1\n",
            "Attendance Day 1    0\n",
            "Attendance Day 2    0\n",
            "Attendance Day 3    0\n",
            "Attendance Day 4    0\n",
            "Attendance Day 5    0\n",
            "dtype: int64\n"
          ]
        }
      ]
    },
    {
      "cell_type": "code",
      "source": [],
      "metadata": {
        "id": "-U3PeBxffoEA"
      },
      "execution_count": null,
      "outputs": []
    }
  ]
}