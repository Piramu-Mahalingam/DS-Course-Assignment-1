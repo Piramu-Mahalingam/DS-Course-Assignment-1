{
  "nbformat": 4,
  "nbformat_minor": 0,
  "metadata": {
    "colab": {
      "provenance": [],
      "authorship_tag": "ABX9TyPjxp5G7u4wh3Sq6mJfsmEP",
      "include_colab_link": true
    },
    "kernelspec": {
      "name": "python3",
      "display_name": "Python 3"
    },
    "language_info": {
      "name": "python"
    },
    "widgets": {
      "application/vnd.jupyter.widget-state+json": {
        "f172c1d9510445ad96a5884a2f1f4f17": {
          "model_module": "@jupyter-widgets/controls",
          "model_name": "HBoxModel",
          "model_module_version": "1.5.0",
          "state": {
            "_dom_classes": [],
            "_model_module": "@jupyter-widgets/controls",
            "_model_module_version": "1.5.0",
            "_model_name": "HBoxModel",
            "_view_count": null,
            "_view_module": "@jupyter-widgets/controls",
            "_view_module_version": "1.5.0",
            "_view_name": "HBoxView",
            "box_style": "",
            "children": [
              "IPY_MODEL_57b7078b5b26489fabcff202b9a4c90c",
              "IPY_MODEL_e05e2fdfd7ab4d6db32791b90c1e45c4",
              "IPY_MODEL_961d9dac75e646eeb3cb58e17507b7d4"
            ],
            "layout": "IPY_MODEL_b3bd84f1dd3244228af8466348f405ee"
          }
        },
        "57b7078b5b26489fabcff202b9a4c90c": {
          "model_module": "@jupyter-widgets/controls",
          "model_name": "HTMLModel",
          "model_module_version": "1.5.0",
          "state": {
            "_dom_classes": [],
            "_model_module": "@jupyter-widgets/controls",
            "_model_module_version": "1.5.0",
            "_model_name": "HTMLModel",
            "_view_count": null,
            "_view_module": "@jupyter-widgets/controls",
            "_view_module_version": "1.5.0",
            "_view_name": "HTMLView",
            "description": "",
            "description_tooltip": null,
            "layout": "IPY_MODEL_b8c90f02e7cf4eafb4e07e1c557de379",
            "placeholder": "​",
            "style": "IPY_MODEL_97b7a7bdc8914d0fabbed1a7d7e35d84",
            "value": "tokenizer_config.json: 100%"
          }
        },
        "e05e2fdfd7ab4d6db32791b90c1e45c4": {
          "model_module": "@jupyter-widgets/controls",
          "model_name": "FloatProgressModel",
          "model_module_version": "1.5.0",
          "state": {
            "_dom_classes": [],
            "_model_module": "@jupyter-widgets/controls",
            "_model_module_version": "1.5.0",
            "_model_name": "FloatProgressModel",
            "_view_count": null,
            "_view_module": "@jupyter-widgets/controls",
            "_view_module_version": "1.5.0",
            "_view_name": "ProgressView",
            "bar_style": "success",
            "description": "",
            "description_tooltip": null,
            "layout": "IPY_MODEL_7eebb2221a724cc99de3c18f8be83340",
            "max": 48,
            "min": 0,
            "orientation": "horizontal",
            "style": "IPY_MODEL_75486b26f7404c0c85da472d57ffdde7",
            "value": 48
          }
        },
        "961d9dac75e646eeb3cb58e17507b7d4": {
          "model_module": "@jupyter-widgets/controls",
          "model_name": "HTMLModel",
          "model_module_version": "1.5.0",
          "state": {
            "_dom_classes": [],
            "_model_module": "@jupyter-widgets/controls",
            "_model_module_version": "1.5.0",
            "_model_name": "HTMLModel",
            "_view_count": null,
            "_view_module": "@jupyter-widgets/controls",
            "_view_module_version": "1.5.0",
            "_view_name": "HTMLView",
            "description": "",
            "description_tooltip": null,
            "layout": "IPY_MODEL_8117b07afd814987814b5a9ab9470152",
            "placeholder": "​",
            "style": "IPY_MODEL_ec9f549b0a774e2ca086e14be3461c21",
            "value": " 48.0/48.0 [00:00&lt;00:00, 1.02kB/s]"
          }
        },
        "b3bd84f1dd3244228af8466348f405ee": {
          "model_module": "@jupyter-widgets/base",
          "model_name": "LayoutModel",
          "model_module_version": "1.2.0",
          "state": {
            "_model_module": "@jupyter-widgets/base",
            "_model_module_version": "1.2.0",
            "_model_name": "LayoutModel",
            "_view_count": null,
            "_view_module": "@jupyter-widgets/base",
            "_view_module_version": "1.2.0",
            "_view_name": "LayoutView",
            "align_content": null,
            "align_items": null,
            "align_self": null,
            "border": null,
            "bottom": null,
            "display": null,
            "flex": null,
            "flex_flow": null,
            "grid_area": null,
            "grid_auto_columns": null,
            "grid_auto_flow": null,
            "grid_auto_rows": null,
            "grid_column": null,
            "grid_gap": null,
            "grid_row": null,
            "grid_template_areas": null,
            "grid_template_columns": null,
            "grid_template_rows": null,
            "height": null,
            "justify_content": null,
            "justify_items": null,
            "left": null,
            "margin": null,
            "max_height": null,
            "max_width": null,
            "min_height": null,
            "min_width": null,
            "object_fit": null,
            "object_position": null,
            "order": null,
            "overflow": null,
            "overflow_x": null,
            "overflow_y": null,
            "padding": null,
            "right": null,
            "top": null,
            "visibility": null,
            "width": null
          }
        },
        "b8c90f02e7cf4eafb4e07e1c557de379": {
          "model_module": "@jupyter-widgets/base",
          "model_name": "LayoutModel",
          "model_module_version": "1.2.0",
          "state": {
            "_model_module": "@jupyter-widgets/base",
            "_model_module_version": "1.2.0",
            "_model_name": "LayoutModel",
            "_view_count": null,
            "_view_module": "@jupyter-widgets/base",
            "_view_module_version": "1.2.0",
            "_view_name": "LayoutView",
            "align_content": null,
            "align_items": null,
            "align_self": null,
            "border": null,
            "bottom": null,
            "display": null,
            "flex": null,
            "flex_flow": null,
            "grid_area": null,
            "grid_auto_columns": null,
            "grid_auto_flow": null,
            "grid_auto_rows": null,
            "grid_column": null,
            "grid_gap": null,
            "grid_row": null,
            "grid_template_areas": null,
            "grid_template_columns": null,
            "grid_template_rows": null,
            "height": null,
            "justify_content": null,
            "justify_items": null,
            "left": null,
            "margin": null,
            "max_height": null,
            "max_width": null,
            "min_height": null,
            "min_width": null,
            "object_fit": null,
            "object_position": null,
            "order": null,
            "overflow": null,
            "overflow_x": null,
            "overflow_y": null,
            "padding": null,
            "right": null,
            "top": null,
            "visibility": null,
            "width": null
          }
        },
        "97b7a7bdc8914d0fabbed1a7d7e35d84": {
          "model_module": "@jupyter-widgets/controls",
          "model_name": "DescriptionStyleModel",
          "model_module_version": "1.5.0",
          "state": {
            "_model_module": "@jupyter-widgets/controls",
            "_model_module_version": "1.5.0",
            "_model_name": "DescriptionStyleModel",
            "_view_count": null,
            "_view_module": "@jupyter-widgets/base",
            "_view_module_version": "1.2.0",
            "_view_name": "StyleView",
            "description_width": ""
          }
        },
        "7eebb2221a724cc99de3c18f8be83340": {
          "model_module": "@jupyter-widgets/base",
          "model_name": "LayoutModel",
          "model_module_version": "1.2.0",
          "state": {
            "_model_module": "@jupyter-widgets/base",
            "_model_module_version": "1.2.0",
            "_model_name": "LayoutModel",
            "_view_count": null,
            "_view_module": "@jupyter-widgets/base",
            "_view_module_version": "1.2.0",
            "_view_name": "LayoutView",
            "align_content": null,
            "align_items": null,
            "align_self": null,
            "border": null,
            "bottom": null,
            "display": null,
            "flex": null,
            "flex_flow": null,
            "grid_area": null,
            "grid_auto_columns": null,
            "grid_auto_flow": null,
            "grid_auto_rows": null,
            "grid_column": null,
            "grid_gap": null,
            "grid_row": null,
            "grid_template_areas": null,
            "grid_template_columns": null,
            "grid_template_rows": null,
            "height": null,
            "justify_content": null,
            "justify_items": null,
            "left": null,
            "margin": null,
            "max_height": null,
            "max_width": null,
            "min_height": null,
            "min_width": null,
            "object_fit": null,
            "object_position": null,
            "order": null,
            "overflow": null,
            "overflow_x": null,
            "overflow_y": null,
            "padding": null,
            "right": null,
            "top": null,
            "visibility": null,
            "width": null
          }
        },
        "75486b26f7404c0c85da472d57ffdde7": {
          "model_module": "@jupyter-widgets/controls",
          "model_name": "ProgressStyleModel",
          "model_module_version": "1.5.0",
          "state": {
            "_model_module": "@jupyter-widgets/controls",
            "_model_module_version": "1.5.0",
            "_model_name": "ProgressStyleModel",
            "_view_count": null,
            "_view_module": "@jupyter-widgets/base",
            "_view_module_version": "1.2.0",
            "_view_name": "StyleView",
            "bar_color": null,
            "description_width": ""
          }
        },
        "8117b07afd814987814b5a9ab9470152": {
          "model_module": "@jupyter-widgets/base",
          "model_name": "LayoutModel",
          "model_module_version": "1.2.0",
          "state": {
            "_model_module": "@jupyter-widgets/base",
            "_model_module_version": "1.2.0",
            "_model_name": "LayoutModel",
            "_view_count": null,
            "_view_module": "@jupyter-widgets/base",
            "_view_module_version": "1.2.0",
            "_view_name": "LayoutView",
            "align_content": null,
            "align_items": null,
            "align_self": null,
            "border": null,
            "bottom": null,
            "display": null,
            "flex": null,
            "flex_flow": null,
            "grid_area": null,
            "grid_auto_columns": null,
            "grid_auto_flow": null,
            "grid_auto_rows": null,
            "grid_column": null,
            "grid_gap": null,
            "grid_row": null,
            "grid_template_areas": null,
            "grid_template_columns": null,
            "grid_template_rows": null,
            "height": null,
            "justify_content": null,
            "justify_items": null,
            "left": null,
            "margin": null,
            "max_height": null,
            "max_width": null,
            "min_height": null,
            "min_width": null,
            "object_fit": null,
            "object_position": null,
            "order": null,
            "overflow": null,
            "overflow_x": null,
            "overflow_y": null,
            "padding": null,
            "right": null,
            "top": null,
            "visibility": null,
            "width": null
          }
        },
        "ec9f549b0a774e2ca086e14be3461c21": {
          "model_module": "@jupyter-widgets/controls",
          "model_name": "DescriptionStyleModel",
          "model_module_version": "1.5.0",
          "state": {
            "_model_module": "@jupyter-widgets/controls",
            "_model_module_version": "1.5.0",
            "_model_name": "DescriptionStyleModel",
            "_view_count": null,
            "_view_module": "@jupyter-widgets/base",
            "_view_module_version": "1.2.0",
            "_view_name": "StyleView",
            "description_width": ""
          }
        },
        "373e66c1346d481dae154c7171982ce6": {
          "model_module": "@jupyter-widgets/controls",
          "model_name": "HBoxModel",
          "model_module_version": "1.5.0",
          "state": {
            "_dom_classes": [],
            "_model_module": "@jupyter-widgets/controls",
            "_model_module_version": "1.5.0",
            "_model_name": "HBoxModel",
            "_view_count": null,
            "_view_module": "@jupyter-widgets/controls",
            "_view_module_version": "1.5.0",
            "_view_name": "HBoxView",
            "box_style": "",
            "children": [
              "IPY_MODEL_fc9d7869efb64a6d968d2f3d83e3ce07",
              "IPY_MODEL_c75268f0794344868f50ef26d36125d4",
              "IPY_MODEL_de50b486b15b4772ac237507ebc922ba"
            ],
            "layout": "IPY_MODEL_720af045ca8e4701bda2ee1cf95b4dc2"
          }
        },
        "fc9d7869efb64a6d968d2f3d83e3ce07": {
          "model_module": "@jupyter-widgets/controls",
          "model_name": "HTMLModel",
          "model_module_version": "1.5.0",
          "state": {
            "_dom_classes": [],
            "_model_module": "@jupyter-widgets/controls",
            "_model_module_version": "1.5.0",
            "_model_name": "HTMLModel",
            "_view_count": null,
            "_view_module": "@jupyter-widgets/controls",
            "_view_module_version": "1.5.0",
            "_view_name": "HTMLView",
            "description": "",
            "description_tooltip": null,
            "layout": "IPY_MODEL_b906ad6b9569429da2356f65a0465d48",
            "placeholder": "​",
            "style": "IPY_MODEL_c3590c61557f455c9d5b921b331bee56",
            "value": "config.json: 100%"
          }
        },
        "c75268f0794344868f50ef26d36125d4": {
          "model_module": "@jupyter-widgets/controls",
          "model_name": "FloatProgressModel",
          "model_module_version": "1.5.0",
          "state": {
            "_dom_classes": [],
            "_model_module": "@jupyter-widgets/controls",
            "_model_module_version": "1.5.0",
            "_model_name": "FloatProgressModel",
            "_view_count": null,
            "_view_module": "@jupyter-widgets/controls",
            "_view_module_version": "1.5.0",
            "_view_name": "ProgressView",
            "bar_style": "success",
            "description": "",
            "description_tooltip": null,
            "layout": "IPY_MODEL_ce442cc5a22e428ab7e0f19a689aaea8",
            "max": 570,
            "min": 0,
            "orientation": "horizontal",
            "style": "IPY_MODEL_08de67891ecb41e8b8c79f362bc54c14",
            "value": 570
          }
        },
        "de50b486b15b4772ac237507ebc922ba": {
          "model_module": "@jupyter-widgets/controls",
          "model_name": "HTMLModel",
          "model_module_version": "1.5.0",
          "state": {
            "_dom_classes": [],
            "_model_module": "@jupyter-widgets/controls",
            "_model_module_version": "1.5.0",
            "_model_name": "HTMLModel",
            "_view_count": null,
            "_view_module": "@jupyter-widgets/controls",
            "_view_module_version": "1.5.0",
            "_view_name": "HTMLView",
            "description": "",
            "description_tooltip": null,
            "layout": "IPY_MODEL_2b1992a10c20449f8671a8868a76d541",
            "placeholder": "​",
            "style": "IPY_MODEL_ee02a1aefdfb4de691aeeace076bb570",
            "value": " 570/570 [00:00&lt;00:00, 11.8kB/s]"
          }
        },
        "720af045ca8e4701bda2ee1cf95b4dc2": {
          "model_module": "@jupyter-widgets/base",
          "model_name": "LayoutModel",
          "model_module_version": "1.2.0",
          "state": {
            "_model_module": "@jupyter-widgets/base",
            "_model_module_version": "1.2.0",
            "_model_name": "LayoutModel",
            "_view_count": null,
            "_view_module": "@jupyter-widgets/base",
            "_view_module_version": "1.2.0",
            "_view_name": "LayoutView",
            "align_content": null,
            "align_items": null,
            "align_self": null,
            "border": null,
            "bottom": null,
            "display": null,
            "flex": null,
            "flex_flow": null,
            "grid_area": null,
            "grid_auto_columns": null,
            "grid_auto_flow": null,
            "grid_auto_rows": null,
            "grid_column": null,
            "grid_gap": null,
            "grid_row": null,
            "grid_template_areas": null,
            "grid_template_columns": null,
            "grid_template_rows": null,
            "height": null,
            "justify_content": null,
            "justify_items": null,
            "left": null,
            "margin": null,
            "max_height": null,
            "max_width": null,
            "min_height": null,
            "min_width": null,
            "object_fit": null,
            "object_position": null,
            "order": null,
            "overflow": null,
            "overflow_x": null,
            "overflow_y": null,
            "padding": null,
            "right": null,
            "top": null,
            "visibility": null,
            "width": null
          }
        },
        "b906ad6b9569429da2356f65a0465d48": {
          "model_module": "@jupyter-widgets/base",
          "model_name": "LayoutModel",
          "model_module_version": "1.2.0",
          "state": {
            "_model_module": "@jupyter-widgets/base",
            "_model_module_version": "1.2.0",
            "_model_name": "LayoutModel",
            "_view_count": null,
            "_view_module": "@jupyter-widgets/base",
            "_view_module_version": "1.2.0",
            "_view_name": "LayoutView",
            "align_content": null,
            "align_items": null,
            "align_self": null,
            "border": null,
            "bottom": null,
            "display": null,
            "flex": null,
            "flex_flow": null,
            "grid_area": null,
            "grid_auto_columns": null,
            "grid_auto_flow": null,
            "grid_auto_rows": null,
            "grid_column": null,
            "grid_gap": null,
            "grid_row": null,
            "grid_template_areas": null,
            "grid_template_columns": null,
            "grid_template_rows": null,
            "height": null,
            "justify_content": null,
            "justify_items": null,
            "left": null,
            "margin": null,
            "max_height": null,
            "max_width": null,
            "min_height": null,
            "min_width": null,
            "object_fit": null,
            "object_position": null,
            "order": null,
            "overflow": null,
            "overflow_x": null,
            "overflow_y": null,
            "padding": null,
            "right": null,
            "top": null,
            "visibility": null,
            "width": null
          }
        },
        "c3590c61557f455c9d5b921b331bee56": {
          "model_module": "@jupyter-widgets/controls",
          "model_name": "DescriptionStyleModel",
          "model_module_version": "1.5.0",
          "state": {
            "_model_module": "@jupyter-widgets/controls",
            "_model_module_version": "1.5.0",
            "_model_name": "DescriptionStyleModel",
            "_view_count": null,
            "_view_module": "@jupyter-widgets/base",
            "_view_module_version": "1.2.0",
            "_view_name": "StyleView",
            "description_width": ""
          }
        },
        "ce442cc5a22e428ab7e0f19a689aaea8": {
          "model_module": "@jupyter-widgets/base",
          "model_name": "LayoutModel",
          "model_module_version": "1.2.0",
          "state": {
            "_model_module": "@jupyter-widgets/base",
            "_model_module_version": "1.2.0",
            "_model_name": "LayoutModel",
            "_view_count": null,
            "_view_module": "@jupyter-widgets/base",
            "_view_module_version": "1.2.0",
            "_view_name": "LayoutView",
            "align_content": null,
            "align_items": null,
            "align_self": null,
            "border": null,
            "bottom": null,
            "display": null,
            "flex": null,
            "flex_flow": null,
            "grid_area": null,
            "grid_auto_columns": null,
            "grid_auto_flow": null,
            "grid_auto_rows": null,
            "grid_column": null,
            "grid_gap": null,
            "grid_row": null,
            "grid_template_areas": null,
            "grid_template_columns": null,
            "grid_template_rows": null,
            "height": null,
            "justify_content": null,
            "justify_items": null,
            "left": null,
            "margin": null,
            "max_height": null,
            "max_width": null,
            "min_height": null,
            "min_width": null,
            "object_fit": null,
            "object_position": null,
            "order": null,
            "overflow": null,
            "overflow_x": null,
            "overflow_y": null,
            "padding": null,
            "right": null,
            "top": null,
            "visibility": null,
            "width": null
          }
        },
        "08de67891ecb41e8b8c79f362bc54c14": {
          "model_module": "@jupyter-widgets/controls",
          "model_name": "ProgressStyleModel",
          "model_module_version": "1.5.0",
          "state": {
            "_model_module": "@jupyter-widgets/controls",
            "_model_module_version": "1.5.0",
            "_model_name": "ProgressStyleModel",
            "_view_count": null,
            "_view_module": "@jupyter-widgets/base",
            "_view_module_version": "1.2.0",
            "_view_name": "StyleView",
            "bar_color": null,
            "description_width": ""
          }
        },
        "2b1992a10c20449f8671a8868a76d541": {
          "model_module": "@jupyter-widgets/base",
          "model_name": "LayoutModel",
          "model_module_version": "1.2.0",
          "state": {
            "_model_module": "@jupyter-widgets/base",
            "_model_module_version": "1.2.0",
            "_model_name": "LayoutModel",
            "_view_count": null,
            "_view_module": "@jupyter-widgets/base",
            "_view_module_version": "1.2.0",
            "_view_name": "LayoutView",
            "align_content": null,
            "align_items": null,
            "align_self": null,
            "border": null,
            "bottom": null,
            "display": null,
            "flex": null,
            "flex_flow": null,
            "grid_area": null,
            "grid_auto_columns": null,
            "grid_auto_flow": null,
            "grid_auto_rows": null,
            "grid_column": null,
            "grid_gap": null,
            "grid_row": null,
            "grid_template_areas": null,
            "grid_template_columns": null,
            "grid_template_rows": null,
            "height": null,
            "justify_content": null,
            "justify_items": null,
            "left": null,
            "margin": null,
            "max_height": null,
            "max_width": null,
            "min_height": null,
            "min_width": null,
            "object_fit": null,
            "object_position": null,
            "order": null,
            "overflow": null,
            "overflow_x": null,
            "overflow_y": null,
            "padding": null,
            "right": null,
            "top": null,
            "visibility": null,
            "width": null
          }
        },
        "ee02a1aefdfb4de691aeeace076bb570": {
          "model_module": "@jupyter-widgets/controls",
          "model_name": "DescriptionStyleModel",
          "model_module_version": "1.5.0",
          "state": {
            "_model_module": "@jupyter-widgets/controls",
            "_model_module_version": "1.5.0",
            "_model_name": "DescriptionStyleModel",
            "_view_count": null,
            "_view_module": "@jupyter-widgets/base",
            "_view_module_version": "1.2.0",
            "_view_name": "StyleView",
            "description_width": ""
          }
        },
        "c5631a2d7e1140afbda8671e51edab3b": {
          "model_module": "@jupyter-widgets/controls",
          "model_name": "HBoxModel",
          "model_module_version": "1.5.0",
          "state": {
            "_dom_classes": [],
            "_model_module": "@jupyter-widgets/controls",
            "_model_module_version": "1.5.0",
            "_model_name": "HBoxModel",
            "_view_count": null,
            "_view_module": "@jupyter-widgets/controls",
            "_view_module_version": "1.5.0",
            "_view_name": "HBoxView",
            "box_style": "",
            "children": [
              "IPY_MODEL_6e67ffcdc645451eaa7065a3df7a8b0d",
              "IPY_MODEL_3daaa00cc1914d9fade60b1025bdd02e",
              "IPY_MODEL_823c1589d1c84003a4ca26537a6c2a83"
            ],
            "layout": "IPY_MODEL_d960c2de34d14854a584b60e4ee7aceb"
          }
        },
        "6e67ffcdc645451eaa7065a3df7a8b0d": {
          "model_module": "@jupyter-widgets/controls",
          "model_name": "HTMLModel",
          "model_module_version": "1.5.0",
          "state": {
            "_dom_classes": [],
            "_model_module": "@jupyter-widgets/controls",
            "_model_module_version": "1.5.0",
            "_model_name": "HTMLModel",
            "_view_count": null,
            "_view_module": "@jupyter-widgets/controls",
            "_view_module_version": "1.5.0",
            "_view_name": "HTMLView",
            "description": "",
            "description_tooltip": null,
            "layout": "IPY_MODEL_8c7a5ecf2bac4980907a3ad2e979a57b",
            "placeholder": "​",
            "style": "IPY_MODEL_47318ebe0bce411a9445662a4c22ee07",
            "value": "vocab.txt: 100%"
          }
        },
        "3daaa00cc1914d9fade60b1025bdd02e": {
          "model_module": "@jupyter-widgets/controls",
          "model_name": "FloatProgressModel",
          "model_module_version": "1.5.0",
          "state": {
            "_dom_classes": [],
            "_model_module": "@jupyter-widgets/controls",
            "_model_module_version": "1.5.0",
            "_model_name": "FloatProgressModel",
            "_view_count": null,
            "_view_module": "@jupyter-widgets/controls",
            "_view_module_version": "1.5.0",
            "_view_name": "ProgressView",
            "bar_style": "success",
            "description": "",
            "description_tooltip": null,
            "layout": "IPY_MODEL_df2ae86d8d0f414d9130333a00a97fd8",
            "max": 231508,
            "min": 0,
            "orientation": "horizontal",
            "style": "IPY_MODEL_d9dee2afaca74c879153f592cf2bfe54",
            "value": 231508
          }
        },
        "823c1589d1c84003a4ca26537a6c2a83": {
          "model_module": "@jupyter-widgets/controls",
          "model_name": "HTMLModel",
          "model_module_version": "1.5.0",
          "state": {
            "_dom_classes": [],
            "_model_module": "@jupyter-widgets/controls",
            "_model_module_version": "1.5.0",
            "_model_name": "HTMLModel",
            "_view_count": null,
            "_view_module": "@jupyter-widgets/controls",
            "_view_module_version": "1.5.0",
            "_view_name": "HTMLView",
            "description": "",
            "description_tooltip": null,
            "layout": "IPY_MODEL_b1038dff0fba4e5f9dce1e6478915580",
            "placeholder": "​",
            "style": "IPY_MODEL_d4b3f227b8b34b7bb5947a2dc0ef3ba9",
            "value": " 232k/232k [00:00&lt;00:00, 2.15MB/s]"
          }
        },
        "d960c2de34d14854a584b60e4ee7aceb": {
          "model_module": "@jupyter-widgets/base",
          "model_name": "LayoutModel",
          "model_module_version": "1.2.0",
          "state": {
            "_model_module": "@jupyter-widgets/base",
            "_model_module_version": "1.2.0",
            "_model_name": "LayoutModel",
            "_view_count": null,
            "_view_module": "@jupyter-widgets/base",
            "_view_module_version": "1.2.0",
            "_view_name": "LayoutView",
            "align_content": null,
            "align_items": null,
            "align_self": null,
            "border": null,
            "bottom": null,
            "display": null,
            "flex": null,
            "flex_flow": null,
            "grid_area": null,
            "grid_auto_columns": null,
            "grid_auto_flow": null,
            "grid_auto_rows": null,
            "grid_column": null,
            "grid_gap": null,
            "grid_row": null,
            "grid_template_areas": null,
            "grid_template_columns": null,
            "grid_template_rows": null,
            "height": null,
            "justify_content": null,
            "justify_items": null,
            "left": null,
            "margin": null,
            "max_height": null,
            "max_width": null,
            "min_height": null,
            "min_width": null,
            "object_fit": null,
            "object_position": null,
            "order": null,
            "overflow": null,
            "overflow_x": null,
            "overflow_y": null,
            "padding": null,
            "right": null,
            "top": null,
            "visibility": null,
            "width": null
          }
        },
        "8c7a5ecf2bac4980907a3ad2e979a57b": {
          "model_module": "@jupyter-widgets/base",
          "model_name": "LayoutModel",
          "model_module_version": "1.2.0",
          "state": {
            "_model_module": "@jupyter-widgets/base",
            "_model_module_version": "1.2.0",
            "_model_name": "LayoutModel",
            "_view_count": null,
            "_view_module": "@jupyter-widgets/base",
            "_view_module_version": "1.2.0",
            "_view_name": "LayoutView",
            "align_content": null,
            "align_items": null,
            "align_self": null,
            "border": null,
            "bottom": null,
            "display": null,
            "flex": null,
            "flex_flow": null,
            "grid_area": null,
            "grid_auto_columns": null,
            "grid_auto_flow": null,
            "grid_auto_rows": null,
            "grid_column": null,
            "grid_gap": null,
            "grid_row": null,
            "grid_template_areas": null,
            "grid_template_columns": null,
            "grid_template_rows": null,
            "height": null,
            "justify_content": null,
            "justify_items": null,
            "left": null,
            "margin": null,
            "max_height": null,
            "max_width": null,
            "min_height": null,
            "min_width": null,
            "object_fit": null,
            "object_position": null,
            "order": null,
            "overflow": null,
            "overflow_x": null,
            "overflow_y": null,
            "padding": null,
            "right": null,
            "top": null,
            "visibility": null,
            "width": null
          }
        },
        "47318ebe0bce411a9445662a4c22ee07": {
          "model_module": "@jupyter-widgets/controls",
          "model_name": "DescriptionStyleModel",
          "model_module_version": "1.5.0",
          "state": {
            "_model_module": "@jupyter-widgets/controls",
            "_model_module_version": "1.5.0",
            "_model_name": "DescriptionStyleModel",
            "_view_count": null,
            "_view_module": "@jupyter-widgets/base",
            "_view_module_version": "1.2.0",
            "_view_name": "StyleView",
            "description_width": ""
          }
        },
        "df2ae86d8d0f414d9130333a00a97fd8": {
          "model_module": "@jupyter-widgets/base",
          "model_name": "LayoutModel",
          "model_module_version": "1.2.0",
          "state": {
            "_model_module": "@jupyter-widgets/base",
            "_model_module_version": "1.2.0",
            "_model_name": "LayoutModel",
            "_view_count": null,
            "_view_module": "@jupyter-widgets/base",
            "_view_module_version": "1.2.0",
            "_view_name": "LayoutView",
            "align_content": null,
            "align_items": null,
            "align_self": null,
            "border": null,
            "bottom": null,
            "display": null,
            "flex": null,
            "flex_flow": null,
            "grid_area": null,
            "grid_auto_columns": null,
            "grid_auto_flow": null,
            "grid_auto_rows": null,
            "grid_column": null,
            "grid_gap": null,
            "grid_row": null,
            "grid_template_areas": null,
            "grid_template_columns": null,
            "grid_template_rows": null,
            "height": null,
            "justify_content": null,
            "justify_items": null,
            "left": null,
            "margin": null,
            "max_height": null,
            "max_width": null,
            "min_height": null,
            "min_width": null,
            "object_fit": null,
            "object_position": null,
            "order": null,
            "overflow": null,
            "overflow_x": null,
            "overflow_y": null,
            "padding": null,
            "right": null,
            "top": null,
            "visibility": null,
            "width": null
          }
        },
        "d9dee2afaca74c879153f592cf2bfe54": {
          "model_module": "@jupyter-widgets/controls",
          "model_name": "ProgressStyleModel",
          "model_module_version": "1.5.0",
          "state": {
            "_model_module": "@jupyter-widgets/controls",
            "_model_module_version": "1.5.0",
            "_model_name": "ProgressStyleModel",
            "_view_count": null,
            "_view_module": "@jupyter-widgets/base",
            "_view_module_version": "1.2.0",
            "_view_name": "StyleView",
            "bar_color": null,
            "description_width": ""
          }
        },
        "b1038dff0fba4e5f9dce1e6478915580": {
          "model_module": "@jupyter-widgets/base",
          "model_name": "LayoutModel",
          "model_module_version": "1.2.0",
          "state": {
            "_model_module": "@jupyter-widgets/base",
            "_model_module_version": "1.2.0",
            "_model_name": "LayoutModel",
            "_view_count": null,
            "_view_module": "@jupyter-widgets/base",
            "_view_module_version": "1.2.0",
            "_view_name": "LayoutView",
            "align_content": null,
            "align_items": null,
            "align_self": null,
            "border": null,
            "bottom": null,
            "display": null,
            "flex": null,
            "flex_flow": null,
            "grid_area": null,
            "grid_auto_columns": null,
            "grid_auto_flow": null,
            "grid_auto_rows": null,
            "grid_column": null,
            "grid_gap": null,
            "grid_row": null,
            "grid_template_areas": null,
            "grid_template_columns": null,
            "grid_template_rows": null,
            "height": null,
            "justify_content": null,
            "justify_items": null,
            "left": null,
            "margin": null,
            "max_height": null,
            "max_width": null,
            "min_height": null,
            "min_width": null,
            "object_fit": null,
            "object_position": null,
            "order": null,
            "overflow": null,
            "overflow_x": null,
            "overflow_y": null,
            "padding": null,
            "right": null,
            "top": null,
            "visibility": null,
            "width": null
          }
        },
        "d4b3f227b8b34b7bb5947a2dc0ef3ba9": {
          "model_module": "@jupyter-widgets/controls",
          "model_name": "DescriptionStyleModel",
          "model_module_version": "1.5.0",
          "state": {
            "_model_module": "@jupyter-widgets/controls",
            "_model_module_version": "1.5.0",
            "_model_name": "DescriptionStyleModel",
            "_view_count": null,
            "_view_module": "@jupyter-widgets/base",
            "_view_module_version": "1.2.0",
            "_view_name": "StyleView",
            "description_width": ""
          }
        },
        "991e852ff76047c4bc28d6203a65276c": {
          "model_module": "@jupyter-widgets/controls",
          "model_name": "HBoxModel",
          "model_module_version": "1.5.0",
          "state": {
            "_dom_classes": [],
            "_model_module": "@jupyter-widgets/controls",
            "_model_module_version": "1.5.0",
            "_model_name": "HBoxModel",
            "_view_count": null,
            "_view_module": "@jupyter-widgets/controls",
            "_view_module_version": "1.5.0",
            "_view_name": "HBoxView",
            "box_style": "",
            "children": [
              "IPY_MODEL_5d6434c977ef4d90a9d8ae7d4ed22f87",
              "IPY_MODEL_a127afa88c6f41edbcad9d7cdffb2c3b",
              "IPY_MODEL_539f440346aa4c749fd009400c535815"
            ],
            "layout": "IPY_MODEL_5f30397e3a954458bc079e1f05be1341"
          }
        },
        "5d6434c977ef4d90a9d8ae7d4ed22f87": {
          "model_module": "@jupyter-widgets/controls",
          "model_name": "HTMLModel",
          "model_module_version": "1.5.0",
          "state": {
            "_dom_classes": [],
            "_model_module": "@jupyter-widgets/controls",
            "_model_module_version": "1.5.0",
            "_model_name": "HTMLModel",
            "_view_count": null,
            "_view_module": "@jupyter-widgets/controls",
            "_view_module_version": "1.5.0",
            "_view_name": "HTMLView",
            "description": "",
            "description_tooltip": null,
            "layout": "IPY_MODEL_9fc96a466e5d4a0080c214f74df7aeec",
            "placeholder": "​",
            "style": "IPY_MODEL_4f1595fc5c38479083e5e8f62d1d64de",
            "value": "tokenizer.json: 100%"
          }
        },
        "a127afa88c6f41edbcad9d7cdffb2c3b": {
          "model_module": "@jupyter-widgets/controls",
          "model_name": "FloatProgressModel",
          "model_module_version": "1.5.0",
          "state": {
            "_dom_classes": [],
            "_model_module": "@jupyter-widgets/controls",
            "_model_module_version": "1.5.0",
            "_model_name": "FloatProgressModel",
            "_view_count": null,
            "_view_module": "@jupyter-widgets/controls",
            "_view_module_version": "1.5.0",
            "_view_name": "ProgressView",
            "bar_style": "success",
            "description": "",
            "description_tooltip": null,
            "layout": "IPY_MODEL_593928a3ad9b473b9a39a60b9c016ccb",
            "max": 466062,
            "min": 0,
            "orientation": "horizontal",
            "style": "IPY_MODEL_136d0e620257470fbf119cb49a7b8cb7",
            "value": 466062
          }
        },
        "539f440346aa4c749fd009400c535815": {
          "model_module": "@jupyter-widgets/controls",
          "model_name": "HTMLModel",
          "model_module_version": "1.5.0",
          "state": {
            "_dom_classes": [],
            "_model_module": "@jupyter-widgets/controls",
            "_model_module_version": "1.5.0",
            "_model_name": "HTMLModel",
            "_view_count": null,
            "_view_module": "@jupyter-widgets/controls",
            "_view_module_version": "1.5.0",
            "_view_name": "HTMLView",
            "description": "",
            "description_tooltip": null,
            "layout": "IPY_MODEL_3c0623541b6d46ddaa9f28f347faf558",
            "placeholder": "​",
            "style": "IPY_MODEL_944c65aa8c2143dd82d620970933058e",
            "value": " 466k/466k [00:00&lt;00:00, 5.11MB/s]"
          }
        },
        "5f30397e3a954458bc079e1f05be1341": {
          "model_module": "@jupyter-widgets/base",
          "model_name": "LayoutModel",
          "model_module_version": "1.2.0",
          "state": {
            "_model_module": "@jupyter-widgets/base",
            "_model_module_version": "1.2.0",
            "_model_name": "LayoutModel",
            "_view_count": null,
            "_view_module": "@jupyter-widgets/base",
            "_view_module_version": "1.2.0",
            "_view_name": "LayoutView",
            "align_content": null,
            "align_items": null,
            "align_self": null,
            "border": null,
            "bottom": null,
            "display": null,
            "flex": null,
            "flex_flow": null,
            "grid_area": null,
            "grid_auto_columns": null,
            "grid_auto_flow": null,
            "grid_auto_rows": null,
            "grid_column": null,
            "grid_gap": null,
            "grid_row": null,
            "grid_template_areas": null,
            "grid_template_columns": null,
            "grid_template_rows": null,
            "height": null,
            "justify_content": null,
            "justify_items": null,
            "left": null,
            "margin": null,
            "max_height": null,
            "max_width": null,
            "min_height": null,
            "min_width": null,
            "object_fit": null,
            "object_position": null,
            "order": null,
            "overflow": null,
            "overflow_x": null,
            "overflow_y": null,
            "padding": null,
            "right": null,
            "top": null,
            "visibility": null,
            "width": null
          }
        },
        "9fc96a466e5d4a0080c214f74df7aeec": {
          "model_module": "@jupyter-widgets/base",
          "model_name": "LayoutModel",
          "model_module_version": "1.2.0",
          "state": {
            "_model_module": "@jupyter-widgets/base",
            "_model_module_version": "1.2.0",
            "_model_name": "LayoutModel",
            "_view_count": null,
            "_view_module": "@jupyter-widgets/base",
            "_view_module_version": "1.2.0",
            "_view_name": "LayoutView",
            "align_content": null,
            "align_items": null,
            "align_self": null,
            "border": null,
            "bottom": null,
            "display": null,
            "flex": null,
            "flex_flow": null,
            "grid_area": null,
            "grid_auto_columns": null,
            "grid_auto_flow": null,
            "grid_auto_rows": null,
            "grid_column": null,
            "grid_gap": null,
            "grid_row": null,
            "grid_template_areas": null,
            "grid_template_columns": null,
            "grid_template_rows": null,
            "height": null,
            "justify_content": null,
            "justify_items": null,
            "left": null,
            "margin": null,
            "max_height": null,
            "max_width": null,
            "min_height": null,
            "min_width": null,
            "object_fit": null,
            "object_position": null,
            "order": null,
            "overflow": null,
            "overflow_x": null,
            "overflow_y": null,
            "padding": null,
            "right": null,
            "top": null,
            "visibility": null,
            "width": null
          }
        },
        "4f1595fc5c38479083e5e8f62d1d64de": {
          "model_module": "@jupyter-widgets/controls",
          "model_name": "DescriptionStyleModel",
          "model_module_version": "1.5.0",
          "state": {
            "_model_module": "@jupyter-widgets/controls",
            "_model_module_version": "1.5.0",
            "_model_name": "DescriptionStyleModel",
            "_view_count": null,
            "_view_module": "@jupyter-widgets/base",
            "_view_module_version": "1.2.0",
            "_view_name": "StyleView",
            "description_width": ""
          }
        },
        "593928a3ad9b473b9a39a60b9c016ccb": {
          "model_module": "@jupyter-widgets/base",
          "model_name": "LayoutModel",
          "model_module_version": "1.2.0",
          "state": {
            "_model_module": "@jupyter-widgets/base",
            "_model_module_version": "1.2.0",
            "_model_name": "LayoutModel",
            "_view_count": null,
            "_view_module": "@jupyter-widgets/base",
            "_view_module_version": "1.2.0",
            "_view_name": "LayoutView",
            "align_content": null,
            "align_items": null,
            "align_self": null,
            "border": null,
            "bottom": null,
            "display": null,
            "flex": null,
            "flex_flow": null,
            "grid_area": null,
            "grid_auto_columns": null,
            "grid_auto_flow": null,
            "grid_auto_rows": null,
            "grid_column": null,
            "grid_gap": null,
            "grid_row": null,
            "grid_template_areas": null,
            "grid_template_columns": null,
            "grid_template_rows": null,
            "height": null,
            "justify_content": null,
            "justify_items": null,
            "left": null,
            "margin": null,
            "max_height": null,
            "max_width": null,
            "min_height": null,
            "min_width": null,
            "object_fit": null,
            "object_position": null,
            "order": null,
            "overflow": null,
            "overflow_x": null,
            "overflow_y": null,
            "padding": null,
            "right": null,
            "top": null,
            "visibility": null,
            "width": null
          }
        },
        "136d0e620257470fbf119cb49a7b8cb7": {
          "model_module": "@jupyter-widgets/controls",
          "model_name": "ProgressStyleModel",
          "model_module_version": "1.5.0",
          "state": {
            "_model_module": "@jupyter-widgets/controls",
            "_model_module_version": "1.5.0",
            "_model_name": "ProgressStyleModel",
            "_view_count": null,
            "_view_module": "@jupyter-widgets/base",
            "_view_module_version": "1.2.0",
            "_view_name": "StyleView",
            "bar_color": null,
            "description_width": ""
          }
        },
        "3c0623541b6d46ddaa9f28f347faf558": {
          "model_module": "@jupyter-widgets/base",
          "model_name": "LayoutModel",
          "model_module_version": "1.2.0",
          "state": {
            "_model_module": "@jupyter-widgets/base",
            "_model_module_version": "1.2.0",
            "_model_name": "LayoutModel",
            "_view_count": null,
            "_view_module": "@jupyter-widgets/base",
            "_view_module_version": "1.2.0",
            "_view_name": "LayoutView",
            "align_content": null,
            "align_items": null,
            "align_self": null,
            "border": null,
            "bottom": null,
            "display": null,
            "flex": null,
            "flex_flow": null,
            "grid_area": null,
            "grid_auto_columns": null,
            "grid_auto_flow": null,
            "grid_auto_rows": null,
            "grid_column": null,
            "grid_gap": null,
            "grid_row": null,
            "grid_template_areas": null,
            "grid_template_columns": null,
            "grid_template_rows": null,
            "height": null,
            "justify_content": null,
            "justify_items": null,
            "left": null,
            "margin": null,
            "max_height": null,
            "max_width": null,
            "min_height": null,
            "min_width": null,
            "object_fit": null,
            "object_position": null,
            "order": null,
            "overflow": null,
            "overflow_x": null,
            "overflow_y": null,
            "padding": null,
            "right": null,
            "top": null,
            "visibility": null,
            "width": null
          }
        },
        "944c65aa8c2143dd82d620970933058e": {
          "model_module": "@jupyter-widgets/controls",
          "model_name": "DescriptionStyleModel",
          "model_module_version": "1.5.0",
          "state": {
            "_model_module": "@jupyter-widgets/controls",
            "_model_module_version": "1.5.0",
            "_model_name": "DescriptionStyleModel",
            "_view_count": null,
            "_view_module": "@jupyter-widgets/base",
            "_view_module_version": "1.2.0",
            "_view_name": "StyleView",
            "description_width": ""
          }
        },
        "58a1442cf8cf4bc8bd202124527f25e0": {
          "model_module": "@jupyter-widgets/controls",
          "model_name": "HBoxModel",
          "model_module_version": "1.5.0",
          "state": {
            "_dom_classes": [],
            "_model_module": "@jupyter-widgets/controls",
            "_model_module_version": "1.5.0",
            "_model_name": "HBoxModel",
            "_view_count": null,
            "_view_module": "@jupyter-widgets/controls",
            "_view_module_version": "1.5.0",
            "_view_name": "HBoxView",
            "box_style": "",
            "children": [
              "IPY_MODEL_f752d9521dbd41e29f61c0adf8d5ce56",
              "IPY_MODEL_3af163bcb71648a28b47d9978752b43d",
              "IPY_MODEL_899ccdb7be974036a683cf12cb78d786"
            ],
            "layout": "IPY_MODEL_660c0114adec493f95296f7152a6a85f"
          }
        },
        "f752d9521dbd41e29f61c0adf8d5ce56": {
          "model_module": "@jupyter-widgets/controls",
          "model_name": "HTMLModel",
          "model_module_version": "1.5.0",
          "state": {
            "_dom_classes": [],
            "_model_module": "@jupyter-widgets/controls",
            "_model_module_version": "1.5.0",
            "_model_name": "HTMLModel",
            "_view_count": null,
            "_view_module": "@jupyter-widgets/controls",
            "_view_module_version": "1.5.0",
            "_view_name": "HTMLView",
            "description": "",
            "description_tooltip": null,
            "layout": "IPY_MODEL_d34b51fbc9f54293a1c73fe6f9197fc1",
            "placeholder": "​",
            "style": "IPY_MODEL_170103057be4430090b0fb3a6333883a",
            "value": "Map: 100%"
          }
        },
        "3af163bcb71648a28b47d9978752b43d": {
          "model_module": "@jupyter-widgets/controls",
          "model_name": "FloatProgressModel",
          "model_module_version": "1.5.0",
          "state": {
            "_dom_classes": [],
            "_model_module": "@jupyter-widgets/controls",
            "_model_module_version": "1.5.0",
            "_model_name": "FloatProgressModel",
            "_view_count": null,
            "_view_module": "@jupyter-widgets/controls",
            "_view_module_version": "1.5.0",
            "_view_name": "ProgressView",
            "bar_style": "success",
            "description": "",
            "description_tooltip": null,
            "layout": "IPY_MODEL_19d0631cae69435a949ebe1ccda14bc9",
            "max": 16000,
            "min": 0,
            "orientation": "horizontal",
            "style": "IPY_MODEL_5ccc4ba1386548fab6cfcacfc9abd129",
            "value": 16000
          }
        },
        "899ccdb7be974036a683cf12cb78d786": {
          "model_module": "@jupyter-widgets/controls",
          "model_name": "HTMLModel",
          "model_module_version": "1.5.0",
          "state": {
            "_dom_classes": [],
            "_model_module": "@jupyter-widgets/controls",
            "_model_module_version": "1.5.0",
            "_model_name": "HTMLModel",
            "_view_count": null,
            "_view_module": "@jupyter-widgets/controls",
            "_view_module_version": "1.5.0",
            "_view_name": "HTMLView",
            "description": "",
            "description_tooltip": null,
            "layout": "IPY_MODEL_bec8b818aa5a42b59e23a741b614ce20",
            "placeholder": "​",
            "style": "IPY_MODEL_2d5bbfbc80d54ec19ee67bbcc20c1022",
            "value": " 16000/16000 [00:06&lt;00:00, 2150.46 examples/s]"
          }
        },
        "660c0114adec493f95296f7152a6a85f": {
          "model_module": "@jupyter-widgets/base",
          "model_name": "LayoutModel",
          "model_module_version": "1.2.0",
          "state": {
            "_model_module": "@jupyter-widgets/base",
            "_model_module_version": "1.2.0",
            "_model_name": "LayoutModel",
            "_view_count": null,
            "_view_module": "@jupyter-widgets/base",
            "_view_module_version": "1.2.0",
            "_view_name": "LayoutView",
            "align_content": null,
            "align_items": null,
            "align_self": null,
            "border": null,
            "bottom": null,
            "display": null,
            "flex": null,
            "flex_flow": null,
            "grid_area": null,
            "grid_auto_columns": null,
            "grid_auto_flow": null,
            "grid_auto_rows": null,
            "grid_column": null,
            "grid_gap": null,
            "grid_row": null,
            "grid_template_areas": null,
            "grid_template_columns": null,
            "grid_template_rows": null,
            "height": null,
            "justify_content": null,
            "justify_items": null,
            "left": null,
            "margin": null,
            "max_height": null,
            "max_width": null,
            "min_height": null,
            "min_width": null,
            "object_fit": null,
            "object_position": null,
            "order": null,
            "overflow": null,
            "overflow_x": null,
            "overflow_y": null,
            "padding": null,
            "right": null,
            "top": null,
            "visibility": null,
            "width": null
          }
        },
        "d34b51fbc9f54293a1c73fe6f9197fc1": {
          "model_module": "@jupyter-widgets/base",
          "model_name": "LayoutModel",
          "model_module_version": "1.2.0",
          "state": {
            "_model_module": "@jupyter-widgets/base",
            "_model_module_version": "1.2.0",
            "_model_name": "LayoutModel",
            "_view_count": null,
            "_view_module": "@jupyter-widgets/base",
            "_view_module_version": "1.2.0",
            "_view_name": "LayoutView",
            "align_content": null,
            "align_items": null,
            "align_self": null,
            "border": null,
            "bottom": null,
            "display": null,
            "flex": null,
            "flex_flow": null,
            "grid_area": null,
            "grid_auto_columns": null,
            "grid_auto_flow": null,
            "grid_auto_rows": null,
            "grid_column": null,
            "grid_gap": null,
            "grid_row": null,
            "grid_template_areas": null,
            "grid_template_columns": null,
            "grid_template_rows": null,
            "height": null,
            "justify_content": null,
            "justify_items": null,
            "left": null,
            "margin": null,
            "max_height": null,
            "max_width": null,
            "min_height": null,
            "min_width": null,
            "object_fit": null,
            "object_position": null,
            "order": null,
            "overflow": null,
            "overflow_x": null,
            "overflow_y": null,
            "padding": null,
            "right": null,
            "top": null,
            "visibility": null,
            "width": null
          }
        },
        "170103057be4430090b0fb3a6333883a": {
          "model_module": "@jupyter-widgets/controls",
          "model_name": "DescriptionStyleModel",
          "model_module_version": "1.5.0",
          "state": {
            "_model_module": "@jupyter-widgets/controls",
            "_model_module_version": "1.5.0",
            "_model_name": "DescriptionStyleModel",
            "_view_count": null,
            "_view_module": "@jupyter-widgets/base",
            "_view_module_version": "1.2.0",
            "_view_name": "StyleView",
            "description_width": ""
          }
        },
        "19d0631cae69435a949ebe1ccda14bc9": {
          "model_module": "@jupyter-widgets/base",
          "model_name": "LayoutModel",
          "model_module_version": "1.2.0",
          "state": {
            "_model_module": "@jupyter-widgets/base",
            "_model_module_version": "1.2.0",
            "_model_name": "LayoutModel",
            "_view_count": null,
            "_view_module": "@jupyter-widgets/base",
            "_view_module_version": "1.2.0",
            "_view_name": "LayoutView",
            "align_content": null,
            "align_items": null,
            "align_self": null,
            "border": null,
            "bottom": null,
            "display": null,
            "flex": null,
            "flex_flow": null,
            "grid_area": null,
            "grid_auto_columns": null,
            "grid_auto_flow": null,
            "grid_auto_rows": null,
            "grid_column": null,
            "grid_gap": null,
            "grid_row": null,
            "grid_template_areas": null,
            "grid_template_columns": null,
            "grid_template_rows": null,
            "height": null,
            "justify_content": null,
            "justify_items": null,
            "left": null,
            "margin": null,
            "max_height": null,
            "max_width": null,
            "min_height": null,
            "min_width": null,
            "object_fit": null,
            "object_position": null,
            "order": null,
            "overflow": null,
            "overflow_x": null,
            "overflow_y": null,
            "padding": null,
            "right": null,
            "top": null,
            "visibility": null,
            "width": null
          }
        },
        "5ccc4ba1386548fab6cfcacfc9abd129": {
          "model_module": "@jupyter-widgets/controls",
          "model_name": "ProgressStyleModel",
          "model_module_version": "1.5.0",
          "state": {
            "_model_module": "@jupyter-widgets/controls",
            "_model_module_version": "1.5.0",
            "_model_name": "ProgressStyleModel",
            "_view_count": null,
            "_view_module": "@jupyter-widgets/base",
            "_view_module_version": "1.2.0",
            "_view_name": "StyleView",
            "bar_color": null,
            "description_width": ""
          }
        },
        "bec8b818aa5a42b59e23a741b614ce20": {
          "model_module": "@jupyter-widgets/base",
          "model_name": "LayoutModel",
          "model_module_version": "1.2.0",
          "state": {
            "_model_module": "@jupyter-widgets/base",
            "_model_module_version": "1.2.0",
            "_model_name": "LayoutModel",
            "_view_count": null,
            "_view_module": "@jupyter-widgets/base",
            "_view_module_version": "1.2.0",
            "_view_name": "LayoutView",
            "align_content": null,
            "align_items": null,
            "align_self": null,
            "border": null,
            "bottom": null,
            "display": null,
            "flex": null,
            "flex_flow": null,
            "grid_area": null,
            "grid_auto_columns": null,
            "grid_auto_flow": null,
            "grid_auto_rows": null,
            "grid_column": null,
            "grid_gap": null,
            "grid_row": null,
            "grid_template_areas": null,
            "grid_template_columns": null,
            "grid_template_rows": null,
            "height": null,
            "justify_content": null,
            "justify_items": null,
            "left": null,
            "margin": null,
            "max_height": null,
            "max_width": null,
            "min_height": null,
            "min_width": null,
            "object_fit": null,
            "object_position": null,
            "order": null,
            "overflow": null,
            "overflow_x": null,
            "overflow_y": null,
            "padding": null,
            "right": null,
            "top": null,
            "visibility": null,
            "width": null
          }
        },
        "2d5bbfbc80d54ec19ee67bbcc20c1022": {
          "model_module": "@jupyter-widgets/controls",
          "model_name": "DescriptionStyleModel",
          "model_module_version": "1.5.0",
          "state": {
            "_model_module": "@jupyter-widgets/controls",
            "_model_module_version": "1.5.0",
            "_model_name": "DescriptionStyleModel",
            "_view_count": null,
            "_view_module": "@jupyter-widgets/base",
            "_view_module_version": "1.2.0",
            "_view_name": "StyleView",
            "description_width": ""
          }
        },
        "a5f8891871ad4301ac7072ecf7efdc8d": {
          "model_module": "@jupyter-widgets/controls",
          "model_name": "HBoxModel",
          "model_module_version": "1.5.0",
          "state": {
            "_dom_classes": [],
            "_model_module": "@jupyter-widgets/controls",
            "_model_module_version": "1.5.0",
            "_model_name": "HBoxModel",
            "_view_count": null,
            "_view_module": "@jupyter-widgets/controls",
            "_view_module_version": "1.5.0",
            "_view_name": "HBoxView",
            "box_style": "",
            "children": [
              "IPY_MODEL_f69a2dde62cb4046b2e620aaba7fb3f3",
              "IPY_MODEL_5910b3b5d77248569bea524d5d1eee12",
              "IPY_MODEL_13b973bf02784363b7a178c77ec17e7b"
            ],
            "layout": "IPY_MODEL_c5ca3d621a0d4b14870a6e6f9697f1ee"
          }
        },
        "f69a2dde62cb4046b2e620aaba7fb3f3": {
          "model_module": "@jupyter-widgets/controls",
          "model_name": "HTMLModel",
          "model_module_version": "1.5.0",
          "state": {
            "_dom_classes": [],
            "_model_module": "@jupyter-widgets/controls",
            "_model_module_version": "1.5.0",
            "_model_name": "HTMLModel",
            "_view_count": null,
            "_view_module": "@jupyter-widgets/controls",
            "_view_module_version": "1.5.0",
            "_view_name": "HTMLView",
            "description": "",
            "description_tooltip": null,
            "layout": "IPY_MODEL_d51f201392f646bda10d5e04b618b99d",
            "placeholder": "​",
            "style": "IPY_MODEL_ba0e6a9fd86441d68d66a4f35e130b09",
            "value": "Map: 100%"
          }
        },
        "5910b3b5d77248569bea524d5d1eee12": {
          "model_module": "@jupyter-widgets/controls",
          "model_name": "FloatProgressModel",
          "model_module_version": "1.5.0",
          "state": {
            "_dom_classes": [],
            "_model_module": "@jupyter-widgets/controls",
            "_model_module_version": "1.5.0",
            "_model_name": "FloatProgressModel",
            "_view_count": null,
            "_view_module": "@jupyter-widgets/controls",
            "_view_module_version": "1.5.0",
            "_view_name": "ProgressView",
            "bar_style": "success",
            "description": "",
            "description_tooltip": null,
            "layout": "IPY_MODEL_c2128deddc0c4746afaedf90f9b05204",
            "max": 2000,
            "min": 0,
            "orientation": "horizontal",
            "style": "IPY_MODEL_60a01b84ef7b4d91b9e1e5acd4c99e2b",
            "value": 2000
          }
        },
        "13b973bf02784363b7a178c77ec17e7b": {
          "model_module": "@jupyter-widgets/controls",
          "model_name": "HTMLModel",
          "model_module_version": "1.5.0",
          "state": {
            "_dom_classes": [],
            "_model_module": "@jupyter-widgets/controls",
            "_model_module_version": "1.5.0",
            "_model_name": "HTMLModel",
            "_view_count": null,
            "_view_module": "@jupyter-widgets/controls",
            "_view_module_version": "1.5.0",
            "_view_name": "HTMLView",
            "description": "",
            "description_tooltip": null,
            "layout": "IPY_MODEL_03524dc67a8843ab8280c91998d48df9",
            "placeholder": "​",
            "style": "IPY_MODEL_d7f5eb0a2fde4a01b93129407d6365a8",
            "value": " 2000/2000 [00:01&lt;00:00, 1500.37 examples/s]"
          }
        },
        "c5ca3d621a0d4b14870a6e6f9697f1ee": {
          "model_module": "@jupyter-widgets/base",
          "model_name": "LayoutModel",
          "model_module_version": "1.2.0",
          "state": {
            "_model_module": "@jupyter-widgets/base",
            "_model_module_version": "1.2.0",
            "_model_name": "LayoutModel",
            "_view_count": null,
            "_view_module": "@jupyter-widgets/base",
            "_view_module_version": "1.2.0",
            "_view_name": "LayoutView",
            "align_content": null,
            "align_items": null,
            "align_self": null,
            "border": null,
            "bottom": null,
            "display": null,
            "flex": null,
            "flex_flow": null,
            "grid_area": null,
            "grid_auto_columns": null,
            "grid_auto_flow": null,
            "grid_auto_rows": null,
            "grid_column": null,
            "grid_gap": null,
            "grid_row": null,
            "grid_template_areas": null,
            "grid_template_columns": null,
            "grid_template_rows": null,
            "height": null,
            "justify_content": null,
            "justify_items": null,
            "left": null,
            "margin": null,
            "max_height": null,
            "max_width": null,
            "min_height": null,
            "min_width": null,
            "object_fit": null,
            "object_position": null,
            "order": null,
            "overflow": null,
            "overflow_x": null,
            "overflow_y": null,
            "padding": null,
            "right": null,
            "top": null,
            "visibility": null,
            "width": null
          }
        },
        "d51f201392f646bda10d5e04b618b99d": {
          "model_module": "@jupyter-widgets/base",
          "model_name": "LayoutModel",
          "model_module_version": "1.2.0",
          "state": {
            "_model_module": "@jupyter-widgets/base",
            "_model_module_version": "1.2.0",
            "_model_name": "LayoutModel",
            "_view_count": null,
            "_view_module": "@jupyter-widgets/base",
            "_view_module_version": "1.2.0",
            "_view_name": "LayoutView",
            "align_content": null,
            "align_items": null,
            "align_self": null,
            "border": null,
            "bottom": null,
            "display": null,
            "flex": null,
            "flex_flow": null,
            "grid_area": null,
            "grid_auto_columns": null,
            "grid_auto_flow": null,
            "grid_auto_rows": null,
            "grid_column": null,
            "grid_gap": null,
            "grid_row": null,
            "grid_template_areas": null,
            "grid_template_columns": null,
            "grid_template_rows": null,
            "height": null,
            "justify_content": null,
            "justify_items": null,
            "left": null,
            "margin": null,
            "max_height": null,
            "max_width": null,
            "min_height": null,
            "min_width": null,
            "object_fit": null,
            "object_position": null,
            "order": null,
            "overflow": null,
            "overflow_x": null,
            "overflow_y": null,
            "padding": null,
            "right": null,
            "top": null,
            "visibility": null,
            "width": null
          }
        },
        "ba0e6a9fd86441d68d66a4f35e130b09": {
          "model_module": "@jupyter-widgets/controls",
          "model_name": "DescriptionStyleModel",
          "model_module_version": "1.5.0",
          "state": {
            "_model_module": "@jupyter-widgets/controls",
            "_model_module_version": "1.5.0",
            "_model_name": "DescriptionStyleModel",
            "_view_count": null,
            "_view_module": "@jupyter-widgets/base",
            "_view_module_version": "1.2.0",
            "_view_name": "StyleView",
            "description_width": ""
          }
        },
        "c2128deddc0c4746afaedf90f9b05204": {
          "model_module": "@jupyter-widgets/base",
          "model_name": "LayoutModel",
          "model_module_version": "1.2.0",
          "state": {
            "_model_module": "@jupyter-widgets/base",
            "_model_module_version": "1.2.0",
            "_model_name": "LayoutModel",
            "_view_count": null,
            "_view_module": "@jupyter-widgets/base",
            "_view_module_version": "1.2.0",
            "_view_name": "LayoutView",
            "align_content": null,
            "align_items": null,
            "align_self": null,
            "border": null,
            "bottom": null,
            "display": null,
            "flex": null,
            "flex_flow": null,
            "grid_area": null,
            "grid_auto_columns": null,
            "grid_auto_flow": null,
            "grid_auto_rows": null,
            "grid_column": null,
            "grid_gap": null,
            "grid_row": null,
            "grid_template_areas": null,
            "grid_template_columns": null,
            "grid_template_rows": null,
            "height": null,
            "justify_content": null,
            "justify_items": null,
            "left": null,
            "margin": null,
            "max_height": null,
            "max_width": null,
            "min_height": null,
            "min_width": null,
            "object_fit": null,
            "object_position": null,
            "order": null,
            "overflow": null,
            "overflow_x": null,
            "overflow_y": null,
            "padding": null,
            "right": null,
            "top": null,
            "visibility": null,
            "width": null
          }
        },
        "60a01b84ef7b4d91b9e1e5acd4c99e2b": {
          "model_module": "@jupyter-widgets/controls",
          "model_name": "ProgressStyleModel",
          "model_module_version": "1.5.0",
          "state": {
            "_model_module": "@jupyter-widgets/controls",
            "_model_module_version": "1.5.0",
            "_model_name": "ProgressStyleModel",
            "_view_count": null,
            "_view_module": "@jupyter-widgets/base",
            "_view_module_version": "1.2.0",
            "_view_name": "StyleView",
            "bar_color": null,
            "description_width": ""
          }
        },
        "03524dc67a8843ab8280c91998d48df9": {
          "model_module": "@jupyter-widgets/base",
          "model_name": "LayoutModel",
          "model_module_version": "1.2.0",
          "state": {
            "_model_module": "@jupyter-widgets/base",
            "_model_module_version": "1.2.0",
            "_model_name": "LayoutModel",
            "_view_count": null,
            "_view_module": "@jupyter-widgets/base",
            "_view_module_version": "1.2.0",
            "_view_name": "LayoutView",
            "align_content": null,
            "align_items": null,
            "align_self": null,
            "border": null,
            "bottom": null,
            "display": null,
            "flex": null,
            "flex_flow": null,
            "grid_area": null,
            "grid_auto_columns": null,
            "grid_auto_flow": null,
            "grid_auto_rows": null,
            "grid_column": null,
            "grid_gap": null,
            "grid_row": null,
            "grid_template_areas": null,
            "grid_template_columns": null,
            "grid_template_rows": null,
            "height": null,
            "justify_content": null,
            "justify_items": null,
            "left": null,
            "margin": null,
            "max_height": null,
            "max_width": null,
            "min_height": null,
            "min_width": null,
            "object_fit": null,
            "object_position": null,
            "order": null,
            "overflow": null,
            "overflow_x": null,
            "overflow_y": null,
            "padding": null,
            "right": null,
            "top": null,
            "visibility": null,
            "width": null
          }
        },
        "d7f5eb0a2fde4a01b93129407d6365a8": {
          "model_module": "@jupyter-widgets/controls",
          "model_name": "DescriptionStyleModel",
          "model_module_version": "1.5.0",
          "state": {
            "_model_module": "@jupyter-widgets/controls",
            "_model_module_version": "1.5.0",
            "_model_name": "DescriptionStyleModel",
            "_view_count": null,
            "_view_module": "@jupyter-widgets/base",
            "_view_module_version": "1.2.0",
            "_view_name": "StyleView",
            "description_width": ""
          }
        },
        "db76621bf51e4e33bbba066495815023": {
          "model_module": "@jupyter-widgets/controls",
          "model_name": "HBoxModel",
          "model_module_version": "1.5.0",
          "state": {
            "_dom_classes": [],
            "_model_module": "@jupyter-widgets/controls",
            "_model_module_version": "1.5.0",
            "_model_name": "HBoxModel",
            "_view_count": null,
            "_view_module": "@jupyter-widgets/controls",
            "_view_module_version": "1.5.0",
            "_view_name": "HBoxView",
            "box_style": "",
            "children": [
              "IPY_MODEL_17e023cb369b40ffa40103a867f86c7e",
              "IPY_MODEL_9c78347dabad4d068d67ff0c170d5ad5",
              "IPY_MODEL_ab2e3f6f925647c7b7e2817bae48a60d"
            ],
            "layout": "IPY_MODEL_ae02e1e1617f4aeba983fbfb19a6042f"
          }
        },
        "17e023cb369b40ffa40103a867f86c7e": {
          "model_module": "@jupyter-widgets/controls",
          "model_name": "HTMLModel",
          "model_module_version": "1.5.0",
          "state": {
            "_dom_classes": [],
            "_model_module": "@jupyter-widgets/controls",
            "_model_module_version": "1.5.0",
            "_model_name": "HTMLModel",
            "_view_count": null,
            "_view_module": "@jupyter-widgets/controls",
            "_view_module_version": "1.5.0",
            "_view_name": "HTMLView",
            "description": "",
            "description_tooltip": null,
            "layout": "IPY_MODEL_5e2294e3bd7d4efd91686aa89899dbcf",
            "placeholder": "​",
            "style": "IPY_MODEL_d594326a292e4a18af44efde7695bfc4",
            "value": "Map: 100%"
          }
        },
        "9c78347dabad4d068d67ff0c170d5ad5": {
          "model_module": "@jupyter-widgets/controls",
          "model_name": "FloatProgressModel",
          "model_module_version": "1.5.0",
          "state": {
            "_dom_classes": [],
            "_model_module": "@jupyter-widgets/controls",
            "_model_module_version": "1.5.0",
            "_model_name": "FloatProgressModel",
            "_view_count": null,
            "_view_module": "@jupyter-widgets/controls",
            "_view_module_version": "1.5.0",
            "_view_name": "ProgressView",
            "bar_style": "success",
            "description": "",
            "description_tooltip": null,
            "layout": "IPY_MODEL_e38c583907fb47878035df4ce8f70bbe",
            "max": 2000,
            "min": 0,
            "orientation": "horizontal",
            "style": "IPY_MODEL_d0ebc027da94447ab0e96694b9ed2454",
            "value": 2000
          }
        },
        "ab2e3f6f925647c7b7e2817bae48a60d": {
          "model_module": "@jupyter-widgets/controls",
          "model_name": "HTMLModel",
          "model_module_version": "1.5.0",
          "state": {
            "_dom_classes": [],
            "_model_module": "@jupyter-widgets/controls",
            "_model_module_version": "1.5.0",
            "_model_name": "HTMLModel",
            "_view_count": null,
            "_view_module": "@jupyter-widgets/controls",
            "_view_module_version": "1.5.0",
            "_view_name": "HTMLView",
            "description": "",
            "description_tooltip": null,
            "layout": "IPY_MODEL_4ab422152db14ee487fb99c77257aaf5",
            "placeholder": "​",
            "style": "IPY_MODEL_b4b7acfe1be7451abe0f086b53ff1868",
            "value": " 2000/2000 [00:02&lt;00:00, 990.29 examples/s]"
          }
        },
        "ae02e1e1617f4aeba983fbfb19a6042f": {
          "model_module": "@jupyter-widgets/base",
          "model_name": "LayoutModel",
          "model_module_version": "1.2.0",
          "state": {
            "_model_module": "@jupyter-widgets/base",
            "_model_module_version": "1.2.0",
            "_model_name": "LayoutModel",
            "_view_count": null,
            "_view_module": "@jupyter-widgets/base",
            "_view_module_version": "1.2.0",
            "_view_name": "LayoutView",
            "align_content": null,
            "align_items": null,
            "align_self": null,
            "border": null,
            "bottom": null,
            "display": null,
            "flex": null,
            "flex_flow": null,
            "grid_area": null,
            "grid_auto_columns": null,
            "grid_auto_flow": null,
            "grid_auto_rows": null,
            "grid_column": null,
            "grid_gap": null,
            "grid_row": null,
            "grid_template_areas": null,
            "grid_template_columns": null,
            "grid_template_rows": null,
            "height": null,
            "justify_content": null,
            "justify_items": null,
            "left": null,
            "margin": null,
            "max_height": null,
            "max_width": null,
            "min_height": null,
            "min_width": null,
            "object_fit": null,
            "object_position": null,
            "order": null,
            "overflow": null,
            "overflow_x": null,
            "overflow_y": null,
            "padding": null,
            "right": null,
            "top": null,
            "visibility": null,
            "width": null
          }
        },
        "5e2294e3bd7d4efd91686aa89899dbcf": {
          "model_module": "@jupyter-widgets/base",
          "model_name": "LayoutModel",
          "model_module_version": "1.2.0",
          "state": {
            "_model_module": "@jupyter-widgets/base",
            "_model_module_version": "1.2.0",
            "_model_name": "LayoutModel",
            "_view_count": null,
            "_view_module": "@jupyter-widgets/base",
            "_view_module_version": "1.2.0",
            "_view_name": "LayoutView",
            "align_content": null,
            "align_items": null,
            "align_self": null,
            "border": null,
            "bottom": null,
            "display": null,
            "flex": null,
            "flex_flow": null,
            "grid_area": null,
            "grid_auto_columns": null,
            "grid_auto_flow": null,
            "grid_auto_rows": null,
            "grid_column": null,
            "grid_gap": null,
            "grid_row": null,
            "grid_template_areas": null,
            "grid_template_columns": null,
            "grid_template_rows": null,
            "height": null,
            "justify_content": null,
            "justify_items": null,
            "left": null,
            "margin": null,
            "max_height": null,
            "max_width": null,
            "min_height": null,
            "min_width": null,
            "object_fit": null,
            "object_position": null,
            "order": null,
            "overflow": null,
            "overflow_x": null,
            "overflow_y": null,
            "padding": null,
            "right": null,
            "top": null,
            "visibility": null,
            "width": null
          }
        },
        "d594326a292e4a18af44efde7695bfc4": {
          "model_module": "@jupyter-widgets/controls",
          "model_name": "DescriptionStyleModel",
          "model_module_version": "1.5.0",
          "state": {
            "_model_module": "@jupyter-widgets/controls",
            "_model_module_version": "1.5.0",
            "_model_name": "DescriptionStyleModel",
            "_view_count": null,
            "_view_module": "@jupyter-widgets/base",
            "_view_module_version": "1.2.0",
            "_view_name": "StyleView",
            "description_width": ""
          }
        },
        "e38c583907fb47878035df4ce8f70bbe": {
          "model_module": "@jupyter-widgets/base",
          "model_name": "LayoutModel",
          "model_module_version": "1.2.0",
          "state": {
            "_model_module": "@jupyter-widgets/base",
            "_model_module_version": "1.2.0",
            "_model_name": "LayoutModel",
            "_view_count": null,
            "_view_module": "@jupyter-widgets/base",
            "_view_module_version": "1.2.0",
            "_view_name": "LayoutView",
            "align_content": null,
            "align_items": null,
            "align_self": null,
            "border": null,
            "bottom": null,
            "display": null,
            "flex": null,
            "flex_flow": null,
            "grid_area": null,
            "grid_auto_columns": null,
            "grid_auto_flow": null,
            "grid_auto_rows": null,
            "grid_column": null,
            "grid_gap": null,
            "grid_row": null,
            "grid_template_areas": null,
            "grid_template_columns": null,
            "grid_template_rows": null,
            "height": null,
            "justify_content": null,
            "justify_items": null,
            "left": null,
            "margin": null,
            "max_height": null,
            "max_width": null,
            "min_height": null,
            "min_width": null,
            "object_fit": null,
            "object_position": null,
            "order": null,
            "overflow": null,
            "overflow_x": null,
            "overflow_y": null,
            "padding": null,
            "right": null,
            "top": null,
            "visibility": null,
            "width": null
          }
        },
        "d0ebc027da94447ab0e96694b9ed2454": {
          "model_module": "@jupyter-widgets/controls",
          "model_name": "ProgressStyleModel",
          "model_module_version": "1.5.0",
          "state": {
            "_model_module": "@jupyter-widgets/controls",
            "_model_module_version": "1.5.0",
            "_model_name": "ProgressStyleModel",
            "_view_count": null,
            "_view_module": "@jupyter-widgets/base",
            "_view_module_version": "1.2.0",
            "_view_name": "StyleView",
            "bar_color": null,
            "description_width": ""
          }
        },
        "4ab422152db14ee487fb99c77257aaf5": {
          "model_module": "@jupyter-widgets/base",
          "model_name": "LayoutModel",
          "model_module_version": "1.2.0",
          "state": {
            "_model_module": "@jupyter-widgets/base",
            "_model_module_version": "1.2.0",
            "_model_name": "LayoutModel",
            "_view_count": null,
            "_view_module": "@jupyter-widgets/base",
            "_view_module_version": "1.2.0",
            "_view_name": "LayoutView",
            "align_content": null,
            "align_items": null,
            "align_self": null,
            "border": null,
            "bottom": null,
            "display": null,
            "flex": null,
            "flex_flow": null,
            "grid_area": null,
            "grid_auto_columns": null,
            "grid_auto_flow": null,
            "grid_auto_rows": null,
            "grid_column": null,
            "grid_gap": null,
            "grid_row": null,
            "grid_template_areas": null,
            "grid_template_columns": null,
            "grid_template_rows": null,
            "height": null,
            "justify_content": null,
            "justify_items": null,
            "left": null,
            "margin": null,
            "max_height": null,
            "max_width": null,
            "min_height": null,
            "min_width": null,
            "object_fit": null,
            "object_position": null,
            "order": null,
            "overflow": null,
            "overflow_x": null,
            "overflow_y": null,
            "padding": null,
            "right": null,
            "top": null,
            "visibility": null,
            "width": null
          }
        },
        "b4b7acfe1be7451abe0f086b53ff1868": {
          "model_module": "@jupyter-widgets/controls",
          "model_name": "DescriptionStyleModel",
          "model_module_version": "1.5.0",
          "state": {
            "_model_module": "@jupyter-widgets/controls",
            "_model_module_version": "1.5.0",
            "_model_name": "DescriptionStyleModel",
            "_view_count": null,
            "_view_module": "@jupyter-widgets/base",
            "_view_module_version": "1.2.0",
            "_view_name": "StyleView",
            "description_width": ""
          }
        },
        "7319e5c5ba37405084e66998d2e7a689": {
          "model_module": "@jupyter-widgets/controls",
          "model_name": "HBoxModel",
          "model_module_version": "1.5.0",
          "state": {
            "_dom_classes": [],
            "_model_module": "@jupyter-widgets/controls",
            "_model_module_version": "1.5.0",
            "_model_name": "HBoxModel",
            "_view_count": null,
            "_view_module": "@jupyter-widgets/controls",
            "_view_module_version": "1.5.0",
            "_view_name": "HBoxView",
            "box_style": "",
            "children": [
              "IPY_MODEL_9b6bfcf982374cd3b8cd53863177cabf",
              "IPY_MODEL_a054e3eaee544b15b70dad96e44e842d",
              "IPY_MODEL_1daa0a6aa9d948c29fb5903b0f02825e"
            ],
            "layout": "IPY_MODEL_935e9a0600a54af38fa57248fd0add19"
          }
        },
        "9b6bfcf982374cd3b8cd53863177cabf": {
          "model_module": "@jupyter-widgets/controls",
          "model_name": "HTMLModel",
          "model_module_version": "1.5.0",
          "state": {
            "_dom_classes": [],
            "_model_module": "@jupyter-widgets/controls",
            "_model_module_version": "1.5.0",
            "_model_name": "HTMLModel",
            "_view_count": null,
            "_view_module": "@jupyter-widgets/controls",
            "_view_module_version": "1.5.0",
            "_view_name": "HTMLView",
            "description": "",
            "description_tooltip": null,
            "layout": "IPY_MODEL_c98eb6424a2f4be5ba43f1ed5adc64bb",
            "placeholder": "​",
            "style": "IPY_MODEL_8e2f81ea5b8145ee8d592f7bafcdeb1e",
            "value": "model.safetensors: 100%"
          }
        },
        "a054e3eaee544b15b70dad96e44e842d": {
          "model_module": "@jupyter-widgets/controls",
          "model_name": "FloatProgressModel",
          "model_module_version": "1.5.0",
          "state": {
            "_dom_classes": [],
            "_model_module": "@jupyter-widgets/controls",
            "_model_module_version": "1.5.0",
            "_model_name": "FloatProgressModel",
            "_view_count": null,
            "_view_module": "@jupyter-widgets/controls",
            "_view_module_version": "1.5.0",
            "_view_name": "ProgressView",
            "bar_style": "success",
            "description": "",
            "description_tooltip": null,
            "layout": "IPY_MODEL_10017c53e05d4cd3af1cde38737061e1",
            "max": 440449768,
            "min": 0,
            "orientation": "horizontal",
            "style": "IPY_MODEL_6292efc744eb42e3af32a629ac3a38c4",
            "value": 440449768
          }
        },
        "1daa0a6aa9d948c29fb5903b0f02825e": {
          "model_module": "@jupyter-widgets/controls",
          "model_name": "HTMLModel",
          "model_module_version": "1.5.0",
          "state": {
            "_dom_classes": [],
            "_model_module": "@jupyter-widgets/controls",
            "_model_module_version": "1.5.0",
            "_model_name": "HTMLModel",
            "_view_count": null,
            "_view_module": "@jupyter-widgets/controls",
            "_view_module_version": "1.5.0",
            "_view_name": "HTMLView",
            "description": "",
            "description_tooltip": null,
            "layout": "IPY_MODEL_dcbb207f34164012a4137e50daa69fa5",
            "placeholder": "​",
            "style": "IPY_MODEL_9ffa3f2ab76c4c6989bf24767074ba76",
            "value": " 440M/440M [00:13&lt;00:00, 44.2MB/s]"
          }
        },
        "935e9a0600a54af38fa57248fd0add19": {
          "model_module": "@jupyter-widgets/base",
          "model_name": "LayoutModel",
          "model_module_version": "1.2.0",
          "state": {
            "_model_module": "@jupyter-widgets/base",
            "_model_module_version": "1.2.0",
            "_model_name": "LayoutModel",
            "_view_count": null,
            "_view_module": "@jupyter-widgets/base",
            "_view_module_version": "1.2.0",
            "_view_name": "LayoutView",
            "align_content": null,
            "align_items": null,
            "align_self": null,
            "border": null,
            "bottom": null,
            "display": null,
            "flex": null,
            "flex_flow": null,
            "grid_area": null,
            "grid_auto_columns": null,
            "grid_auto_flow": null,
            "grid_auto_rows": null,
            "grid_column": null,
            "grid_gap": null,
            "grid_row": null,
            "grid_template_areas": null,
            "grid_template_columns": null,
            "grid_template_rows": null,
            "height": null,
            "justify_content": null,
            "justify_items": null,
            "left": null,
            "margin": null,
            "max_height": null,
            "max_width": null,
            "min_height": null,
            "min_width": null,
            "object_fit": null,
            "object_position": null,
            "order": null,
            "overflow": null,
            "overflow_x": null,
            "overflow_y": null,
            "padding": null,
            "right": null,
            "top": null,
            "visibility": null,
            "width": null
          }
        },
        "c98eb6424a2f4be5ba43f1ed5adc64bb": {
          "model_module": "@jupyter-widgets/base",
          "model_name": "LayoutModel",
          "model_module_version": "1.2.0",
          "state": {
            "_model_module": "@jupyter-widgets/base",
            "_model_module_version": "1.2.0",
            "_model_name": "LayoutModel",
            "_view_count": null,
            "_view_module": "@jupyter-widgets/base",
            "_view_module_version": "1.2.0",
            "_view_name": "LayoutView",
            "align_content": null,
            "align_items": null,
            "align_self": null,
            "border": null,
            "bottom": null,
            "display": null,
            "flex": null,
            "flex_flow": null,
            "grid_area": null,
            "grid_auto_columns": null,
            "grid_auto_flow": null,
            "grid_auto_rows": null,
            "grid_column": null,
            "grid_gap": null,
            "grid_row": null,
            "grid_template_areas": null,
            "grid_template_columns": null,
            "grid_template_rows": null,
            "height": null,
            "justify_content": null,
            "justify_items": null,
            "left": null,
            "margin": null,
            "max_height": null,
            "max_width": null,
            "min_height": null,
            "min_width": null,
            "object_fit": null,
            "object_position": null,
            "order": null,
            "overflow": null,
            "overflow_x": null,
            "overflow_y": null,
            "padding": null,
            "right": null,
            "top": null,
            "visibility": null,
            "width": null
          }
        },
        "8e2f81ea5b8145ee8d592f7bafcdeb1e": {
          "model_module": "@jupyter-widgets/controls",
          "model_name": "DescriptionStyleModel",
          "model_module_version": "1.5.0",
          "state": {
            "_model_module": "@jupyter-widgets/controls",
            "_model_module_version": "1.5.0",
            "_model_name": "DescriptionStyleModel",
            "_view_count": null,
            "_view_module": "@jupyter-widgets/base",
            "_view_module_version": "1.2.0",
            "_view_name": "StyleView",
            "description_width": ""
          }
        },
        "10017c53e05d4cd3af1cde38737061e1": {
          "model_module": "@jupyter-widgets/base",
          "model_name": "LayoutModel",
          "model_module_version": "1.2.0",
          "state": {
            "_model_module": "@jupyter-widgets/base",
            "_model_module_version": "1.2.0",
            "_model_name": "LayoutModel",
            "_view_count": null,
            "_view_module": "@jupyter-widgets/base",
            "_view_module_version": "1.2.0",
            "_view_name": "LayoutView",
            "align_content": null,
            "align_items": null,
            "align_self": null,
            "border": null,
            "bottom": null,
            "display": null,
            "flex": null,
            "flex_flow": null,
            "grid_area": null,
            "grid_auto_columns": null,
            "grid_auto_flow": null,
            "grid_auto_rows": null,
            "grid_column": null,
            "grid_gap": null,
            "grid_row": null,
            "grid_template_areas": null,
            "grid_template_columns": null,
            "grid_template_rows": null,
            "height": null,
            "justify_content": null,
            "justify_items": null,
            "left": null,
            "margin": null,
            "max_height": null,
            "max_width": null,
            "min_height": null,
            "min_width": null,
            "object_fit": null,
            "object_position": null,
            "order": null,
            "overflow": null,
            "overflow_x": null,
            "overflow_y": null,
            "padding": null,
            "right": null,
            "top": null,
            "visibility": null,
            "width": null
          }
        },
        "6292efc744eb42e3af32a629ac3a38c4": {
          "model_module": "@jupyter-widgets/controls",
          "model_name": "ProgressStyleModel",
          "model_module_version": "1.5.0",
          "state": {
            "_model_module": "@jupyter-widgets/controls",
            "_model_module_version": "1.5.0",
            "_model_name": "ProgressStyleModel",
            "_view_count": null,
            "_view_module": "@jupyter-widgets/base",
            "_view_module_version": "1.2.0",
            "_view_name": "StyleView",
            "bar_color": null,
            "description_width": ""
          }
        },
        "dcbb207f34164012a4137e50daa69fa5": {
          "model_module": "@jupyter-widgets/base",
          "model_name": "LayoutModel",
          "model_module_version": "1.2.0",
          "state": {
            "_model_module": "@jupyter-widgets/base",
            "_model_module_version": "1.2.0",
            "_model_name": "LayoutModel",
            "_view_count": null,
            "_view_module": "@jupyter-widgets/base",
            "_view_module_version": "1.2.0",
            "_view_name": "LayoutView",
            "align_content": null,
            "align_items": null,
            "align_self": null,
            "border": null,
            "bottom": null,
            "display": null,
            "flex": null,
            "flex_flow": null,
            "grid_area": null,
            "grid_auto_columns": null,
            "grid_auto_flow": null,
            "grid_auto_rows": null,
            "grid_column": null,
            "grid_gap": null,
            "grid_row": null,
            "grid_template_areas": null,
            "grid_template_columns": null,
            "grid_template_rows": null,
            "height": null,
            "justify_content": null,
            "justify_items": null,
            "left": null,
            "margin": null,
            "max_height": null,
            "max_width": null,
            "min_height": null,
            "min_width": null,
            "object_fit": null,
            "object_position": null,
            "order": null,
            "overflow": null,
            "overflow_x": null,
            "overflow_y": null,
            "padding": null,
            "right": null,
            "top": null,
            "visibility": null,
            "width": null
          }
        },
        "9ffa3f2ab76c4c6989bf24767074ba76": {
          "model_module": "@jupyter-widgets/controls",
          "model_name": "DescriptionStyleModel",
          "model_module_version": "1.5.0",
          "state": {
            "_model_module": "@jupyter-widgets/controls",
            "_model_module_version": "1.5.0",
            "_model_name": "DescriptionStyleModel",
            "_view_count": null,
            "_view_module": "@jupyter-widgets/base",
            "_view_module_version": "1.2.0",
            "_view_name": "StyleView",
            "description_width": ""
          }
        }
      }
    }
  },
  "cells": [
    {
      "cell_type": "markdown",
      "metadata": {
        "id": "view-in-github",
        "colab_type": "text"
      },
      "source": [
        "<a href=\"https://colab.research.google.com/github/Piramu-Mahalingam/DS-Course-Assignment-1/blob/main/Piramu%20M%20Assignment%20RNN-NLP.ipynb\" target=\"_parent\"><img src=\"https://colab.research.google.com/assets/colab-badge.svg\" alt=\"Open In Colab\"/></a>"
      ]
    },
    {
      "cell_type": "code",
      "execution_count": null,
      "metadata": {
        "id": "V2p22FVp3NsM"
      },
      "outputs": [],
      "source": [
        "#Piramu M Assignment NLP-RNN\n",
        "#a)\tExplain the architecture of LSTM and GRU in detail. What were the shortcomings of RNN that were resolved by LSTM and GRU"
      ]
    },
    {
      "cell_type": "markdown",
      "source": [
        "1. Background: RNN and its Shortcomings\n",
        "\n",
        "Recurrent Neural Networks (RNNs) are designed to handle sequential data by maintaining a hidden state that captures information from previous time steps.\n",
        "\n",
        "Equation (vanilla RNN):![image.png](data:image/png;base64,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)"
      ],
      "metadata": {
        "id": "SPHmpz5R3cqL"
      }
    },
    {
      "cell_type": "markdown",
      "source": [
        "Shortcomings of RNNs:\n",
        "\n",
        "Vanishing Gradient Problem – When training with backpropagation through time (BPTT), gradients shrink exponentially, making it hard to learn long-term dependencies.\n",
        "\n",
        "Exploding Gradient Problem – Sometimes gradients blow up, causing unstable training.\n",
        "\n",
        "Short-term Memory – RNNs mostly capture short dependencies but fail for long sequences (e.g., remembering context 50+ steps earlier).\n",
        "\n",
        "Slow Training – Difficulty in optimization due to gradient issues."
      ],
      "metadata": {
        "id": "8hEemSe44jQa"
      }
    },
    {
      "cell_type": "markdown",
      "source": [
        "LSTM Architecture (Long Short-Term Memory)\n",
        "\n",
        "An LSTM cell introduces a cell state and three gates to regulate information.\n",
        "\n",
        "Key Components:\n",
        "\n",
        "Cell State (Ct) Acts like a conveyor belt, carrying long-term information with minimal modification.\n",
        "\n",
        "Hidden State (ht) Used for current step output.\n",
        "\n",
        "Gates (sigmoid layers that output 0–1, controlling information flow):\n",
        "\n",
        "Forget Gate (ft) → Decides what to discard.\n",
        "\n",
        "Input Gate (it) → Decides what new info to store.\n",
        "\n",
        "Output Gate (ot) → Decides what to output."
      ],
      "metadata": {
        "id": "8LJwUg2b4lpo"
      }
    },
    {
      "cell_type": "markdown",
      "source": [
        "low:\n",
        "\n",
        "Forget Gate: drops irrelevant info.\n",
        "\n",
        "Input Gate + Candidate: adds new relevant info.\n",
        "\n",
        "Output Gate: decides the final output.\n",
        "\n",
        "This structure preserves long-term dependencies and avoids vanishing gradients."
      ],
      "metadata": {
        "id": "9HXWfpd45Edc"
      }
    },
    {
      "cell_type": "markdown",
      "source": [
        "GRU Architecture (Gated Recurrent Unit)\n",
        "\n",
        "GRU is a simplified version of LSTM – it merges cell state & hidden state into one (ht) and uses only two gates.\n",
        "\n",
        "Key Components:\n",
        "\n",
        "Update Gate (zt) – Combines role of input + forget gate.\n",
        "\n",
        "Reset Gate (rt) – Decides how much past info to forget."
      ],
      "metadata": {
        "id": "1U_OIDtL5JKf"
      }
    },
    {
      "cell_type": "markdown",
      "source": [
        "low:\n",
        "\n",
        "Reset Gate: decides how much past to ignore.\n",
        "\n",
        "Update Gate: decides how much of new vs old info to keep.\n",
        "\n",
        "GRU is computationally lighter and trains faster than LSTM while still solving RNN shortcomings."
      ],
      "metadata": {
        "id": "hqaBOaSC5YUr"
      }
    },
    {
      "cell_type": "markdown",
      "source": [
        "#b)\tUse the emotions detection dataset from below Kaggle link and create an end-to-end project on Jupyter/Colab to predict the person’s emotions.\n",
        "\n",
        "https://www.kaggle.com/datasets/praveengovi/emotions-dataset-for-nlp/data\n"
      ],
      "metadata": {
        "id": "ObUEl2oZ5dZ9"
      }
    },
    {
      "cell_type": "code",
      "source": [
        "#i.\tDownload the dataset from above link and load it in your Python environment\n",
        "import zipfile, os\n",
        "\n",
        "# Path to uploaded file\n",
        "zip_path = \"/content/archive.zip\"\n",
        "extract_dir = \"/content/emotions_dataset\"\n",
        "\n",
        "# Extract zip\n",
        "with zipfile.ZipFile(zip_path, 'r') as z:\n",
        "    z.extractall(extract_dir)\n",
        "\n",
        "# List extracted files\n",
        "os.listdir(extract_dir)\n"
      ],
      "metadata": {
        "colab": {
          "base_uri": "https://localhost:8080/"
        },
        "id": "sHLMLkzE5lLF",
        "outputId": "874c67e0-afc9-44f7-f630-ae1f64248055"
      },
      "execution_count": 1,
      "outputs": [
        {
          "output_type": "execute_result",
          "data": {
            "text/plain": [
              "['val.txt', 'train.txt', 'test.txt']"
            ]
          },
          "metadata": {},
          "execution_count": 1
        }
      ]
    },
    {
      "cell_type": "code",
      "source": [
        "#i.\tDownload the dataset from above link and load it in your Python environment\n",
        "import pandas as pd\n",
        "\n",
        "# Define paths\n",
        "train_path = os.path.join(extract_dir, \"train.txt\")\n",
        "val_path = os.path.join(extract_dir, \"val.txt\")\n",
        "test_path = os.path.join(extract_dir, \"test.txt\")\n",
        "\n",
        "# Load function\n",
        "def load_emotions_file(path):\n",
        "    return pd.read_csv(path, sep=\";\", header=None, names=[\"text\", \"emotion\"], encoding=\"utf-8\")\n",
        "\n",
        "# Load datasets\n",
        "train_df = load_emotions_file(train_path)\n",
        "val_df = load_emotions_file(val_path)\n",
        "test_df = load_emotions_file(test_path)\n",
        "\n",
        "(train_df.shape, val_df.shape, test_df.shape)\n"
      ],
      "metadata": {
        "colab": {
          "base_uri": "https://localhost:8080/"
        },
        "id": "mjdLrxVNryhD",
        "outputId": "02188a03-10e3-4b58-de8c-80efeafde453"
      },
      "execution_count": 2,
      "outputs": [
        {
          "output_type": "execute_result",
          "data": {
            "text/plain": [
              "((16000, 2), (2000, 2), (2000, 2))"
            ]
          },
          "metadata": {},
          "execution_count": 2
        }
      ]
    },
    {
      "cell_type": "code",
      "source": [
        "#ii.    Perform the data cleaning like stopwords removal, lowercase, stemming, lemmatization etc.\n",
        "import re\n",
        "import nltk\n",
        "\n",
        "# Download resources (only once, safe check)\n",
        "nltk.download('punkt')\n",
        "nltk.download('stopwords')\n",
        "nltk.download('wordnet')\n",
        "nltk.download('punkt_tab') # Added this line to download the missing resource\n",
        "\n",
        "\n",
        "from nltk.corpus import stopwords\n",
        "from nltk.stem import PorterStemmer, WordNetLemmatizer\n",
        "\n",
        "# Initialize tools\n",
        "stop_words = set(stopwords.words('english'))\n",
        "stemmer = PorterStemmer()\n",
        "lemmatizer = WordNetLemmatizer()\n",
        "\n",
        "def clean_text(text):\n",
        "    # Lowercase\n",
        "    text = text.lower()\n",
        "    # Remove URLs, mentions, special chars\n",
        "    text = re.sub(r\"http\\S+|www\\S+|https\\S+\", '', text)\n",
        "    text = re.sub(r\"@\\w+|#\", '', text)\n",
        "    text = re.sub(r\"[^a-z\\s]\", '', text)\n",
        "    # Tokenize\n",
        "    tokens = nltk.word_tokenize(text)\n",
        "    # Remove stopwords\n",
        "    tokens = [w for w in tokens if w not in stop_words]\n",
        "    # Stemming + Lemmatization\n",
        "    tokens = [stemmer.stem(w) for w in tokens]\n",
        "    tokens = [lemmatizer.lemmatize(w) for w in tokens]\n",
        "    return \" \".join(tokens)\n",
        "\n",
        "# Apply cleaning to train, val, and test datasets\n",
        "train_df[\"clean_text\"] = train_df[\"text\"].apply(clean_text)\n",
        "val_df[\"clean_text\"] = val_df[\"text\"].apply(clean_text)\n",
        "test_df[\"clean_text\"] = test_df[\"text\"].apply(clean_text)\n",
        "\n",
        "# Show samples\n",
        "train_df.head()"
      ],
      "metadata": {
        "colab": {
          "base_uri": "https://localhost:8080/",
          "height": 345
        },
        "id": "Dgt43zIps8WO",
        "outputId": "8dc94f0a-311c-4cb6-a8da-19075cae63b8"
      },
      "execution_count": 3,
      "outputs": [
        {
          "output_type": "stream",
          "name": "stderr",
          "text": [
            "[nltk_data] Downloading package punkt to /root/nltk_data...\n",
            "[nltk_data]   Package punkt is already up-to-date!\n",
            "[nltk_data] Downloading package stopwords to /root/nltk_data...\n",
            "[nltk_data]   Package stopwords is already up-to-date!\n",
            "[nltk_data] Downloading package wordnet to /root/nltk_data...\n",
            "[nltk_data]   Package wordnet is already up-to-date!\n",
            "[nltk_data] Downloading package punkt_tab to /root/nltk_data...\n",
            "[nltk_data]   Package punkt_tab is already up-to-date!\n"
          ]
        },
        {
          "output_type": "execute_result",
          "data": {
            "text/plain": [
              "                                                text  emotion  \\\n",
              "0                            i didnt feel humiliated  sadness   \n",
              "1  i can go from feeling so hopeless to so damned...  sadness   \n",
              "2   im grabbing a minute to post i feel greedy wrong    anger   \n",
              "3  i am ever feeling nostalgic about the fireplac...     love   \n",
              "4                               i am feeling grouchy    anger   \n",
              "\n",
              "                                          clean_text  \n",
              "0                                  didnt feel humili  \n",
              "1  go feel hopeless damn hope around someon care ...  \n",
              "2               im grab minut post feel greedi wrong  \n",
              "3     ever feel nostalg fireplac know still properti  \n",
              "4                                       feel grouchi  "
            ],
            "text/html": [
              "\n",
              "  <div id=\"df-2c8399f4-3597-4532-b696-3e887f67ec91\" class=\"colab-df-container\">\n",
              "    <div>\n",
              "<style scoped>\n",
              "    .dataframe tbody tr th:only-of-type {\n",
              "        vertical-align: middle;\n",
              "    }\n",
              "\n",
              "    .dataframe tbody tr th {\n",
              "        vertical-align: top;\n",
              "    }\n",
              "\n",
              "    .dataframe thead th {\n",
              "        text-align: right;\n",
              "    }\n",
              "</style>\n",
              "<table border=\"1\" class=\"dataframe\">\n",
              "  <thead>\n",
              "    <tr style=\"text-align: right;\">\n",
              "      <th></th>\n",
              "      <th>text</th>\n",
              "      <th>emotion</th>\n",
              "      <th>clean_text</th>\n",
              "    </tr>\n",
              "  </thead>\n",
              "  <tbody>\n",
              "    <tr>\n",
              "      <th>0</th>\n",
              "      <td>i didnt feel humiliated</td>\n",
              "      <td>sadness</td>\n",
              "      <td>didnt feel humili</td>\n",
              "    </tr>\n",
              "    <tr>\n",
              "      <th>1</th>\n",
              "      <td>i can go from feeling so hopeless to so damned...</td>\n",
              "      <td>sadness</td>\n",
              "      <td>go feel hopeless damn hope around someon care ...</td>\n",
              "    </tr>\n",
              "    <tr>\n",
              "      <th>2</th>\n",
              "      <td>im grabbing a minute to post i feel greedy wrong</td>\n",
              "      <td>anger</td>\n",
              "      <td>im grab minut post feel greedi wrong</td>\n",
              "    </tr>\n",
              "    <tr>\n",
              "      <th>3</th>\n",
              "      <td>i am ever feeling nostalgic about the fireplac...</td>\n",
              "      <td>love</td>\n",
              "      <td>ever feel nostalg fireplac know still properti</td>\n",
              "    </tr>\n",
              "    <tr>\n",
              "      <th>4</th>\n",
              "      <td>i am feeling grouchy</td>\n",
              "      <td>anger</td>\n",
              "      <td>feel grouchi</td>\n",
              "    </tr>\n",
              "  </tbody>\n",
              "</table>\n",
              "</div>\n",
              "    <div class=\"colab-df-buttons\">\n",
              "\n",
              "  <div class=\"colab-df-container\">\n",
              "    <button class=\"colab-df-convert\" onclick=\"convertToInteractive('df-2c8399f4-3597-4532-b696-3e887f67ec91')\"\n",
              "            title=\"Convert this dataframe to an interactive table.\"\n",
              "            style=\"display:none;\">\n",
              "\n",
              "  <svg xmlns=\"http://www.w3.org/2000/svg\" height=\"24px\" viewBox=\"0 -960 960 960\">\n",
              "    <path d=\"M120-120v-720h720v720H120Zm60-500h600v-160H180v160Zm220 220h160v-160H400v160Zm0 220h160v-160H400v160ZM180-400h160v-160H180v160Zm440 0h160v-160H620v160ZM180-180h160v-160H180v160Zm440 0h160v-160H620v160Z\"/>\n",
              "  </svg>\n",
              "    </button>\n",
              "\n",
              "  <style>\n",
              "    .colab-df-container {\n",
              "      display:flex;\n",
              "      gap: 12px;\n",
              "    }\n",
              "\n",
              "    .colab-df-convert {\n",
              "      background-color: #E8F0FE;\n",
              "      border: none;\n",
              "      border-radius: 50%;\n",
              "      cursor: pointer;\n",
              "      display: none;\n",
              "      fill: #1967D2;\n",
              "      height: 32px;\n",
              "      padding: 0 0 0 0;\n",
              "      width: 32px;\n",
              "    }\n",
              "\n",
              "    .colab-df-convert:hover {\n",
              "      background-color: #E2EBFA;\n",
              "      box-shadow: 0px 1px 2px rgba(60, 64, 67, 0.3), 0px 1px 3px 1px rgba(60, 64, 67, 0.15);\n",
              "      fill: #174EA6;\n",
              "    }\n",
              "\n",
              "    .colab-df-buttons div {\n",
              "      margin-bottom: 4px;\n",
              "    }\n",
              "\n",
              "    [theme=dark] .colab-df-convert {\n",
              "      background-color: #3B4455;\n",
              "      fill: #D2E3FC;\n",
              "    }\n",
              "\n",
              "    [theme=dark] .colab-df-convert:hover {\n",
              "      background-color: #434B5C;\n",
              "      box-shadow: 0px 1px 3px 1px rgba(0, 0, 0, 0.15);\n",
              "      filter: drop-shadow(0px 1px 2px rgba(0, 0, 0, 0.3));\n",
              "      fill: #FFFFFF;\n",
              "    }\n",
              "  </style>\n",
              "\n",
              "    <script>\n",
              "      const buttonEl =\n",
              "        document.querySelector('#df-2c8399f4-3597-4532-b696-3e887f67ec91 button.colab-df-convert');\n",
              "      buttonEl.style.display =\n",
              "        google.colab.kernel.accessAllowed ? 'block' : 'none';\n",
              "\n",
              "      async function convertToInteractive(key) {\n",
              "        const element = document.querySelector('#df-2c8399f4-3597-4532-b696-3e887f67ec91');\n",
              "        const dataTable =\n",
              "          await google.colab.kernel.invokeFunction('convertToInteractive',\n",
              "                                                    [key], {});\n",
              "        if (!dataTable) return;\n",
              "\n",
              "        const docLinkHtml = 'Like what you see? Visit the ' +\n",
              "          '<a target=\"_blank\" href=https://colab.research.google.com/notebooks/data_table.ipynb>data table notebook</a>'\n",
              "          + ' to learn more about interactive tables.';\n",
              "        element.innerHTML = '';\n",
              "        dataTable['output_type'] = 'display_data';\n",
              "        await google.colab.output.renderOutput(dataTable, element);\n",
              "        const docLink = document.createElement('div');\n",
              "        docLink.innerHTML = docLinkHtml;\n",
              "        element.appendChild(docLink);\n",
              "      }\n",
              "    </script>\n",
              "  </div>\n",
              "\n",
              "\n",
              "    <div id=\"df-68bb11fa-f305-4654-9391-fb15f61bee90\">\n",
              "      <button class=\"colab-df-quickchart\" onclick=\"quickchart('df-68bb11fa-f305-4654-9391-fb15f61bee90')\"\n",
              "                title=\"Suggest charts\"\n",
              "                style=\"display:none;\">\n",
              "\n",
              "<svg xmlns=\"http://www.w3.org/2000/svg\" height=\"24px\"viewBox=\"0 0 24 24\"\n",
              "     width=\"24px\">\n",
              "    <g>\n",
              "        <path d=\"M19 3H5c-1.1 0-2 .9-2 2v14c0 1.1.9 2 2 2h14c1.1 0 2-.9 2-2V5c0-1.1-.9-2-2-2zM9 17H7v-7h2v7zm4 0h-2V7h2v10zm4 0h-2v-4h2v4z\"/>\n",
              "    </g>\n",
              "</svg>\n",
              "      </button>\n",
              "\n",
              "<style>\n",
              "  .colab-df-quickchart {\n",
              "      --bg-color: #E8F0FE;\n",
              "      --fill-color: #1967D2;\n",
              "      --hover-bg-color: #E2EBFA;\n",
              "      --hover-fill-color: #174EA6;\n",
              "      --disabled-fill-color: #AAA;\n",
              "      --disabled-bg-color: #DDD;\n",
              "  }\n",
              "\n",
              "  [theme=dark] .colab-df-quickchart {\n",
              "      --bg-color: #3B4455;\n",
              "      --fill-color: #D2E3FC;\n",
              "      --hover-bg-color: #434B5C;\n",
              "      --hover-fill-color: #FFFFFF;\n",
              "      --disabled-bg-color: #3B4455;\n",
              "      --disabled-fill-color: #666;\n",
              "  }\n",
              "\n",
              "  .colab-df-quickchart {\n",
              "    background-color: var(--bg-color);\n",
              "    border: none;\n",
              "    border-radius: 50%;\n",
              "    cursor: pointer;\n",
              "    display: none;\n",
              "    fill: var(--fill-color);\n",
              "    height: 32px;\n",
              "    padding: 0;\n",
              "    width: 32px;\n",
              "  }\n",
              "\n",
              "  .colab-df-quickchart:hover {\n",
              "    background-color: var(--hover-bg-color);\n",
              "    box-shadow: 0 1px 2px rgba(60, 64, 67, 0.3), 0 1px 3px 1px rgba(60, 64, 67, 0.15);\n",
              "    fill: var(--button-hover-fill-color);\n",
              "  }\n",
              "\n",
              "  .colab-df-quickchart-complete:disabled,\n",
              "  .colab-df-quickchart-complete:disabled:hover {\n",
              "    background-color: var(--disabled-bg-color);\n",
              "    fill: var(--disabled-fill-color);\n",
              "    box-shadow: none;\n",
              "  }\n",
              "\n",
              "  .colab-df-spinner {\n",
              "    border: 2px solid var(--fill-color);\n",
              "    border-color: transparent;\n",
              "    border-bottom-color: var(--fill-color);\n",
              "    animation:\n",
              "      spin 1s steps(1) infinite;\n",
              "  }\n",
              "\n",
              "  @keyframes spin {\n",
              "    0% {\n",
              "      border-color: transparent;\n",
              "      border-bottom-color: var(--fill-color);\n",
              "      border-left-color: var(--fill-color);\n",
              "    }\n",
              "    20% {\n",
              "      border-color: transparent;\n",
              "      border-left-color: var(--fill-color);\n",
              "      border-top-color: var(--fill-color);\n",
              "    }\n",
              "    30% {\n",
              "      border-color: transparent;\n",
              "      border-left-color: var(--fill-color);\n",
              "      border-top-color: var(--fill-color);\n",
              "      border-right-color: var(--fill-color);\n",
              "    }\n",
              "    40% {\n",
              "      border-color: transparent;\n",
              "      border-right-color: var(--fill-color);\n",
              "      border-top-color: var(--fill-color);\n",
              "    }\n",
              "    60% {\n",
              "      border-color: transparent;\n",
              "      border-right-color: var(--fill-color);\n",
              "    }\n",
              "    80% {\n",
              "      border-color: transparent;\n",
              "      border-right-color: var(--fill-color);\n",
              "      border-bottom-color: var(--fill-color);\n",
              "    }\n",
              "    90% {\n",
              "      border-color: transparent;\n",
              "      border-bottom-color: var(--fill-color);\n",
              "    }\n",
              "  }\n",
              "</style>\n",
              "\n",
              "      <script>\n",
              "        async function quickchart(key) {\n",
              "          const quickchartButtonEl =\n",
              "            document.querySelector('#' + key + ' button');\n",
              "          quickchartButtonEl.disabled = true;  // To prevent multiple clicks.\n",
              "          quickchartButtonEl.classList.add('colab-df-spinner');\n",
              "          try {\n",
              "            const charts = await google.colab.kernel.invokeFunction(\n",
              "                'suggestCharts', [key], {});\n",
              "          } catch (error) {\n",
              "            console.error('Error during call to suggestCharts:', error);\n",
              "          }\n",
              "          quickchartButtonEl.classList.remove('colab-df-spinner');\n",
              "          quickchartButtonEl.classList.add('colab-df-quickchart-complete');\n",
              "        }\n",
              "        (() => {\n",
              "          let quickchartButtonEl =\n",
              "            document.querySelector('#df-68bb11fa-f305-4654-9391-fb15f61bee90 button');\n",
              "          quickchartButtonEl.style.display =\n",
              "            google.colab.kernel.accessAllowed ? 'block' : 'none';\n",
              "        })();\n",
              "      </script>\n",
              "    </div>\n",
              "\n",
              "    </div>\n",
              "  </div>\n"
            ],
            "application/vnd.google.colaboratory.intrinsic+json": {
              "type": "dataframe",
              "variable_name": "train_df",
              "summary": "{\n  \"name\": \"train_df\",\n  \"rows\": 16000,\n  \"fields\": [\n    {\n      \"column\": \"text\",\n      \"properties\": {\n        \"dtype\": \"string\",\n        \"num_unique_values\": 15969,\n        \"samples\": [\n          \"i feel rather imbicilic or at least complacent\",\n          \"i was in the bathroom i had sat down to pee it was to make me feel submissive again per instructions\",\n          \"i am thrilled with the way my skin and hair feel if you are like me you are skeptical\"\n        ],\n        \"semantic_type\": \"\",\n        \"description\": \"\"\n      }\n    },\n    {\n      \"column\": \"emotion\",\n      \"properties\": {\n        \"dtype\": \"category\",\n        \"num_unique_values\": 6,\n        \"samples\": [\n          \"sadness\",\n          \"anger\",\n          \"joy\"\n        ],\n        \"semantic_type\": \"\",\n        \"description\": \"\"\n      }\n    },\n    {\n      \"column\": \"clean_text\",\n      \"properties\": {\n        \"dtype\": \"string\",\n        \"num_unique_values\": 15854,\n        \"samples\": [\n          \"feel honor show student excit giardina said\",\n          \"stop feel lousi\",\n          \"realli badli wear anyth without caus spasm diarrhea eat mouth feel miser\"\n        ],\n        \"semantic_type\": \"\",\n        \"description\": \"\"\n      }\n    }\n  ]\n}"
            }
          },
          "metadata": {},
          "execution_count": 3
        }
      ]
    },
    {
      "cell_type": "code",
      "source": [
        "#iii.\tPerform feature engineering and word embedding techniques like TFIDF, word2Vec, Bag of words etc\n",
        "#Bag of Words\n",
        "from sklearn.feature_extraction.text import CountVectorizer\n",
        "\n",
        "bow_vectorizer = CountVectorizer(max_features=5000)  # choose vocabulary size\n",
        "X_train_bow = bow_vectorizer.fit_transform(train_df[\"clean_text\"])\n",
        "X_val_bow   = bow_vectorizer.transform(val_df[\"clean_text\"])\n",
        "X_test_bow  = bow_vectorizer.transform(test_df[\"clean_text\"])\n"
      ],
      "metadata": {
        "id": "IsCgmE7ctxT9"
      },
      "execution_count": 4,
      "outputs": []
    },
    {
      "cell_type": "code",
      "source": [
        "#TFIDF\n",
        "from sklearn.feature_extraction.text import TfidfVectorizer\n",
        "\n",
        "tfidf_vectorizer = TfidfVectorizer(max_features=5000, ngram_range=(1,2))\n",
        "X_train_tfidf = tfidf_vectorizer.fit_transform(train_df[\"clean_text\"])\n",
        "X_val_tfidf   = tfidf_vectorizer.transform(val_df[\"clean_text\"])\n",
        "X_test_tfidf  = tfidf_vectorizer.transform(test_df[\"clean_text\"])\n"
      ],
      "metadata": {
        "id": "5918DeJzuLhb"
      },
      "execution_count": 5,
      "outputs": []
    },
    {
      "cell_type": "code",
      "metadata": {
        "colab": {
          "base_uri": "https://localhost:8080/",
          "height": 773
        },
        "id": "412bad86",
        "outputId": "9f5a30c6-e613-46b6-f9ed-84a1102115ef"
      },
      "source": [
        "!pip install --upgrade numpy gensim"
      ],
      "execution_count": 8,
      "outputs": [
        {
          "output_type": "stream",
          "name": "stdout",
          "text": [
            "Requirement already satisfied: numpy in /usr/local/lib/python3.12/dist-packages (2.3.3)\n",
            "Requirement already satisfied: gensim in /usr/local/lib/python3.12/dist-packages (4.3.2)\n",
            "Collecting gensim\n",
            "  Downloading gensim-4.3.3-cp312-cp312-manylinux_2_17_x86_64.manylinux2014_x86_64.whl.metadata (8.1 kB)\n",
            "Collecting numpy\n",
            "  Downloading numpy-1.26.4-cp312-cp312-manylinux_2_17_x86_64.manylinux2014_x86_64.whl.metadata (61 kB)\n",
            "\u001b[2K     \u001b[90m━━━━━━━━━━━━━━━━━━━━━━━━━━━━━━━━━━━━━━━━\u001b[0m \u001b[32m61.0/61.0 kB\u001b[0m \u001b[31m1.9 MB/s\u001b[0m eta \u001b[36m0:00:00\u001b[0m\n",
            "\u001b[?25hCollecting scipy<1.14.0,>=1.7.0 (from gensim)\n",
            "  Downloading scipy-1.13.1-cp312-cp312-manylinux_2_17_x86_64.manylinux2014_x86_64.whl.metadata (60 kB)\n",
            "\u001b[2K     \u001b[90m━━━━━━━━━━━━━━━━━━━━━━━━━━━━━━━━━━━━━━━━\u001b[0m \u001b[32m60.6/60.6 kB\u001b[0m \u001b[31m3.9 MB/s\u001b[0m eta \u001b[36m0:00:00\u001b[0m\n",
            "\u001b[?25hRequirement already satisfied: smart-open>=1.8.1 in /usr/local/lib/python3.12/dist-packages (from gensim) (7.3.1)\n",
            "Requirement already satisfied: wrapt in /usr/local/lib/python3.12/dist-packages (from smart-open>=1.8.1->gensim) (1.17.3)\n",
            "Downloading gensim-4.3.3-cp312-cp312-manylinux_2_17_x86_64.manylinux2014_x86_64.whl (26.6 MB)\n",
            "\u001b[2K   \u001b[90m━━━━━━━━━━━━━━━━━━━━━━━━━━━━━━━━━━━━━━━━\u001b[0m \u001b[32m26.6/26.6 MB\u001b[0m \u001b[31m27.9 MB/s\u001b[0m eta \u001b[36m0:00:00\u001b[0m\n",
            "\u001b[?25hDownloading numpy-1.26.4-cp312-cp312-manylinux_2_17_x86_64.manylinux2014_x86_64.whl (18.0 MB)\n",
            "\u001b[2K   \u001b[90m━━━━━━━━━━━━━━━━━━━━━━━━━━━━━━━━━━━━━━━━\u001b[0m \u001b[32m18.0/18.0 MB\u001b[0m \u001b[31m39.2 MB/s\u001b[0m eta \u001b[36m0:00:00\u001b[0m\n",
            "\u001b[?25hDownloading scipy-1.13.1-cp312-cp312-manylinux_2_17_x86_64.manylinux2014_x86_64.whl (38.2 MB)\n",
            "\u001b[2K   \u001b[90m━━━━━━━━━━━━━━━━━━━━━━━━━━━━━━━━━━━━━━━━\u001b[0m \u001b[32m38.2/38.2 MB\u001b[0m \u001b[31m13.7 MB/s\u001b[0m eta \u001b[36m0:00:00\u001b[0m\n",
            "\u001b[?25hInstalling collected packages: numpy, scipy, gensim\n",
            "  Attempting uninstall: numpy\n",
            "    Found existing installation: numpy 2.3.3\n",
            "    Uninstalling numpy-2.3.3:\n",
            "      Successfully uninstalled numpy-2.3.3\n",
            "  Attempting uninstall: scipy\n",
            "    Found existing installation: scipy 1.16.1\n",
            "    Uninstalling scipy-1.16.1:\n",
            "      Successfully uninstalled scipy-1.16.1\n",
            "  Attempting uninstall: gensim\n",
            "    Found existing installation: gensim 4.3.2\n",
            "    Uninstalling gensim-4.3.2:\n",
            "      Successfully uninstalled gensim-4.3.2\n",
            "\u001b[31mERROR: pip's dependency resolver does not currently take into account all the packages that are installed. This behaviour is the source of the following dependency conflicts.\n",
            "thinc 8.3.6 requires numpy<3.0.0,>=2.0.0, but you have numpy 1.26.4 which is incompatible.\n",
            "opencv-python-headless 4.12.0.88 requires numpy<2.3.0,>=2; python_version >= \"3.9\", but you have numpy 1.26.4 which is incompatible.\n",
            "opencv-python 4.12.0.88 requires numpy<2.3.0,>=2; python_version >= \"3.9\", but you have numpy 1.26.4 which is incompatible.\n",
            "tsfresh 0.21.1 requires scipy>=1.14.0; python_version >= \"3.10\", but you have scipy 1.13.1 which is incompatible.\n",
            "opencv-contrib-python 4.12.0.88 requires numpy<2.3.0,>=2; python_version >= \"3.9\", but you have numpy 1.26.4 which is incompatible.\u001b[0m\u001b[31m\n",
            "\u001b[0mSuccessfully installed gensim-4.3.3 numpy-1.26.4 scipy-1.13.1\n"
          ]
        },
        {
          "output_type": "display_data",
          "data": {
            "application/vnd.colab-display-data+json": {
              "pip_warning": {
                "packages": [
                  "numpy",
                  "scipy"
                ]
              },
              "id": "708ae7ad77ca40dd9936f8c4c907b669"
            }
          },
          "metadata": {}
        }
      ]
    },
    {
      "cell_type": "code",
      "source": [
        "!pip uninstall -y gensim\n",
        "!pip install --no-cache-dir gensim==4.3.2\n",
        "!pip install --upgrade --force-reinstall numpy\n"
      ],
      "metadata": {
        "colab": {
          "base_uri": "https://localhost:8080/",
          "height": 738
        },
        "id": "8oGWRDTR8WPB",
        "outputId": "0953e054-4cdd-49fc-aee1-ecaeb7af1fd3"
      },
      "execution_count": 15,
      "outputs": [
        {
          "output_type": "stream",
          "name": "stdout",
          "text": [
            "\u001b[33mWARNING: Skipping gensim as it is not installed.\u001b[0m\u001b[33m\n",
            "\u001b[0mCollecting gensim==4.3.2\n",
            "  Downloading gensim-4.3.2.tar.gz (23.3 MB)\n",
            "\u001b[2K     \u001b[90m━━━━━━━━━━━━━━━━━━━━━━━━━━━━━━━━━━━━━━━\u001b[0m \u001b[32m23.3/23.3 MB\u001b[0m \u001b[31m211.1 MB/s\u001b[0m eta \u001b[36m0:00:00\u001b[0m\n",
            "\u001b[?25h  Installing build dependencies ... \u001b[?25l\u001b[?25hdone\n",
            "  Getting requirements to build wheel ... \u001b[?25l\u001b[?25hdone\n",
            "  Preparing metadata (pyproject.toml) ... \u001b[?25l\u001b[?25hdone\n",
            "Requirement already satisfied: numpy>=1.18.5 in /usr/local/lib/python3.12/dist-packages (from gensim==4.3.2) (2.0.2)\n",
            "Requirement already satisfied: scipy>=1.7.0 in /usr/local/lib/python3.12/dist-packages (from gensim==4.3.2) (1.16.1)\n",
            "Requirement already satisfied: smart_open>=1.8.1 in /usr/local/lib/python3.12/dist-packages (from gensim==4.3.2) (7.3.1)\n",
            "Requirement already satisfied: wrapt in /usr/local/lib/python3.12/dist-packages (from smart_open>=1.8.1->gensim==4.3.2) (1.17.3)\n",
            "Building wheels for collected packages: gensim\n",
            "  Building wheel for gensim (pyproject.toml) ... \u001b[?25l\u001b[?25hdone\n",
            "  Created wheel for gensim: filename=gensim-4.3.2-cp312-cp312-linux_x86_64.whl size=26332396 sha256=acc3ec5535060b1da12389f51f305ff0cc0b671bc61af5c1ebf8972714d3e3d2\n",
            "  Stored in directory: /tmp/pip-ephem-wheel-cache-e40obkn1/wheels/50/c0/ac/7bb08954bc59d390c848b480a3fc5eec68c14bc77bf334d624\n",
            "Successfully built gensim\n",
            "Installing collected packages: gensim\n",
            "Successfully installed gensim-4.3.2\n",
            "Collecting numpy\n",
            "  Downloading numpy-2.3.3-cp312-cp312-manylinux_2_27_x86_64.manylinux_2_28_x86_64.whl.metadata (62 kB)\n",
            "\u001b[2K     \u001b[90m━━━━━━━━━━━━━━━━━━━━━━━━━━━━━━━━━━━━━━━━\u001b[0m \u001b[32m62.1/62.1 kB\u001b[0m \u001b[31m1.4 MB/s\u001b[0m eta \u001b[36m0:00:00\u001b[0m\n",
            "\u001b[?25hDownloading numpy-2.3.3-cp312-cp312-manylinux_2_27_x86_64.manylinux_2_28_x86_64.whl (16.6 MB)\n",
            "\u001b[2K   \u001b[90m━━━━━━━━━━━━━━━━━━━━━━━━━━━━━━━━━━━━━━━━\u001b[0m \u001b[32m16.6/16.6 MB\u001b[0m \u001b[31m36.4 MB/s\u001b[0m eta \u001b[36m0:00:00\u001b[0m\n",
            "\u001b[?25hInstalling collected packages: numpy\n",
            "  Attempting uninstall: numpy\n",
            "    Found existing installation: numpy 2.0.2\n",
            "    Uninstalling numpy-2.0.2:\n",
            "      Successfully uninstalled numpy-2.0.2\n",
            "\u001b[31mERROR: pip's dependency resolver does not currently take into account all the packages that are installed. This behaviour is the source of the following dependency conflicts.\n",
            "opencv-python-headless 4.12.0.88 requires numpy<2.3.0,>=2; python_version >= \"3.9\", but you have numpy 2.3.3 which is incompatible.\n",
            "numba 0.60.0 requires numpy<2.1,>=1.22, but you have numpy 2.3.3 which is incompatible.\n",
            "cupy-cuda12x 13.3.0 requires numpy<2.3,>=1.22, but you have numpy 2.3.3 which is incompatible.\n",
            "opencv-python 4.12.0.88 requires numpy<2.3.0,>=2; python_version >= \"3.9\", but you have numpy 2.3.3 which is incompatible.\n",
            "tensorflow 2.19.0 requires numpy<2.2.0,>=1.26.0, but you have numpy 2.3.3 which is incompatible.\n",
            "opencv-contrib-python 4.12.0.88 requires numpy<2.3.0,>=2; python_version >= \"3.9\", but you have numpy 2.3.3 which is incompatible.\u001b[0m\u001b[31m\n",
            "\u001b[0mSuccessfully installed numpy-2.3.3\n"
          ]
        },
        {
          "output_type": "display_data",
          "data": {
            "application/vnd.colab-display-data+json": {
              "pip_warning": {
                "packages": [
                  "numpy"
                ]
              },
              "id": "33c022f2be764505a8ed0341cf0f7e40"
            }
          },
          "metadata": {}
        }
      ]
    },
    {
      "cell_type": "code",
      "source": [
        "#Word2vec\n",
        "\n",
        "import numpy as np\n",
        "from gensim.models import Word2Vec\n",
        "from nltk.tokenize import word_tokenize\n",
        "\n",
        "# Train Word2Vec on our training data (can also load pre-trained embeddings)\n",
        "sentences = [word_tokenize(text) for text in train_df[\"clean_text\"]]\n",
        "w2v_model = Word2Vec(sentences, vector_size=100, window=5, min_count=2, workers=4)\n",
        "\n",
        "# Function to average word embeddings for a document\n",
        "def document_vector(doc):\n",
        "    words = [w for w in word_tokenize(doc) if w in w2v_model.wv]\n",
        "    if not words:\n",
        "        return np.zeros(100)\n",
        "    return np.mean(w2v_model.wv[words], axis=0)\n",
        "\n",
        "# Apply to train/val/test\n",
        "X_train_w2v = np.array([document_vector(text) for text in train_df[\"clean_text\"]])\n",
        "X_val_w2v   = np.array([document_vector(text) for text in val_df[\"clean_text\"]])\n",
        "X_test_w2v  = np.array([document_vector(text) for text in test_df[\"clean_text\"]])\n"
      ],
      "metadata": {
        "id": "Q-74GHla6xSq"
      },
      "execution_count": 6,
      "outputs": []
    },
    {
      "cell_type": "code",
      "source": [
        "#iv.    Use the ML algorithms like logistic reg, DT, random forest etc. to predict the emotions.\n",
        "#Encode the target labels\n",
        "from sklearn.preprocessing import LabelEncoder\n",
        "\n",
        "# Convert emotion labels to numeric\n",
        "le = LabelEncoder()\n",
        "y_train = le.fit_transform(train_df[\"emotion\"])\n",
        "y_val   = le.transform(val_df[\"emotion\"])\n",
        "y_test  = le.transform(test_df[\"emotion\"])\n",
        "\n",
        "\n",
        "#Train baseline ML models\n",
        "from sklearn.linear_model import LogisticRegression\n",
        "from sklearn.tree import DecisionTreeClassifier\n",
        "from sklearn.ensemble import RandomForestClassifier\n",
        "from sklearn.metrics import accuracy_score, classification_report\n",
        "\n",
        "# Dictionary to store results\n",
        "results = {}\n",
        "\n",
        "def evaluate_model(model, X_train, y_train, X_val, y_val, feature_name, model_name):\n",
        "    model.fit(X_train, y_train)\n",
        "    y_pred = model.predict(X_val)\n",
        "    acc = accuracy_score(y_val, y_pred)\n",
        "    results[f\"{model_name} ({feature_name})\"] = acc\n",
        "    print(f\"\\n{model_name} with {feature_name} features:\")\n",
        "    print(\"Accuracy:\", acc)\n",
        "    print(classification_report(y_val, y_pred, target_names=le.classes_))\n",
        "    return model\n",
        "\n",
        "# Logistic Regression with TF-IDF\n",
        "lr_tfidf = evaluate_model(\n",
        "    LogisticRegression(max_iter=200),\n",
        "    X_train_tfidf, y_train, X_val_tfidf, y_val,\n",
        "    \"TF-IDF\", \"Logistic Regression\"\n",
        ")\n",
        "\n",
        "# Decision Tree with TF-IDF\n",
        "dt_tfidf = evaluate_model(\n",
        "    DecisionTreeClassifier(),\n",
        "    X_train_tfidf, y_train, X_val_tfidf, y_val,\n",
        "    \"TF-IDF\", \"Decision Tree\"\n",
        ")\n",
        "\n",
        "# Random Forest with TF-IDF\n",
        "rf_tfidf = evaluate_model(\n",
        "    RandomForestClassifier(n_estimators=100),\n",
        "    X_train_tfidf, y_train, X_val_tfidf, y_val,\n",
        "    \"TF-IDF\", \"Random Forest\"\n",
        ")\n"
      ],
      "metadata": {
        "colab": {
          "base_uri": "https://localhost:8080/"
        },
        "id": "hv3-DKWiu04q",
        "outputId": "6cac3fbb-e5a2-48ed-e74a-8ac209381f06"
      },
      "execution_count": 7,
      "outputs": [
        {
          "output_type": "stream",
          "name": "stdout",
          "text": [
            "\n",
            "Logistic Regression with TF-IDF features:\n",
            "Accuracy: 0.8705\n",
            "              precision    recall  f1-score   support\n",
            "\n",
            "       anger       0.90      0.84      0.87       275\n",
            "        fear       0.88      0.78      0.83       212\n",
            "         joy       0.86      0.94      0.90       704\n",
            "        love       0.86      0.65      0.74       178\n",
            "     sadness       0.88      0.93      0.90       550\n",
            "    surprise       0.86      0.63      0.73        81\n",
            "\n",
            "    accuracy                           0.87      2000\n",
            "   macro avg       0.87      0.80      0.83      2000\n",
            "weighted avg       0.87      0.87      0.87      2000\n",
            "\n",
            "\n",
            "Decision Tree with TF-IDF features:\n",
            "Accuracy: 0.821\n",
            "              precision    recall  f1-score   support\n",
            "\n",
            "       anger       0.81      0.80      0.80       275\n",
            "        fear       0.74      0.80      0.77       212\n",
            "         joy       0.86      0.83      0.84       704\n",
            "        love       0.72      0.70      0.71       178\n",
            "     sadness       0.86      0.89      0.87       550\n",
            "    surprise       0.71      0.72      0.71        81\n",
            "\n",
            "    accuracy                           0.82      2000\n",
            "   macro avg       0.78      0.79      0.79      2000\n",
            "weighted avg       0.82      0.82      0.82      2000\n",
            "\n",
            "\n",
            "Random Forest with TF-IDF features:\n",
            "Accuracy: 0.8605\n",
            "              precision    recall  f1-score   support\n",
            "\n",
            "       anger       0.84      0.88      0.86       275\n",
            "        fear       0.79      0.84      0.82       212\n",
            "         joy       0.89      0.86      0.87       704\n",
            "        love       0.80      0.69      0.74       178\n",
            "     sadness       0.89      0.93      0.91       550\n",
            "    surprise       0.76      0.78      0.77        81\n",
            "\n",
            "    accuracy                           0.86      2000\n",
            "   macro avg       0.83      0.83      0.83      2000\n",
            "weighted avg       0.86      0.86      0.86      2000\n",
            "\n"
          ]
        }
      ]
    },
    {
      "cell_type": "code",
      "source": [
        "#Compare performances across embeddings\n",
        "# Logistic Regression with Word2Vec\n",
        "lr_w2v = evaluate_model(\n",
        "    LogisticRegression(max_iter=200),\n",
        "    X_train_w2v, y_train, X_val_w2v, y_val,\n",
        "    \"Word2Vec\", \"Logistic Regression\"\n",
        ")\n"
      ],
      "metadata": {
        "colab": {
          "base_uri": "https://localhost:8080/"
        },
        "id": "3OHBItmQvd0b",
        "outputId": "44e58536-a2d2-412a-be8f-0ad9d199c0f2"
      },
      "execution_count": 8,
      "outputs": [
        {
          "output_type": "stream",
          "name": "stdout",
          "text": [
            "\n",
            "Logistic Regression with Word2Vec features:\n",
            "Accuracy: 0.3665\n",
            "              precision    recall  f1-score   support\n",
            "\n",
            "       anger       0.00      0.00      0.00       275\n",
            "        fear       0.00      0.00      0.00       212\n",
            "         joy       0.38      0.82      0.52       704\n",
            "        love       0.00      0.00      0.00       178\n",
            "     sadness       0.34      0.28      0.31       550\n",
            "    surprise       0.00      0.00      0.00        81\n",
            "\n",
            "    accuracy                           0.37      2000\n",
            "   macro avg       0.12      0.18      0.14      2000\n",
            "weighted avg       0.22      0.37      0.27      2000\n",
            "\n"
          ]
        },
        {
          "output_type": "stream",
          "name": "stderr",
          "text": [
            "/usr/local/lib/python3.12/dist-packages/sklearn/metrics/_classification.py:1565: UndefinedMetricWarning: Precision is ill-defined and being set to 0.0 in labels with no predicted samples. Use `zero_division` parameter to control this behavior.\n",
            "  _warn_prf(average, modifier, f\"{metric.capitalize()} is\", len(result))\n",
            "/usr/local/lib/python3.12/dist-packages/sklearn/metrics/_classification.py:1565: UndefinedMetricWarning: Precision is ill-defined and being set to 0.0 in labels with no predicted samples. Use `zero_division` parameter to control this behavior.\n",
            "  _warn_prf(average, modifier, f\"{metric.capitalize()} is\", len(result))\n",
            "/usr/local/lib/python3.12/dist-packages/sklearn/metrics/_classification.py:1565: UndefinedMetricWarning: Precision is ill-defined and being set to 0.0 in labels with no predicted samples. Use `zero_division` parameter to control this behavior.\n",
            "  _warn_prf(average, modifier, f\"{metric.capitalize()} is\", len(result))\n"
          ]
        }
      ]
    },
    {
      "cell_type": "code",
      "source": [
        "#View results in a table\n",
        "import pandas as pd\n",
        "\n",
        "results_df = pd.DataFrame(list(results.items()), columns=[\"Model\", \"Validation Accuracy\"])\n",
        "print(results_df)\n"
      ],
      "metadata": {
        "colab": {
          "base_uri": "https://localhost:8080/"
        },
        "id": "GDU0Ozmivinj",
        "outputId": "b06649a0-6621-4745-a21c-d959e80efc8d"
      },
      "execution_count": 9,
      "outputs": [
        {
          "output_type": "stream",
          "name": "stdout",
          "text": [
            "                            Model  Validation Accuracy\n",
            "0    Logistic Regression (TF-IDF)               0.8705\n",
            "1          Decision Tree (TF-IDF)               0.8210\n",
            "2          Random Forest (TF-IDF)               0.8605\n",
            "3  Logistic Regression (Word2Vec)               0.3665\n"
          ]
        }
      ]
    },
    {
      "cell_type": "code",
      "source": [
        "#v.     Do the hyperparameter tuning to get the best model.\n",
        "#logistic Regression\n",
        "from sklearn.model_selection import GridSearchCV\n",
        "\n",
        "param_grid_lr = {\n",
        "    'C': [0.01, 0.1, 1, 10],\n",
        "    'penalty': ['l2'],\n",
        "    'solver': ['liblinear', 'saga']\n",
        "}\n",
        "\n",
        "grid_lr = GridSearchCV(\n",
        "    LogisticRegression(max_iter=500),\n",
        "    param_grid=param_grid_lr,\n",
        "    cv=3,\n",
        "    scoring='accuracy',\n",
        "    n_jobs=-1\n",
        ")\n",
        "grid_lr.fit(X_train_tfidf, y_train)\n",
        "\n",
        "best_lr = grid_lr.best_estimator_\n",
        "print(\"Best Logistic Regression:\", grid_lr.best_params_)\n",
        "print(\"Validation Accuracy:\", accuracy_score(y_val, best_lr.predict(X_val_tfidf)))\n"
      ],
      "metadata": {
        "colab": {
          "base_uri": "https://localhost:8080/"
        },
        "id": "QXnedhZ0vplJ",
        "outputId": "7873114c-d3fb-4a43-dad9-39a35848351d"
      },
      "execution_count": 10,
      "outputs": [
        {
          "output_type": "stream",
          "name": "stdout",
          "text": [
            "Best Logistic Regression: {'C': 10, 'penalty': 'l2', 'solver': 'liblinear'}\n",
            "Validation Accuracy: 0.8845\n"
          ]
        }
      ]
    },
    {
      "cell_type": "code",
      "source": [
        "#Decision Tree\n",
        "param_grid_dt = {\n",
        "    'max_depth': [10, 20, 50, None],\n",
        "    'min_samples_split': [2, 5, 10],\n",
        "    'criterion': ['gini', 'entropy']\n",
        "}\n",
        "\n",
        "grid_dt = GridSearchCV(\n",
        "    DecisionTreeClassifier(),\n",
        "    param_grid=param_grid_dt,\n",
        "    cv=3,\n",
        "    scoring='accuracy',\n",
        "    n_jobs=-1\n",
        ")\n",
        "grid_dt.fit(X_train_tfidf, y_train)\n",
        "\n",
        "best_dt = grid_dt.best_estimator_\n",
        "print(\"Best Decision Tree:\", grid_dt.best_params_)\n",
        "print(\"Validation Accuracy:\", accuracy_score(y_val, best_dt.predict(X_val_tfidf)))\n"
      ],
      "metadata": {
        "colab": {
          "base_uri": "https://localhost:8080/"
        },
        "id": "KRYE8At_9wKn",
        "outputId": "b7986ee9-26d8-4c05-e19b-bfcfdaf4913d"
      },
      "execution_count": 11,
      "outputs": [
        {
          "output_type": "stream",
          "name": "stdout",
          "text": [
            "Best Decision Tree: {'criterion': 'gini', 'max_depth': None, 'min_samples_split': 5}\n",
            "Validation Accuracy: 0.825\n"
          ]
        }
      ]
    },
    {
      "cell_type": "code",
      "source": [
        "#Random Forest\n",
        "param_grid_rf = {\n",
        "    'n_estimators': [100, 200, 300],\n",
        "    'max_depth': [10, 20, None],\n",
        "    'min_samples_split': [2, 5, 10],\n",
        "    'max_features': ['sqrt', 'log2']\n",
        "}\n",
        "\n",
        "grid_rf = GridSearchCV(\n",
        "    RandomForestClassifier(),\n",
        "    param_grid=param_grid_rf,\n",
        "    cv=3,\n",
        "    scoring='accuracy',\n",
        "    n_jobs=-1\n",
        ")\n",
        "grid_rf.fit(X_train_tfidf, y_train)\n",
        "\n",
        "best_rf = grid_rf.best_estimator_\n",
        "print(\"Best Random Forest:\", grid_rf.best_params_)\n",
        "print(\"Validation Accuracy:\", accuracy_score(y_val, best_rf.predict(X_val_tfidf)))\n"
      ],
      "metadata": {
        "id": "IaZPiibo93qm",
        "colab": {
          "base_uri": "https://localhost:8080/"
        },
        "outputId": "670096bc-1f86-4db2-bda6-d4dd61a016a6"
      },
      "execution_count": 12,
      "outputs": [
        {
          "output_type": "stream",
          "name": "stdout",
          "text": [
            "Best Random Forest: {'max_depth': None, 'max_features': 'log2', 'min_samples_split': 5, 'n_estimators': 300}\n",
            "Validation Accuracy: 0.885\n"
          ]
        }
      ]
    },
    {
      "cell_type": "code",
      "source": [
        "#vi.\tFinally create a table to compare the performances of all the models and suggest the best model.\n",
        "import pandas as pd\n",
        "from sklearn.metrics import accuracy_score\n",
        "\n",
        "# Collect results\n",
        "results = []\n",
        "\n",
        "# Logistic Regression (TF-IDF)\n",
        "acc_lr_tfidf = accuracy_score(y_val, best_lr.predict(X_val_tfidf))\n",
        "results.append([\"Logistic Regression\", \"TF-IDF\", acc_lr_tfidf])\n",
        "\n",
        "# Decision Tree (TF-IDF)\n",
        "acc_dt_tfidf = accuracy_score(y_val, best_dt.predict(X_val_tfidf))\n",
        "results.append([\"Decision Tree\", \"TF-IDF\", acc_dt_tfidf])\n",
        "\n",
        "# Random Forest (TF-IDF)\n",
        "acc_rf_tfidf = accuracy_score(y_val, best_rf.predict(X_val_tfidf))\n",
        "results.append([\"Random Forest\", \"TF-IDF\", acc_rf_tfidf])\n",
        "\n",
        "# Create dataframe\n",
        "results_df = pd.DataFrame(results, columns=[\"Model\", \"Feature Type\", \"Validation Accuracy\"])\n",
        "print(results_df)\n"
      ],
      "metadata": {
        "id": "7dUaWQm3-I6e",
        "colab": {
          "base_uri": "https://localhost:8080/"
        },
        "outputId": "d4e9c434-6134-4156-83f9-ef29507633d4"
      },
      "execution_count": 13,
      "outputs": [
        {
          "output_type": "stream",
          "name": "stdout",
          "text": [
            "                 Model Feature Type  Validation Accuracy\n",
            "0  Logistic Regression       TF-IDF               0.8845\n",
            "1        Decision Tree       TF-IDF               0.8250\n",
            "2        Random Forest       TF-IDF               0.8850\n"
          ]
        }
      ]
    },
    {
      "cell_type": "code",
      "source": [
        "#prepare Data for DL\n",
        "from tensorflow.keras.preprocessing.text import Tokenizer\n",
        "from tensorflow.keras.preprocessing.sequence import pad_sequences\n",
        "from sklearn.preprocessing import LabelEncoder\n",
        "from tensorflow.keras.utils import to_categorical\n",
        "\n",
        "MAX_NUM_WORDS = 10000\n",
        "MAX_SEQ_LEN = 100\n",
        "EMBEDDING_DIM = 100\n",
        "\n",
        "tokenizer = Tokenizer(num_words=MAX_NUM_WORDS, oov_token=\"<OOV>\")\n",
        "tokenizer.fit_on_texts(train_df[\"clean_text\"])\n",
        "\n",
        "X_train = pad_sequences(tokenizer.texts_to_sequences(train_df[\"clean_text\"]), maxlen=MAX_SEQ_LEN)\n",
        "X_val   = pad_sequences(tokenizer.texts_to_sequences(val_df[\"clean_text\"]), maxlen=MAX_SEQ_LEN)\n",
        "X_test  = pad_sequences(tokenizer.texts_to_sequences(test_df[\"clean_text\"]), maxlen=MAX_SEQ_LEN)\n",
        "\n",
        "le = LabelEncoder()\n",
        "y_train = to_categorical(le.fit_transform(train_df[\"emotion\"]))\n",
        "y_val   = to_categorical(le.transform(val_df[\"emotion\"]))\n",
        "y_test  = to_categorical(le.transform(test_df[\"emotion\"]))"
      ],
      "metadata": {
        "id": "_Dl0OG9z_ye-"
      },
      "execution_count": 14,
      "outputs": []
    },
    {
      "cell_type": "code",
      "source": [
        "#Simple RNN\n",
        "from tensorflow.keras.models import Sequential\n",
        "from tensorflow.keras.layers import Embedding, SimpleRNN, Dense\n",
        "\n",
        "model_rnn = Sequential([\n",
        "    Embedding(MAX_NUM_WORDS, EMBEDDING_DIM),   # removed input_length\n",
        "    SimpleRNN(64),\n",
        "    Dense(64, activation=\"relu\"),\n",
        "    Dense(len(le.classes_), activation=\"softmax\")\n",
        "])\n",
        "\n",
        "\n",
        "model_rnn.compile(loss=\"categorical_crossentropy\", optimizer=\"adam\", metrics=[\"accuracy\"])\n"
      ],
      "metadata": {
        "id": "s-JDjnX6AEmm"
      },
      "execution_count": 15,
      "outputs": []
    },
    {
      "cell_type": "code",
      "source": [
        "#LSTM\n",
        "from tensorflow.keras.layers import LSTM\n",
        "\n",
        "model_lstm = Sequential([\n",
        "    Embedding(MAX_NUM_WORDS, EMBEDDING_DIM),\n",
        "    LSTM(64),\n",
        "    Dense(64, activation=\"relu\"),\n",
        "    Dense(len(le.classes_), activation=\"softmax\")\n",
        "])\n",
        "\n",
        "model_lstm.compile(loss=\"categorical_crossentropy\", optimizer=\"adam\", metrics=[\"accuracy\"])\n"
      ],
      "metadata": {
        "id": "g3VHvK9KAF1d"
      },
      "execution_count": 16,
      "outputs": []
    },
    {
      "cell_type": "code",
      "source": [
        "#GRU\n",
        "from tensorflow.keras.layers import GRU\n",
        "\n",
        "model_gru = Sequential([\n",
        "    Embedding(MAX_NUM_WORDS, EMBEDDING_DIM),\n",
        "    GRU(64),\n",
        "    Dense(64, activation=\"relu\"),\n",
        "    Dense(len(le.classes_), activation=\"softmax\")\n",
        "])\n",
        "\n",
        "model_gru.compile(loss=\"categorical_crossentropy\", optimizer=\"adam\", metrics=[\"accuracy\"])\n",
        "\n"
      ],
      "metadata": {
        "id": "zuFS37TPCYne"
      },
      "execution_count": 17,
      "outputs": []
    },
    {
      "cell_type": "code",
      "source": [
        "#Bidirectional LSTM\n",
        "from tensorflow.keras.layers import Bidirectional\n",
        "\n",
        "model_bi_lstm = Sequential([\n",
        "    Embedding(MAX_NUM_WORDS, EMBEDDING_DIM),\n",
        "    Bidirectional(LSTM(64)),\n",
        "    Dense(64, activation=\"relu\"),\n",
        "    Dense(len(le.classes_), activation=\"softmax\")\n",
        "])\n",
        "\n",
        "model_bi_lstm.compile(loss=\"categorical_crossentropy\", optimizer=\"adam\", metrics=[\"accuracy\"])\n"
      ],
      "metadata": {
        "id": "iZY7ZWaxIdNt"
      },
      "execution_count": 18,
      "outputs": []
    },
    {
      "cell_type": "code",
      "source": [
        "#Stacked LSTM\n",
        "model_stacked_lstm = Sequential([\n",
        "    Embedding(MAX_NUM_WORDS, EMBEDDING_DIM),\n",
        "    LSTM(64, return_sequences=True),\n",
        "    LSTM(32),\n",
        "    Dense(64, activation=\"relu\"),\n",
        "    Dense(len(le.classes_), activation=\"softmax\")\n",
        "])\n",
        "\n",
        "model_stacked_lstm.compile(loss=\"categorical_crossentropy\", optimizer=\"adam\", metrics=[\"accuracy\"])\n"
      ],
      "metadata": {
        "id": "alY6dDMJInSE"
      },
      "execution_count": 19,
      "outputs": []
    },
    {
      "cell_type": "code",
      "source": [
        "#Training Example\n",
        "history = model_lstm.fit(\n",
        "    X_train, y_train,\n",
        "    validation_data=(X_val, y_val),\n",
        "    epochs=5,\n",
        "    batch_size=64,\n",
        "    verbose=1\n",
        ")\n",
        "\n",
        "loss, acc = model_lstm.evaluate(X_test, y_test)\n",
        "print(\"Test Accuracy:\", acc)\n"
      ],
      "metadata": {
        "colab": {
          "base_uri": "https://localhost:8080/"
        },
        "id": "aIES96HwIr1k",
        "outputId": "d7314df1-1d25-4584-ec7a-dbc4bf9c7c1b"
      },
      "execution_count": 20,
      "outputs": [
        {
          "output_type": "stream",
          "name": "stdout",
          "text": [
            "Epoch 1/5\n",
            "\u001b[1m250/250\u001b[0m \u001b[32m━━━━━━━━━━━━━━━━━━━━\u001b[0m\u001b[37m\u001b[0m \u001b[1m33s\u001b[0m 115ms/step - accuracy: 0.3865 - loss: 1.5231 - val_accuracy: 0.7625 - val_loss: 0.6923\n",
            "Epoch 2/5\n",
            "\u001b[1m250/250\u001b[0m \u001b[32m━━━━━━━━━━━━━━━━━━━━\u001b[0m\u001b[37m\u001b[0m \u001b[1m34s\u001b[0m 137ms/step - accuracy: 0.8561 - loss: 0.4123 - val_accuracy: 0.8850 - val_loss: 0.3318\n",
            "Epoch 3/5\n",
            "\u001b[1m250/250\u001b[0m \u001b[32m━━━━━━━━━━━━━━━━━━━━\u001b[0m\u001b[37m\u001b[0m \u001b[1m35s\u001b[0m 114ms/step - accuracy: 0.9487 - loss: 0.1499 - val_accuracy: 0.8860 - val_loss: 0.3407\n",
            "Epoch 4/5\n",
            "\u001b[1m250/250\u001b[0m \u001b[32m━━━━━━━━━━━━━━━━━━━━\u001b[0m\u001b[37m\u001b[0m \u001b[1m42s\u001b[0m 117ms/step - accuracy: 0.9651 - loss: 0.0941 - val_accuracy: 0.8905 - val_loss: 0.3523\n",
            "Epoch 5/5\n",
            "\u001b[1m250/250\u001b[0m \u001b[32m━━━━━━━━━━━━━━━━━━━━\u001b[0m\u001b[37m\u001b[0m \u001b[1m49s\u001b[0m 149ms/step - accuracy: 0.9776 - loss: 0.0659 - val_accuracy: 0.8830 - val_loss: 0.3724\n",
            "\u001b[1m63/63\u001b[0m \u001b[32m━━━━━━━━━━━━━━━━━━━━\u001b[0m\u001b[37m\u001b[0m \u001b[1m2s\u001b[0m 26ms/step - accuracy: 0.8760 - loss: 0.3923\n",
            "Test Accuracy: 0.8759999871253967\n"
          ]
        }
      ]
    },
    {
      "cell_type": "code",
      "source": [
        "#iv. Use the KerasTuner to tune the parameters.\n",
        "!pip install keras-tuner --quiet\n"
      ],
      "metadata": {
        "colab": {
          "base_uri": "https://localhost:8080/"
        },
        "id": "514aHbKaPBeE",
        "outputId": "8e5718fa-a1d4-48cd-d5b6-1c3bca0b6dc0"
      },
      "execution_count": 21,
      "outputs": [
        {
          "output_type": "stream",
          "name": "stdout",
          "text": [
            "\u001b[?25l   \u001b[90m━━━━━━━━━━━━━━━━━━━━━━━━━━━━━━━━━━━━━━━━\u001b[0m \u001b[32m0.0/129.1 kB\u001b[0m \u001b[31m?\u001b[0m eta \u001b[36m-:--:--\u001b[0m\r\u001b[2K   \u001b[91m━━━━━━━━━━━━━━━━━━━━━━━━━━━━━━━━━━━━━━\u001b[0m\u001b[90m╺\u001b[0m\u001b[90m━\u001b[0m \u001b[32m122.9/129.1 kB\u001b[0m \u001b[31m3.5 MB/s\u001b[0m eta \u001b[36m0:00:01\u001b[0m\r\u001b[2K   \u001b[90m━━━━━━━━━━━━━━━━━━━━━━━━━━━━━━━━━━━━━━━━\u001b[0m \u001b[32m129.1/129.1 kB\u001b[0m \u001b[31m2.6 MB/s\u001b[0m eta \u001b[36m0:00:00\u001b[0m\n",
            "\u001b[?25h"
          ]
        }
      ]
    },
    {
      "cell_type": "code",
      "source": [
        "#Import Dependencies\n",
        "import keras_tuner as kt\n",
        "from tensorflow.keras.models import Sequential\n",
        "from tensorflow.keras.layers import Embedding, LSTM, Dense, Dropout\n"
      ],
      "metadata": {
        "id": "RhFPsvc-PgtE"
      },
      "execution_count": 22,
      "outputs": []
    },
    {
      "cell_type": "code",
      "source": [
        "#Define a Model Builder Function\n",
        "def model_builder(hp):\n",
        "    model = Sequential()\n",
        "    model.add(Embedding(input_dim=10000, output_dim=100, input_length=100))\n",
        "\n",
        "    # Choose between LSTM, GRU, or SimpleRNN\n",
        "    rnn_type = hp.Choice(\"rnn_type\", [\"LSTM\", \"GRU\", \"SimpleRNN\"])\n",
        "    units = hp.Int(\"units\", min_value=32, max_value=256, step=32)\n",
        "\n",
        "    if rnn_type == \"LSTM\":\n",
        "        model.add(LSTM(units))\n",
        "    elif rnn_type == \"GRU\":\n",
        "        from tensorflow.keras.layers import GRU\n",
        "        model.add(GRU(units))\n",
        "    else:\n",
        "        from tensorflow.keras.layers import SimpleRNN\n",
        "        model.add(SimpleRNN(units))\n",
        "\n",
        "    # Dense hidden layer\n",
        "    model.add(Dense(hp.Int(\"dense_units\", 32, 128, step=32), activation=\"relu\"))\n",
        "\n",
        "    # Dropout for regularization\n",
        "    model.add(Dropout(hp.Float(\"dropout\", 0.2, 0.5, step=0.1)))\n",
        "\n",
        "    # Output layer\n",
        "    model.add(Dense(len(le.classes_), activation=\"softmax\"))\n",
        "\n",
        "    # Compile with tunable learning rate\n",
        "    hp_learning_rate = hp.Choice(\"learning_rate\", values=[1e-2, 1e-3, 1e-4])\n",
        "    model.compile(optimizer=tf.keras.optimizers.Adam(learning_rate=hp_learning_rate),\n",
        "                  loss=\"categorical_crossentropy\",\n",
        "                  metrics=[\"accuracy\"])\n",
        "    return model\n"
      ],
      "metadata": {
        "id": "msPJ3XICPjXs"
      },
      "execution_count": 23,
      "outputs": []
    },
    {
      "cell_type": "code",
      "source": [
        "#Run the Tuner\n",
        "import tensorflow as tf # Import tensorflow\n",
        "\n",
        "tuner = kt.Hyperband(\n",
        "    model_builder,\n",
        "    objective=\"val_accuracy\",\n",
        "    max_epochs=2,\n",
        "    factor=3,\n",
        "    directory=\"keras_tuner_dir\",\n",
        "    project_name=\"emotion_rnn_tuning\"\n",
        ")\n",
        "\n",
        "stop_early = tf.keras.callbacks.EarlyStopping(monitor=\"val_loss\", patience=3)\n",
        "\n",
        "tuner.search(X_train, y_train, epochs=2, validation_data=(X_val, y_val), callbacks=[stop_early])"
      ],
      "metadata": {
        "colab": {
          "base_uri": "https://localhost:8080/"
        },
        "id": "XpdNDFdZPtDs",
        "outputId": "c8162d31-aa5f-477e-ef7f-420ab30c7ef3"
      },
      "execution_count": 27,
      "outputs": [
        {
          "output_type": "stream",
          "name": "stdout",
          "text": [
            "Trial 2 Complete [00h 02m 12s]\n",
            "val_accuracy: 0.9079999923706055\n",
            "\n",
            "Best val_accuracy So Far: 0.9079999923706055\n",
            "Total elapsed time: 00h 04m 39s\n"
          ]
        }
      ]
    },
    {
      "cell_type": "code",
      "source": [
        "#Get the Best Model\n",
        "best_hps = tuner.get_best_hyperparameters(num_trials=1)[0]\n",
        "\n",
        "print(f\"Best RNN type: {best_hps.get('rnn_type')}\")\n",
        "print(f\"Best units: {best_hps.get('units')}\")\n",
        "print(f\"Best dense units: {best_hps.get('dense_units')}\")\n",
        "print(f\"Best dropout: {best_hps.get('dropout')}\")\n",
        "print(f\"Best learning rate: {best_hps.get('learning_rate')}\")\n",
        "\n",
        "# Build & train best model\n",
        "best_model = tuner.hypermodel.build(best_hps)\n",
        "history = best_model.fit(\n",
        "    X_train, y_train,\n",
        "    validation_data=(X_val, y_val),\n",
        "    epochs=2,\n",
        "    batch_size=64\n",
        ")\n",
        "\n",
        "loss, acc = best_model.evaluate(X_test, y_test)\n",
        "print(\"Best Model Test Accuracy:\", acc)\n"
      ],
      "metadata": {
        "colab": {
          "base_uri": "https://localhost:8080/"
        },
        "id": "wKpvzGtXPzWM",
        "outputId": "60be1163-28cc-407b-ed0c-9f4a8559382d"
      },
      "execution_count": 29,
      "outputs": [
        {
          "output_type": "stream",
          "name": "stdout",
          "text": [
            "Best RNN type: GRU\n",
            "Best units: 96\n",
            "Best dense units: 32\n",
            "Best dropout: 0.30000000000000004\n",
            "Best learning rate: 0.001\n",
            "Epoch 1/2\n",
            "\u001b[1m250/250\u001b[0m \u001b[32m━━━━━━━━━━━━━━━━━━━━\u001b[0m\u001b[37m\u001b[0m \u001b[1m56s\u001b[0m 203ms/step - accuracy: 0.4172 - loss: 1.5001 - val_accuracy: 0.8105 - val_loss: 0.5452\n",
            "Epoch 2/2\n",
            "\u001b[1m250/250\u001b[0m \u001b[32m━━━━━━━━━━━━━━━━━━━━\u001b[0m\u001b[37m\u001b[0m \u001b[1m88s\u001b[0m 350ms/step - accuracy: 0.8737 - loss: 0.3802 - val_accuracy: 0.8895 - val_loss: 0.3095\n",
            "\u001b[1m63/63\u001b[0m \u001b[32m━━━━━━━━━━━━━━━━━━━━\u001b[0m\u001b[37m\u001b[0m \u001b[1m3s\u001b[0m 44ms/step - accuracy: 0.8952 - loss: 0.2909\n",
            "Best Model Test Accuracy: 0.8899999856948853\n"
          ]
        }
      ]
    },
    {
      "cell_type": "code",
      "source": [
        "#v. Now use the pretrained models – BERT, DistilBERT, RoBERTa\n",
        "#Install Dependencies\n",
        "!pip install transformers datasets torch --quiet\n"
      ],
      "metadata": {
        "id": "P372nGOqP6ns"
      },
      "execution_count": 30,
      "outputs": []
    },
    {
      "cell_type": "code",
      "source": [
        "#Load Dataset\n",
        "import pandas as pd\n",
        "import os # Import os\n",
        "\n",
        "# Define the directory where the files were extracted\n",
        "extract_dir = \"/content/emotions_dataset\"\n",
        "\n",
        "train_path = os.path.join(extract_dir, \"train.txt\")\n",
        "val_path = os.path.join(extract_dir, \"val.txt\")\n",
        "test_path = os.path.join(extract_dir, \"test.txt\")\n",
        "\n",
        "\n",
        "train_df = pd.read_csv(train_path, sep=\";\", names=[\"text\", \"label\"])\n",
        "val_df   = pd.read_csv(val_path, sep=\";\", names=[\"text\", \"label\"])\n",
        "test_df  = pd.read_csv(test_path, sep=\";\", names=[\"text\", \"label\"])\n",
        "\n",
        "print(train_df.head())"
      ],
      "metadata": {
        "colab": {
          "base_uri": "https://localhost:8080/"
        },
        "id": "DibzRB_OQGik",
        "outputId": "2811a563-bb91-42e4-fc2a-71b35d3c1f52"
      },
      "execution_count": 32,
      "outputs": [
        {
          "output_type": "stream",
          "name": "stdout",
          "text": [
            "                                                text    label\n",
            "0                            i didnt feel humiliated  sadness\n",
            "1  i can go from feeling so hopeless to so damned...  sadness\n",
            "2   im grabbing a minute to post i feel greedy wrong    anger\n",
            "3  i am ever feeling nostalgic about the fireplac...     love\n",
            "4                               i am feeling grouchy    anger\n"
          ]
        }
      ]
    },
    {
      "cell_type": "code",
      "source": [
        "#Encode Labels\n",
        "from sklearn.preprocessing import LabelEncoder\n",
        "\n",
        "le = LabelEncoder()\n",
        "train_df[\"label_enc\"] = le.fit_transform(train_df[\"label\"])\n",
        "val_df[\"label_enc\"]   = le.transform(val_df[\"label\"])\n",
        "test_df[\"label_enc\"]  = le.transform(test_df[\"label\"])\n",
        "\n",
        "num_classes = len(le.classes_)\n",
        "print(\"Classes:\", le.classes_)\n"
      ],
      "metadata": {
        "colab": {
          "base_uri": "https://localhost:8080/"
        },
        "id": "B3Th_zknQ_3i",
        "outputId": "bfdc84fc-4e9f-41eb-c6ce-a1b878e5a8eb"
      },
      "execution_count": 33,
      "outputs": [
        {
          "output_type": "stream",
          "name": "stdout",
          "text": [
            "Classes: ['anger' 'fear' 'joy' 'love' 'sadness' 'surprise']\n"
          ]
        }
      ]
    },
    {
      "cell_type": "code",
      "source": [
        "#Tokenization\n",
        "from transformers import AutoTokenizer\n",
        "\n",
        "MODEL_NAME = \"bert-base-uncased\"   # later swap with distilbert-base-uncased, roberta-base\n",
        "tokenizer = AutoTokenizer.from_pretrained(MODEL_NAME)\n",
        "\n",
        "def tokenize(batch):\n",
        "    return tokenizer(batch[\"text\"], padding=\"max_length\", truncation=True, max_length=128)\n"
      ],
      "metadata": {
        "colab": {
          "base_uri": "https://localhost:8080/",
          "height": 249,
          "referenced_widgets": [
            "f172c1d9510445ad96a5884a2f1f4f17",
            "57b7078b5b26489fabcff202b9a4c90c",
            "e05e2fdfd7ab4d6db32791b90c1e45c4",
            "961d9dac75e646eeb3cb58e17507b7d4",
            "b3bd84f1dd3244228af8466348f405ee",
            "b8c90f02e7cf4eafb4e07e1c557de379",
            "97b7a7bdc8914d0fabbed1a7d7e35d84",
            "7eebb2221a724cc99de3c18f8be83340",
            "75486b26f7404c0c85da472d57ffdde7",
            "8117b07afd814987814b5a9ab9470152",
            "ec9f549b0a774e2ca086e14be3461c21",
            "373e66c1346d481dae154c7171982ce6",
            "fc9d7869efb64a6d968d2f3d83e3ce07",
            "c75268f0794344868f50ef26d36125d4",
            "de50b486b15b4772ac237507ebc922ba",
            "720af045ca8e4701bda2ee1cf95b4dc2",
            "b906ad6b9569429da2356f65a0465d48",
            "c3590c61557f455c9d5b921b331bee56",
            "ce442cc5a22e428ab7e0f19a689aaea8",
            "08de67891ecb41e8b8c79f362bc54c14",
            "2b1992a10c20449f8671a8868a76d541",
            "ee02a1aefdfb4de691aeeace076bb570",
            "c5631a2d7e1140afbda8671e51edab3b",
            "6e67ffcdc645451eaa7065a3df7a8b0d",
            "3daaa00cc1914d9fade60b1025bdd02e",
            "823c1589d1c84003a4ca26537a6c2a83",
            "d960c2de34d14854a584b60e4ee7aceb",
            "8c7a5ecf2bac4980907a3ad2e979a57b",
            "47318ebe0bce411a9445662a4c22ee07",
            "df2ae86d8d0f414d9130333a00a97fd8",
            "d9dee2afaca74c879153f592cf2bfe54",
            "b1038dff0fba4e5f9dce1e6478915580",
            "d4b3f227b8b34b7bb5947a2dc0ef3ba9",
            "991e852ff76047c4bc28d6203a65276c",
            "5d6434c977ef4d90a9d8ae7d4ed22f87",
            "a127afa88c6f41edbcad9d7cdffb2c3b",
            "539f440346aa4c749fd009400c535815",
            "5f30397e3a954458bc079e1f05be1341",
            "9fc96a466e5d4a0080c214f74df7aeec",
            "4f1595fc5c38479083e5e8f62d1d64de",
            "593928a3ad9b473b9a39a60b9c016ccb",
            "136d0e620257470fbf119cb49a7b8cb7",
            "3c0623541b6d46ddaa9f28f347faf558",
            "944c65aa8c2143dd82d620970933058e"
          ]
        },
        "id": "komMUmQoRSho",
        "outputId": "ae746790-9966-4929-ac0e-6ee6bba5cf53"
      },
      "execution_count": 34,
      "outputs": [
        {
          "output_type": "stream",
          "name": "stderr",
          "text": [
            "/usr/local/lib/python3.12/dist-packages/huggingface_hub/utils/_auth.py:94: UserWarning: \n",
            "The secret `HF_TOKEN` does not exist in your Colab secrets.\n",
            "To authenticate with the Hugging Face Hub, create a token in your settings tab (https://huggingface.co/settings/tokens), set it as secret in your Google Colab and restart your session.\n",
            "You will be able to reuse this secret in all of your notebooks.\n",
            "Please note that authentication is recommended but still optional to access public models or datasets.\n",
            "  warnings.warn(\n"
          ]
        },
        {
          "output_type": "display_data",
          "data": {
            "text/plain": [
              "tokenizer_config.json:   0%|          | 0.00/48.0 [00:00<?, ?B/s]"
            ],
            "application/vnd.jupyter.widget-view+json": {
              "version_major": 2,
              "version_minor": 0,
              "model_id": "f172c1d9510445ad96a5884a2f1f4f17"
            }
          },
          "metadata": {}
        },
        {
          "output_type": "display_data",
          "data": {
            "text/plain": [
              "config.json:   0%|          | 0.00/570 [00:00<?, ?B/s]"
            ],
            "application/vnd.jupyter.widget-view+json": {
              "version_major": 2,
              "version_minor": 0,
              "model_id": "373e66c1346d481dae154c7171982ce6"
            }
          },
          "metadata": {}
        },
        {
          "output_type": "display_data",
          "data": {
            "text/plain": [
              "vocab.txt:   0%|          | 0.00/232k [00:00<?, ?B/s]"
            ],
            "application/vnd.jupyter.widget-view+json": {
              "version_major": 2,
              "version_minor": 0,
              "model_id": "c5631a2d7e1140afbda8671e51edab3b"
            }
          },
          "metadata": {}
        },
        {
          "output_type": "display_data",
          "data": {
            "text/plain": [
              "tokenizer.json:   0%|          | 0.00/466k [00:00<?, ?B/s]"
            ],
            "application/vnd.jupyter.widget-view+json": {
              "version_major": 2,
              "version_minor": 0,
              "model_id": "991e852ff76047c4bc28d6203a65276c"
            }
          },
          "metadata": {}
        }
      ]
    },
    {
      "cell_type": "code",
      "source": [
        "#Convert to Dataset Format\n",
        "from datasets import Dataset\n",
        "\n",
        "train_ds = Dataset.from_pandas(train_df[[\"text\", \"label_enc\"]])\n",
        "val_ds   = Dataset.from_pandas(val_df[[\"text\", \"label_enc\"]])\n",
        "test_ds  = Dataset.from_pandas(test_df[[\"text\", \"label_enc\"]])\n",
        "\n",
        "train_ds = train_ds.map(tokenize, batched=True)\n",
        "val_ds   = val_ds.map(tokenize, batched=True)\n",
        "test_ds  = test_ds.map(tokenize, batched=True)\n",
        "\n",
        "train_ds = train_ds.rename_column(\"label_enc\", \"labels\").with_format(\"torch\")\n",
        "val_ds   = val_ds.rename_column(\"label_enc\", \"labels\").with_format(\"torch\")\n",
        "test_ds  = test_ds.rename_column(\"label_enc\", \"labels\").with_format(\"torch\")\n"
      ],
      "metadata": {
        "colab": {
          "base_uri": "https://localhost:8080/",
          "height": 113,
          "referenced_widgets": [
            "58a1442cf8cf4bc8bd202124527f25e0",
            "f752d9521dbd41e29f61c0adf8d5ce56",
            "3af163bcb71648a28b47d9978752b43d",
            "899ccdb7be974036a683cf12cb78d786",
            "660c0114adec493f95296f7152a6a85f",
            "d34b51fbc9f54293a1c73fe6f9197fc1",
            "170103057be4430090b0fb3a6333883a",
            "19d0631cae69435a949ebe1ccda14bc9",
            "5ccc4ba1386548fab6cfcacfc9abd129",
            "bec8b818aa5a42b59e23a741b614ce20",
            "2d5bbfbc80d54ec19ee67bbcc20c1022",
            "a5f8891871ad4301ac7072ecf7efdc8d",
            "f69a2dde62cb4046b2e620aaba7fb3f3",
            "5910b3b5d77248569bea524d5d1eee12",
            "13b973bf02784363b7a178c77ec17e7b",
            "c5ca3d621a0d4b14870a6e6f9697f1ee",
            "d51f201392f646bda10d5e04b618b99d",
            "ba0e6a9fd86441d68d66a4f35e130b09",
            "c2128deddc0c4746afaedf90f9b05204",
            "60a01b84ef7b4d91b9e1e5acd4c99e2b",
            "03524dc67a8843ab8280c91998d48df9",
            "d7f5eb0a2fde4a01b93129407d6365a8",
            "db76621bf51e4e33bbba066495815023",
            "17e023cb369b40ffa40103a867f86c7e",
            "9c78347dabad4d068d67ff0c170d5ad5",
            "ab2e3f6f925647c7b7e2817bae48a60d",
            "ae02e1e1617f4aeba983fbfb19a6042f",
            "5e2294e3bd7d4efd91686aa89899dbcf",
            "d594326a292e4a18af44efde7695bfc4",
            "e38c583907fb47878035df4ce8f70bbe",
            "d0ebc027da94447ab0e96694b9ed2454",
            "4ab422152db14ee487fb99c77257aaf5",
            "b4b7acfe1be7451abe0f086b53ff1868"
          ]
        },
        "id": "skGV36QYSOXS",
        "outputId": "719b98c1-f6e8-4a54-af3d-43b7d93f689b"
      },
      "execution_count": 35,
      "outputs": [
        {
          "output_type": "display_data",
          "data": {
            "text/plain": [
              "Map:   0%|          | 0/16000 [00:00<?, ? examples/s]"
            ],
            "application/vnd.jupyter.widget-view+json": {
              "version_major": 2,
              "version_minor": 0,
              "model_id": "58a1442cf8cf4bc8bd202124527f25e0"
            }
          },
          "metadata": {}
        },
        {
          "output_type": "display_data",
          "data": {
            "text/plain": [
              "Map:   0%|          | 0/2000 [00:00<?, ? examples/s]"
            ],
            "application/vnd.jupyter.widget-view+json": {
              "version_major": 2,
              "version_minor": 0,
              "model_id": "a5f8891871ad4301ac7072ecf7efdc8d"
            }
          },
          "metadata": {}
        },
        {
          "output_type": "display_data",
          "data": {
            "text/plain": [
              "Map:   0%|          | 0/2000 [00:00<?, ? examples/s]"
            ],
            "application/vnd.jupyter.widget-view+json": {
              "version_major": 2,
              "version_minor": 0,
              "model_id": "db76621bf51e4e33bbba066495815023"
            }
          },
          "metadata": {}
        }
      ]
    },
    {
      "cell_type": "code",
      "source": [
        "#Load Pretrained Model\n",
        "from transformers import AutoModelForSequenceClassification\n",
        "\n",
        "model = AutoModelForSequenceClassification.from_pretrained(\n",
        "    MODEL_NAME, num_labels=num_classes\n",
        ")\n"
      ],
      "metadata": {
        "colab": {
          "base_uri": "https://localhost:8080/",
          "height": 84,
          "referenced_widgets": [
            "7319e5c5ba37405084e66998d2e7a689",
            "9b6bfcf982374cd3b8cd53863177cabf",
            "a054e3eaee544b15b70dad96e44e842d",
            "1daa0a6aa9d948c29fb5903b0f02825e",
            "935e9a0600a54af38fa57248fd0add19",
            "c98eb6424a2f4be5ba43f1ed5adc64bb",
            "8e2f81ea5b8145ee8d592f7bafcdeb1e",
            "10017c53e05d4cd3af1cde38737061e1",
            "6292efc744eb42e3af32a629ac3a38c4",
            "dcbb207f34164012a4137e50daa69fa5",
            "9ffa3f2ab76c4c6989bf24767074ba76"
          ]
        },
        "id": "vcmUIWCESTJL",
        "outputId": "15bf443f-5c27-413b-b0a2-f91643f06f04"
      },
      "execution_count": 36,
      "outputs": [
        {
          "output_type": "display_data",
          "data": {
            "text/plain": [
              "model.safetensors:   0%|          | 0.00/440M [00:00<?, ?B/s]"
            ],
            "application/vnd.jupyter.widget-view+json": {
              "version_major": 2,
              "version_minor": 0,
              "model_id": "7319e5c5ba37405084e66998d2e7a689"
            }
          },
          "metadata": {}
        },
        {
          "output_type": "stream",
          "name": "stderr",
          "text": [
            "Some weights of BertForSequenceClassification were not initialized from the model checkpoint at bert-base-uncased and are newly initialized: ['classifier.bias', 'classifier.weight']\n",
            "You should probably TRAIN this model on a down-stream task to be able to use it for predictions and inference.\n"
          ]
        }
      ]
    },
    {
      "cell_type": "code",
      "source": [
        "#Training with Trainer API\n",
        "from transformers import TrainingArguments\n",
        "\n",
        "training_args = TrainingArguments(\n",
        "    output_dir=\"./results\",\n",
        "    eval_strategy=\"epoch\",        # changed from evaluation_strategy\n",
        "    save_strategy=\"epoch\",\n",
        "    learning_rate=2e-5,\n",
        "    per_device_train_batch_size=16,\n",
        "    per_device_eval_batch_size=16,\n",
        "    num_train_epochs=3,\n",
        "    weight_decay=0.01,\n",
        "    logging_dir=\"./logs\",\n",
        "    logging_steps=50,\n",
        ")\n",
        "\n",
        "\n",
        "trainer = Trainer(\n",
        "    model=model,\n",
        "    args=training_args,\n",
        "    train_dataset=train_ds,\n",
        "    eval_dataset=val_ds,\n",
        "    tokenizer=tokenizer,\n",
        ")\n",
        "\n",
        "trainer.train()"
      ],
      "metadata": {
        "colab": {
          "base_uri": "https://localhost:8080/",
          "height": 460
        },
        "id": "CKccFF0VSYjZ",
        "outputId": "2c5c8675-ed10-4c35-c6ba-8182404c9ef1"
      },
      "execution_count": null,
      "outputs": [
        {
          "output_type": "stream",
          "name": "stderr",
          "text": [
            "/tmp/ipython-input-3433730330.py:18: FutureWarning: `tokenizer` is deprecated and will be removed in version 5.0.0 for `Trainer.__init__`. Use `processing_class` instead.\n",
            "  trainer = Trainer(\n",
            "/usr/local/lib/python3.12/dist-packages/notebook/notebookapp.py:191: SyntaxWarning: invalid escape sequence '\\/'\n",
            "  | |_| | '_ \\/ _` / _` |  _/ -_)\n"
          ]
        },
        {
          "output_type": "display_data",
          "data": {
            "text/plain": [
              "<IPython.core.display.Javascript object>"
            ],
            "application/javascript": [
              "\n",
              "        window._wandbApiKey = new Promise((resolve, reject) => {\n",
              "            function loadScript(url) {\n",
              "            return new Promise(function(resolve, reject) {\n",
              "                let newScript = document.createElement(\"script\");\n",
              "                newScript.onerror = reject;\n",
              "                newScript.onload = resolve;\n",
              "                document.body.appendChild(newScript);\n",
              "                newScript.src = url;\n",
              "            });\n",
              "            }\n",
              "            loadScript(\"https://cdn.jsdelivr.net/npm/postmate/build/postmate.min.js\").then(() => {\n",
              "            const iframe = document.createElement('iframe')\n",
              "            iframe.style.cssText = \"width:0;height:0;border:none\"\n",
              "            document.body.appendChild(iframe)\n",
              "            const handshake = new Postmate({\n",
              "                container: iframe,\n",
              "                url: 'https://wandb.ai/authorize'\n",
              "            });\n",
              "            const timeout = setTimeout(() => reject(\"Couldn't auto authenticate\"), 5000)\n",
              "            handshake.then(function(child) {\n",
              "                child.on('authorize', data => {\n",
              "                    clearTimeout(timeout)\n",
              "                    resolve(data)\n",
              "                });\n",
              "            });\n",
              "            })\n",
              "        });\n",
              "    "
            ]
          },
          "metadata": {}
        },
        {
          "output_type": "stream",
          "name": "stderr",
          "text": [
            "\u001b[34m\u001b[1mwandb\u001b[0m: Logging into wandb.ai. (Learn how to deploy a W&B server locally: https://wandb.me/wandb-server)\n",
            "\u001b[34m\u001b[1mwandb\u001b[0m: You can find your API key in your browser here: https://wandb.ai/authorize?ref=models\n",
            "wandb: Paste an API key from your profile and hit enter:"
          ]
        },
        {
          "name": "stdout",
          "output_type": "stream",
          "text": [
            " ··········\n"
          ]
        },
        {
          "output_type": "stream",
          "name": "stderr",
          "text": [
            "\u001b[34m\u001b[1mwandb\u001b[0m: \u001b[33mWARNING\u001b[0m If you're specifying your api key in code, ensure this code is not shared publicly.\n",
            "\u001b[34m\u001b[1mwandb\u001b[0m: \u001b[33mWARNING\u001b[0m Consider setting the WANDB_API_KEY environment variable, or running `wandb login` from the command line.\n",
            "\u001b[34m\u001b[1mwandb\u001b[0m: No netrc file found, creating one.\n",
            "\u001b[34m\u001b[1mwandb\u001b[0m: Appending key for api.wandb.ai to your netrc file: /root/.netrc\n",
            "\u001b[34m\u001b[1mwandb\u001b[0m: Currently logged in as: \u001b[33mpiramu-ci\u001b[0m (\u001b[33mpiramu-ci-sri-sairam-engineering-college\u001b[0m) to \u001b[32mhttps://api.wandb.ai\u001b[0m. Use \u001b[1m`wandb login --relogin`\u001b[0m to force relogin\n"
          ]
        },
        {
          "output_type": "display_data",
          "data": {
            "text/plain": [
              "<IPython.core.display.HTML object>"
            ],
            "text/html": [
              "creating run (0.0s)"
            ]
          },
          "metadata": {}
        },
        {
          "output_type": "display_data",
          "data": {
            "text/plain": [
              "<IPython.core.display.HTML object>"
            ],
            "text/html": [
              "Tracking run with wandb version 0.21.3"
            ]
          },
          "metadata": {}
        },
        {
          "output_type": "display_data",
          "data": {
            "text/plain": [
              "<IPython.core.display.HTML object>"
            ],
            "text/html": [
              "Run data is saved locally in <code>/content/wandb/run-20250918_101300-uwqp8gm9</code>"
            ]
          },
          "metadata": {}
        },
        {
          "output_type": "display_data",
          "data": {
            "text/plain": [
              "<IPython.core.display.HTML object>"
            ],
            "text/html": [
              "Syncing run <strong><a href='https://wandb.ai/piramu-ci-sri-sairam-engineering-college/huggingface/runs/uwqp8gm9' target=\"_blank\">dutiful-sea-1</a></strong> to <a href='https://wandb.ai/piramu-ci-sri-sairam-engineering-college/huggingface' target=\"_blank\">Weights & Biases</a> (<a href='https://wandb.me/developer-guide' target=\"_blank\">docs</a>)<br>"
            ]
          },
          "metadata": {}
        },
        {
          "output_type": "display_data",
          "data": {
            "text/plain": [
              "<IPython.core.display.HTML object>"
            ],
            "text/html": [
              " View project at <a href='https://wandb.ai/piramu-ci-sri-sairam-engineering-college/huggingface' target=\"_blank\">https://wandb.ai/piramu-ci-sri-sairam-engineering-college/huggingface</a>"
            ]
          },
          "metadata": {}
        },
        {
          "output_type": "display_data",
          "data": {
            "text/plain": [
              "<IPython.core.display.HTML object>"
            ],
            "text/html": [
              " View run at <a href='https://wandb.ai/piramu-ci-sri-sairam-engineering-college/huggingface/runs/uwqp8gm9' target=\"_blank\">https://wandb.ai/piramu-ci-sri-sairam-engineering-college/huggingface/runs/uwqp8gm9</a>"
            ]
          },
          "metadata": {}
        },
        {
          "output_type": "stream",
          "name": "stderr",
          "text": [
            "/usr/local/lib/python3.12/dist-packages/torch/utils/data/dataloader.py:666: UserWarning: 'pin_memory' argument is set as true but no accelerator is found, then device pinned memory won't be used.\n",
            "  warnings.warn(warn_msg)\n"
          ]
        },
        {
          "output_type": "display_data",
          "data": {
            "text/plain": [
              "<IPython.core.display.HTML object>"
            ],
            "text/html": [
              "\n",
              "    <div>\n",
              "      \n",
              "      <progress value='43' max='3000' style='width:300px; height:20px; vertical-align: middle;'></progress>\n",
              "      [  43/3000 14:03 < 16:53:42, 0.05 it/s, Epoch 0.04/3]\n",
              "    </div>\n",
              "    <table border=\"1\" class=\"dataframe\">\n",
              "  <thead>\n",
              " <tr style=\"text-align: left;\">\n",
              "      <th>Epoch</th>\n",
              "      <th>Training Loss</th>\n",
              "      <th>Validation Loss</th>\n",
              "    </tr>\n",
              "  </thead>\n",
              "  <tbody>\n",
              "  </tbody>\n",
              "</table><p>"
            ]
          },
          "metadata": {}
        }
      ]
    },
    {
      "cell_type": "code",
      "source": [
        "import transformers\n",
        "print(transformers.__version__)\n"
      ],
      "metadata": {
        "colab": {
          "base_uri": "https://localhost:8080/"
        },
        "id": "3CyFdAIiUVhs",
        "outputId": "68e5cef7-e172-4a92-dae8-e303c96d5a7f"
      },
      "execution_count": 41,
      "outputs": [
        {
          "output_type": "stream",
          "name": "stdout",
          "text": [
            "4.56.1\n"
          ]
        }
      ]
    },
    {
      "cell_type": "code",
      "source": [
        "#Evaluate\n",
        "metrics = trainer.evaluate(test_ds)\n",
        "print(metrics)\n"
      ],
      "metadata": {
        "id": "2B0MT-yMSdhJ"
      },
      "execution_count": null,
      "outputs": []
    },
    {
      "cell_type": "code",
      "source": [
        "#vi. Check for overfitting and underfitting\n",
        "#For RNN/LSTM/GRU (Keras Models)\n",
        "import matplotlib.pyplot as plt\n",
        "\n",
        "def plot_history(history, title=\"Model Training\"):\n",
        "    plt.figure(figsize=(12,5))\n",
        "\n",
        "    # Plot loss\n",
        "    plt.subplot(1,2,1)\n",
        "    plt.plot(history.history['loss'], label=\"Train Loss\")\n",
        "    plt.plot(history.history['val_loss'], label=\"Val Loss\")\n",
        "    plt.title(f\"{title} - Loss\")\n",
        "    plt.xlabel(\"Epochs\")\n",
        "    plt.ylabel(\"Loss\")\n",
        "    plt.legend()\n",
        "\n",
        "    # Plot accuracy\n",
        "    plt.subplot(1,2,2)\n",
        "    plt.plot(history.history['accuracy'], label=\"Train Acc\")\n",
        "    plt.plot(history.history['val_accuracy'], label=\"Val Acc\")\n",
        "    plt.title(f\"{title} - Accuracy\")\n",
        "    plt.xlabel(\"Epochs\")\n",
        "    plt.ylabel(\"Accuracy\")\n",
        "    plt.legend()\n",
        "\n",
        "    plt.show()\n"
      ],
      "metadata": {
        "id": "9n9OaS9BSitY"
      },
      "execution_count": null,
      "outputs": []
    },
    {
      "cell_type": "code",
      "source": [
        "plot_history(history, title=\"LSTM\")\n"
      ],
      "metadata": {
        "id": "Bmj2fP5YTOnP"
      },
      "execution_count": null,
      "outputs": []
    },
    {
      "cell_type": "code",
      "source": [
        "#For Transformer Models (Hugging Face Trainer)\n",
        "logs = trainer.state.log_history\n",
        "train_loss = [x[\"loss\"] for x in logs if \"loss\" in x.keys() and \"epoch\" in x]\n",
        "eval_loss  = [x[\"eval_loss\"] for x in logs if \"eval_loss\" in x.keys()]\n",
        "epochs     = range(1, len(eval_loss)+1)\n",
        "\n",
        "plt.plot(epochs, train_loss[:len(eval_loss)], label=\"Train Loss\")\n",
        "plt.plot(epochs, eval_loss, label=\"Validation Loss\")\n",
        "plt.xlabel(\"Epochs\")\n",
        "plt.ylabel(\"Loss\")\n",
        "plt.title(\"Transformer Training Loss\")\n",
        "plt.legend()\n",
        "plt.show()\n"
      ],
      "metadata": {
        "id": "850Jo9FDTSAn"
      },
      "execution_count": null,
      "outputs": []
    },
    {
      "cell_type": "code",
      "source": [
        "#Check Evaluation Metrics\n",
        "from sklearn.metrics import classification_report\n",
        "\n",
        "preds = trainer.predict(test_ds)\n",
        "y_true = test_df[\"label_enc\"]\n",
        "y_pred = preds.predictions.argmax(axis=1)\n",
        "\n",
        "print(classification_report(y_true, y_pred, target_names=le.classes_))\n"
      ],
      "metadata": {
        "id": "yzeuTjq9TWce"
      },
      "execution_count": null,
      "outputs": []
    },
    {
      "cell_type": "code",
      "source": [
        "#vii. Finally create a table to compare the performances of all the models and suggest the best model\n",
        "#Create a Comparison Table\n",
        "import pandas as pd\n",
        "\n",
        "# Example results (replace with your actual values)\n",
        "results = {\n",
        "    \"Model\": [\n",
        "        \"Logistic Regression\", \"Decision Tree\", \"Random Forest\",\n",
        "        \"Simple RNN\", \"LSTM\", \"GRU\", \"BiLSTM\", \"Stacked LSTM\",\n",
        "        \"BERT\", \"DistilBERT\", \"RoBERTa\"\n",
        "    ],\n",
        "    \"Test Accuracy\": [0.64, 0.58, 0.67, 0.69, 0.74, 0.75, 0.77, 0.78, 0.84, 0.82, 0.86],\n",
        "    \"F1-Score\":      [0.63, 0.55, 0.66, 0.68, 0.73, 0.74, 0.76, 0.77, 0.83, 0.81, 0.85]\n",
        "}\n",
        "\n",
        "df_results = pd.DataFrame(results)\n",
        "print(df_results)\n"
      ],
      "metadata": {
        "id": "gz0JiaYxTasG"
      },
      "execution_count": null,
      "outputs": []
    },
    {
      "cell_type": "code",
      "source": [
        "#Plot Performance Comparison\n",
        "import matplotlib.pyplot as plt\n",
        "\n",
        "plt.figure(figsize=(12,6))\n",
        "plt.bar(df_results[\"Model\"], df_results[\"Test Accuracy\"], alpha=0.6, label=\"Accuracy\")\n",
        "plt.bar(df_results[\"Model\"], df_results[\"F1-Score\"], alpha=0.6, label=\"F1-Score\")\n",
        "plt.xticks(rotation=45, ha=\"right\")\n",
        "plt.ylabel(\"Score\")\n",
        "plt.title(\"Model Performance Comparison (Emotions Dataset)\")\n",
        "plt.legend()\n",
        "plt.show()\n"
      ],
      "metadata": {
        "id": "52XXUdU6Tn8v"
      },
      "execution_count": null,
      "outputs": []
    },
    {
      "cell_type": "code",
      "source": [
        "#Suggest Best Model\n",
        "best_model = df_results.loc[df_results[\"F1-Score\"].idxmax()]\n",
        "print(\"🏆 Best Model:\", best_model[\"Model\"])\n",
        "print(\"   Accuracy:\", best_model[\"Test Accuracy\"])\n",
        "print(\"   F1-Score:\", best_model[\"F1-Score\"])\n"
      ],
      "metadata": {
        "id": "2lyGBmTnTsVV"
      },
      "execution_count": null,
      "outputs": []
    },
    {
      "cell_type": "markdown",
      "source": [
        "d)\tExplain the different types of feature engineering techniques like one hot encoding, bag of words, TFIDF etc. How word2vec is different from them. Explain its working with example.\n",
        "1. One-Hot Encoding\n",
        "Each word in the vocabulary is represented as a binary vector.\n",
        "Vector length = vocabulary size.\n",
        "Example: Suppose vocabulary = {dog, cat, fish}\n",
        "\n",
        "\"dog\" → [1, 0, 0]\n",
        "\"cat\" → [0, 1, 0]\n",
        "\"fish\" → [0, 0, 1]\n",
        "\n",
        "Advantage → Simple and easy.\n",
        "Limitation → Doesn’t capture word meaning or similarity; very high-dimensional if vocab is large.\n",
        "\n",
        "\n",
        "2. Bag of Words (BoW)\n",
        "\n",
        "Represents a text as a frequency count vector of words (ignores grammar & order).\n",
        "\n",
        "Example:\n",
        "Doc1: \"dog barks\"\n",
        "Doc2: \"cat meows dog\"\n",
        "Vocabulary = {dog, cat, barks, meows}\n",
        "\n",
        "Doc1 → [1, 0, 1, 0]\n",
        "Doc2 → [1, 1, 0, 1]\n",
        "Advantage → Works well for simple text classification.\n",
        "Limitation → Ignores context and word order.\n",
        "\n",
        "3. TF-IDF (Term Frequency – Inverse Document Frequency)\n",
        "\n",
        "Improves BoW by giving weights to words:\n",
        "\n",
        "Term Frequency (TF) → How often a word appears in a document.\n",
        "\n",
        "Inverse Document Frequency (IDF) → How rare the word is across all documents.\n",
        "\n",
        "Advantage → Reduces importance of common words (like the, is, a) and highlights rare, meaningful words.\n",
        "Limitation → Still ignores context/semantics; words are independent.\n",
        "\n",
        "4. Word2Vec (Word Embeddings)\n",
        "\n",
        "Unlike the above, Word2Vec learns dense, low-dimensional vector representations of words based on their context.\n",
        "\n",
        "Instead of “dog” being [1, 0, 0, ...], it might be [0.23, -0.56, 0.78, ...] (say 100 dimensions).\n",
        "\n",
        "Words with similar meaning have similar vectors.\n",
        "\n",
        "Example:\n",
        "\n",
        "\"king\" ≈ \"queen\" in meaning, so their vectors will be close in space.\n",
        "\n",
        "Famous relation:\n",
        "\n",
        "vector(\"king\")−vector(\"man\")+vector(\"woman\")≈\n",
        "vector(\"queen\")\n",
        "vector(\"king\")−vector(\"man\")+vector(\"woman\")≈vector(\"queen\")\n",
        "\n",
        "Advantage → Captures semantic similarity and relationships between words.\n",
        "Limitation → Context-independent (same word vector for “bank” = river bank or money bank).\n",
        "\n",
        "5. How Word2Vec Works\n",
        "\n",
        "Word2Vec uses neural networks with two main architectures:\n",
        "CBOW (Continuous Bag of Words)\n",
        "Predicts a word from its context.\n",
        "Example: \"the ___ barks\" → predict \"dog\".\n",
        "Skip-gram\n",
        "Predicts context from a word.\n",
        "Example: \"dog\" → predict words like \"barks\", \"tail\", \"pet\".\n",
        "Training learns word vectors such that words appearing in similar contexts get similar embeddings.\n",
        "\n",
        "Example in Python\n",
        "\n",
        "from gensim.models import Word2Vec\n",
        "\n",
        "# Sample corpus\n",
        "sentences = [[\"dog\", \"barks\"],\n",
        "             [\"cat\", \"meows\"],\n",
        "             [\"dog\", \"chases\", \"cat\"]]\n",
        "\n",
        "# Train Word2Vec\n",
        "model = Word2Vec(sentences, vector_size=50, window=3, min_count=1, sg=1)  # sg=1 => skip-gram\n",
        "\n",
        "# Get vector for a word\n",
        "print(\"Vector for 'dog':\", model.wv[\"dog\"])\n",
        "\n",
        "# Find similar words\n",
        "print(\"Most similar to 'dog':\", model.wv.most_similar(\"dog\"))\n"
      ],
      "metadata": {
        "id": "-IbDavRwLDiM"
      }
    },
    {
      "cell_type": "code",
      "source": [],
      "metadata": {
        "id": "KGUUAHYdOtz7"
      },
      "execution_count": null,
      "outputs": []
    }
  ]
}